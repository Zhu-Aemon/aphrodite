{
 "cells": [
  {
   "cell_type": "code",
   "outputs": [
    {
     "data": {
      "text/plain": "  indicator        US       CN       EU       JP      DE      GB       FR  \\\n0       GDP    25.44T  17.963T  14.136T   4.232T  4.082T  3.089T   2.779T   \n1       POP  334.229M    1.41B  345.41M  124.95M   84.4M  67.79M   68.14M   \n2     GDPYY     3.10%    5.20%    0.10%    1.00%  −0.20%  −0.20%    0.70%   \n3      INTR     5.50%    3.45%    4.50%   −0.10%   4.50%   5.25%    4.25%   \n4      IRYY     3.10%   −0.80%    2.90%    2.60%   2.90%   4.00%    3.10%   \n5        UR     3.70%    5.10%    6.40%    2.40%   5.80%   3.80%    7.50%   \n6       CAG    −3.70%    2.20%   −0.60%    1.80%   4.20%  −5.60%   −2.00%   \n7       GDG   129.00%   77.10%   90.90%  263.90%  66.10%  97.10%  111.80%   \n\n       RU       CA       IT      AU  \n0   2.24T   2.138T    2.05T  1.693T  \n1  145.6M   39.29M   58.98M  26.27M  \n2   5.50%    0.47%    0.50%   2.10%  \n3  16.00%    5.00%    4.25%   4.35%  \n4   7.40%    3.40%    0.76%   4.10%  \n5   3.00%    5.70%    7.20%   4.10%  \n6  10.30%   −0.40%   −1.50%   0.00%  \n7  17.20%  107.00%  141.70%  22.30%  ",
      "text/html": "<div>\n<style scoped>\n    .dataframe tbody tr th:only-of-type {\n        vertical-align: middle;\n    }\n\n    .dataframe tbody tr th {\n        vertical-align: top;\n    }\n\n    .dataframe thead th {\n        text-align: right;\n    }\n</style>\n<table border=\"1\" class=\"dataframe\">\n  <thead>\n    <tr style=\"text-align: right;\">\n      <th></th>\n      <th>indicator</th>\n      <th>US</th>\n      <th>CN</th>\n      <th>EU</th>\n      <th>JP</th>\n      <th>DE</th>\n      <th>GB</th>\n      <th>FR</th>\n      <th>RU</th>\n      <th>CA</th>\n      <th>IT</th>\n      <th>AU</th>\n    </tr>\n  </thead>\n  <tbody>\n    <tr>\n      <th>0</th>\n      <td>GDP</td>\n      <td>25.44T</td>\n      <td>17.963T</td>\n      <td>14.136T</td>\n      <td>4.232T</td>\n      <td>4.082T</td>\n      <td>3.089T</td>\n      <td>2.779T</td>\n      <td>2.24T</td>\n      <td>2.138T</td>\n      <td>2.05T</td>\n      <td>1.693T</td>\n    </tr>\n    <tr>\n      <th>1</th>\n      <td>POP</td>\n      <td>334.229M</td>\n      <td>1.41B</td>\n      <td>345.41M</td>\n      <td>124.95M</td>\n      <td>84.4M</td>\n      <td>67.79M</td>\n      <td>68.14M</td>\n      <td>145.6M</td>\n      <td>39.29M</td>\n      <td>58.98M</td>\n      <td>26.27M</td>\n    </tr>\n    <tr>\n      <th>2</th>\n      <td>GDPYY</td>\n      <td>3.10%</td>\n      <td>5.20%</td>\n      <td>0.10%</td>\n      <td>1.00%</td>\n      <td>−0.20%</td>\n      <td>−0.20%</td>\n      <td>0.70%</td>\n      <td>5.50%</td>\n      <td>0.47%</td>\n      <td>0.50%</td>\n      <td>2.10%</td>\n    </tr>\n    <tr>\n      <th>3</th>\n      <td>INTR</td>\n      <td>5.50%</td>\n      <td>3.45%</td>\n      <td>4.50%</td>\n      <td>−0.10%</td>\n      <td>4.50%</td>\n      <td>5.25%</td>\n      <td>4.25%</td>\n      <td>16.00%</td>\n      <td>5.00%</td>\n      <td>4.25%</td>\n      <td>4.35%</td>\n    </tr>\n    <tr>\n      <th>4</th>\n      <td>IRYY</td>\n      <td>3.10%</td>\n      <td>−0.80%</td>\n      <td>2.90%</td>\n      <td>2.60%</td>\n      <td>2.90%</td>\n      <td>4.00%</td>\n      <td>3.10%</td>\n      <td>7.40%</td>\n      <td>3.40%</td>\n      <td>0.76%</td>\n      <td>4.10%</td>\n    </tr>\n    <tr>\n      <th>5</th>\n      <td>UR</td>\n      <td>3.70%</td>\n      <td>5.10%</td>\n      <td>6.40%</td>\n      <td>2.40%</td>\n      <td>5.80%</td>\n      <td>3.80%</td>\n      <td>7.50%</td>\n      <td>3.00%</td>\n      <td>5.70%</td>\n      <td>7.20%</td>\n      <td>4.10%</td>\n    </tr>\n    <tr>\n      <th>6</th>\n      <td>CAG</td>\n      <td>−3.70%</td>\n      <td>2.20%</td>\n      <td>−0.60%</td>\n      <td>1.80%</td>\n      <td>4.20%</td>\n      <td>−5.60%</td>\n      <td>−2.00%</td>\n      <td>10.30%</td>\n      <td>−0.40%</td>\n      <td>−1.50%</td>\n      <td>0.00%</td>\n    </tr>\n    <tr>\n      <th>7</th>\n      <td>GDG</td>\n      <td>129.00%</td>\n      <td>77.10%</td>\n      <td>90.90%</td>\n      <td>263.90%</td>\n      <td>66.10%</td>\n      <td>97.10%</td>\n      <td>111.80%</td>\n      <td>17.20%</td>\n      <td>107.00%</td>\n      <td>141.70%</td>\n      <td>22.30%</td>\n    </tr>\n  </tbody>\n</table>\n</div>"
     },
     "execution_count": 30,
     "metadata": {},
     "output_type": "execute_result"
    }
   ],
   "source": [
    "from selenium import webdriver\n",
    "from selenium.webdriver.common.by import By\n",
    "from selenium.webdriver.chrome.options import Options\n",
    "from selenium.webdriver.support.ui import WebDriverWait\n",
    "from selenium.webdriver.support import expected_conditions as EC\n",
    "\n",
    "import pandas as pd\n",
    "import numpy as np\n",
    "\n",
    "def scrape_indicator():\n",
    "    indicator_url = \"https://www.tradingview.com/markets/world-economy/indicators/\"\n",
    "    prefix = \"https://www.tradingview.com/symbols/ECONOMICS-\"\n",
    "    country_suffix = [\"US\", \"CN\", \"EU\", \"JP\", \"DE\", \"GB\", \"FR\", \"RU\", \"CA\", \"IT\", \"AU\"]\n",
    "    indicator_suffix = ['GDP', 'POP', 'GDPYY', 'INTR', 'IRYY', 'UR', 'CAG', 'GDG']\n",
    "    \n",
    "    chrome_options = Options()\n",
    "    chrome_options.binary_location = r\"C:\\Program Files\\Google\\Chrome\\Application\\chrome.exe\"\n",
    "    driver = webdriver.Chrome(options=chrome_options)\n",
    "    driver.get(indicator_url)\n",
    "    \n",
    "    try:\n",
    "        # wait for the web content to load\n",
    "        target = WebDriverWait(driver, 10).until(\n",
    "            EC.visibility_of_element_located((By.XPATH, '//a[contains(@href,\"ECONOMICS-USGDP\")]'))\n",
    "        )\n",
    "        \n",
    "        # init value dataframe\n",
    "        value_df = pd.DataFrame(np.zeros((len(indicator_suffix), len(country_suffix) + 1)), columns=['indicator'] + country_suffix)\n",
    "        value_df['indicator'] = pd.Series(indicator_suffix)\n",
    "        \n",
    "        for country in country_suffix:\n",
    "            for indicator in indicator_suffix:\n",
    "                indicator_path = f'//a[contains(@href,\"ECONOMICS-{country + indicator}\")]'\n",
    "                indicator_value = driver.find_element(By.XPATH, indicator_path).find_element(By.CSS_SELECTOR, \"span\").text\n",
    "                value_df.loc[indicator_suffix.index(indicator), country] = indicator_value\n",
    "        \n",
    "        return value_df\n",
    "    \n",
    "    finally:\n",
    "        # close window\n",
    "        driver.quit()\n",
    "\n",
    "# 执行爬取并打印结果\n",
    "indicator = scrape_indicator()\n",
    "indicator"
   ],
   "metadata": {
    "collapsed": false,
    "ExecuteTime": {
     "end_time": "2024-02-16T10:22:09.582846600Z",
     "start_time": "2024-02-16T10:21:53.802821700Z"
    }
   },
   "id": "328b9bce61be8afd",
   "execution_count": 30
  },
  {
   "cell_type": "code",
   "outputs": [
    {
     "data": {
      "text/plain": "'2024-02-16'"
     },
     "execution_count": 31,
     "metadata": {},
     "output_type": "execute_result"
    }
   ],
   "source": [
    "import datetime\n",
    "\n",
    "today = datetime.datetime.now().date()\n",
    "str(today)"
   ],
   "metadata": {
    "collapsed": false,
    "ExecuteTime": {
     "end_time": "2024-02-16T11:02:06.955255500Z",
     "start_time": "2024-02-16T11:02:06.935108500Z"
    }
   },
   "id": "b17ab39777f88114",
   "execution_count": 31
  },
  {
   "cell_type": "code",
   "outputs": [],
   "source": [],
   "metadata": {
    "collapsed": false
   },
   "id": "c8278bea488d6e89"
  }
 ],
 "metadata": {
  "kernelspec": {
   "display_name": "Python 3",
   "language": "python",
   "name": "python3"
  },
  "language_info": {
   "codemirror_mode": {
    "name": "ipython",
    "version": 2
   },
   "file_extension": ".py",
   "mimetype": "text/x-python",
   "name": "python",
   "nbconvert_exporter": "python",
   "pygments_lexer": "ipython2",
   "version": "2.7.6"
  }
 },
 "nbformat": 4,
 "nbformat_minor": 5
}
