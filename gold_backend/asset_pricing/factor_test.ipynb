{
 "cells": [
  {
   "cell_type": "markdown",
   "source": [
    "# 数据导入与清洗"
   ],
   "metadata": {
    "collapsed": false
   },
   "id": "dcdf1b62edf15f7"
  },
  {
   "cell_type": "code",
   "execution_count": null,
   "outputs": [],
   "source": [
    "import pandas as pd\n",
    "import numpy as np\n",
    "import matplotlib.pyplot as plt\n",
    "import shutup\n",
    "\n",
    "shutup.please()\n",
    "\n",
    "data = pd.read_csv(\"EURGBP.csv\", sep='\\t')\n",
    "# data.drop(columns=['<TIME>'], inplace=True)\n",
    "data"
   ],
   "metadata": {
    "collapsed": false
   },
   "id": "initial_id"
  },
  {
   "cell_type": "code",
   "execution_count": null,
   "outputs": [],
   "source": [
    "data = data.iloc[:, :-2]\n",
    "data"
   ],
   "metadata": {
    "collapsed": false
   },
   "id": "91c3bc587d337ce5"
  },
  {
   "cell_type": "markdown",
   "source": [
    "## 构建乖离度指标"
   ],
   "metadata": {
    "collapsed": false
   },
   "id": "3d017572c2a96cb3"
  },
  {
   "cell_type": "code",
   "execution_count": null,
   "outputs": [],
   "source": [
    "data['bias'] = data['<CLOSE>'] / data['<CLOSE>'].rolling(5).mean() - 1\n",
    "data"
   ],
   "metadata": {
    "collapsed": false
   },
   "id": "a7c9e7c01449b564"
  },
  {
   "cell_type": "code",
   "execution_count": null,
   "outputs": [],
   "source": [
    "data['return5'] = data['<CLOSE>'] / np.roll(data['<CLOSE>'], 5) - 1\n",
    "data"
   ],
   "metadata": {
    "collapsed": false
   },
   "id": "c2139d129540b2c0"
  },
  {
   "cell_type": "markdown",
   "source": [
    "### 对乖离度指标进行回归"
   ],
   "metadata": {
    "collapsed": false
   },
   "id": "7df4f38e20127bfb"
  },
  {
   "cell_type": "code",
   "execution_count": null,
   "outputs": [],
   "source": [
    "import statsmodels.api as sm\n",
    "data_to_reg = data.dropna()\n",
    "data_to_reg = data_to_reg[(data_to_reg.mean() - 3 * data_to_reg.std() < data_to_reg) & (data_to_reg < data_to_reg.mean() + 3 * data_to_reg.std())]\n",
    "data_to_reg = data_to_reg.iloc[:, 1:].dropna()\n",
    "y1 = data_to_reg['return5']\n",
    "x1 = data_to_reg[['bias']]\n",
    "x1 = sm.add_constant(x1)\n",
    "mod = sm.OLS(y1, x1)\n",
    "res = mod.fit()\n",
    "print(res.summary())"
   ],
   "metadata": {
    "collapsed": false
   },
   "id": "8faa5ef21b990d6e"
  },
  {
   "cell_type": "code",
   "execution_count": null,
   "outputs": [],
   "source": [
    "plt.scatter(res.predict(x1), data_to_reg['return5'])\n",
    "x_set = np.linspace(-0.04, 0.04, 1000)\n",
    "y_set = x_set\n",
    "plt.plot(x_set, y_set)\n",
    "plt.show()"
   ],
   "metadata": {
    "collapsed": false
   },
   "id": "71a85f2c403b34f7"
  },
  {
   "cell_type": "markdown",
   "source": [
    "乖离度指标表现很好"
   ],
   "metadata": {
    "collapsed": false
   },
   "id": "adaefbdb4197437e"
  },
  {
   "cell_type": "markdown",
   "source": [
    "## 构建ATR指标"
   ],
   "metadata": {
    "collapsed": false
   },
   "id": "ef39bbad4a9a2c5f"
  },
  {
   "cell_type": "code",
   "execution_count": null,
   "outputs": [],
   "source": [
    "from ta.volatility import AverageTrueRange\n",
    "\n",
    "ATR = AverageTrueRange(data['<HIGH>'], data['<LOW>'], data['<CLOSE>'], window=5).average_true_range()\n",
    "data['ATR'] = ATR\n",
    "data"
   ],
   "metadata": {
    "collapsed": false
   },
   "id": "c37680e7aa6d263"
  },
  {
   "cell_type": "code",
   "execution_count": null,
   "outputs": [],
   "source": [
    "data_to_reg = data.dropna()\n",
    "data_to_reg = data_to_reg[(data_to_reg.mean() - 3 * data_to_reg.std() < data_to_reg) & (data_to_reg < data_to_reg.mean() + 3 * data_to_reg.std())]\n",
    "data_to_reg = data_to_reg.iloc[:, 1:].dropna()\n",
    "y1 = data_to_reg['return5']\n",
    "x1 = data_to_reg[['ATR']]\n",
    "x1 = sm.add_constant(x1)\n",
    "mod = sm.OLS(y1, x1)\n",
    "res = mod.fit()\n",
    "print(res.summary())"
   ],
   "metadata": {
    "collapsed": false
   },
   "id": "f1237abfbc2d9bb9"
  },
  {
   "cell_type": "markdown",
   "source": [
    "ATR指标一坨"
   ],
   "metadata": {
    "collapsed": false
   },
   "id": "b3e37af927d41c2a"
  },
  {
   "cell_type": "code",
   "execution_count": null,
   "outputs": [],
   "source": [
    "plt.scatter(res.predict(x1), data_to_reg['return5'])\n",
    "x_set = np.linspace(-0.04, 0.04, 1000)\n",
    "y_set = x_set\n",
    "plt.plot(x_set, y_set)\n",
    "plt.show()"
   ],
   "metadata": {
    "collapsed": false
   },
   "id": "182d8bf0ed7b6773"
  },
  {
   "cell_type": "markdown",
   "source": [
    "## 构建CCI指标"
   ],
   "metadata": {
    "collapsed": false
   },
   "id": "94e59572c68dd979"
  },
  {
   "cell_type": "code",
   "execution_count": null,
   "outputs": [],
   "source": [
    "from ta.trend import CCIIndicator\n",
    "\n",
    "CCI = CCIIndicator(data['<HIGH>'], data['<LOW>'], data['<CLOSE>'], window=5).cci()\n",
    "data['cci'] = CCI\n",
    "data"
   ],
   "metadata": {
    "collapsed": false
   },
   "id": "88e6a0f5073418be"
  },
  {
   "cell_type": "code",
   "execution_count": null,
   "outputs": [],
   "source": [
    "data_to_reg = data.dropna()\n",
    "data_to_reg = data_to_reg[(data_to_reg.mean() - 3 * data_to_reg.std() < data_to_reg) & (data_to_reg < data_to_reg.mean() + 3 * data_to_reg.std())]\n",
    "data_to_reg = data_to_reg.iloc[:, 1:].dropna()\n",
    "y1 = data_to_reg['return5']\n",
    "x1 = data_to_reg[['cci']]\n",
    "x1 = sm.add_constant(x1)\n",
    "mod = sm.OLS(y1, x1)\n",
    "res = mod.fit()\n",
    "print(res.summary())"
   ],
   "metadata": {
    "collapsed": false
   },
   "id": "c397f432ab45ef9d"
  },
  {
   "cell_type": "code",
   "execution_count": null,
   "outputs": [],
   "source": [
    "data_to_reg = data.dropna()\n",
    "data_to_reg = data_to_reg[(data_to_reg.mean() - 3 * data_to_reg.std() < data_to_reg) & (data_to_reg < data_to_reg.mean() + 3 * data_to_reg.std())]\n",
    "data_to_reg = data_to_reg.iloc[:, 1:].dropna()\n",
    "y1 = data_to_reg['return5']\n",
    "x1 = data_to_reg[['cci', 'bias']]\n",
    "x1 = sm.add_constant(x1)\n",
    "mod = sm.OLS(y1, x1)\n",
    "res = mod.fit()\n",
    "print(res.summary())"
   ],
   "metadata": {
    "collapsed": false
   },
   "id": "59641a020371e6aa"
  },
  {
   "cell_type": "markdown",
   "source": [
    "Bias是比CCI更好的指标"
   ],
   "metadata": {
    "collapsed": false
   },
   "id": "b9e892dee01ae57e"
  },
  {
   "cell_type": "markdown",
   "source": [
    "## 构建RSI"
   ],
   "metadata": {
    "collapsed": false
   },
   "id": "954406b4126609ed"
  },
  {
   "cell_type": "code",
   "execution_count": null,
   "outputs": [],
   "source": [
    "from ta.momentum import RSIIndicator\n",
    "\n",
    "RSI = RSIIndicator(data['<CLOSE>'], window=5).rsi()\n",
    "data['rsi'] = RSI\n",
    "data"
   ],
   "metadata": {
    "collapsed": false
   },
   "id": "1fa4c8aa869b4fb7"
  },
  {
   "cell_type": "code",
   "execution_count": null,
   "outputs": [],
   "source": [
    "data_to_reg = data.dropna()\n",
    "data_to_reg = data_to_reg[(data_to_reg.mean() - 3 * data_to_reg.std() < data_to_reg) & (data_to_reg < data_to_reg.mean() + 3 * data_to_reg.std())]\n",
    "data_to_reg = data_to_reg.iloc[:, 1:].dropna()\n",
    "y1 = data_to_reg['return5']\n",
    "x1 = data_to_reg[['rsi']]\n",
    "x1 = sm.add_constant(x1)\n",
    "mod = sm.OLS(y1, x1)\n",
    "res = mod.fit()\n",
    "print(res.summary())"
   ],
   "metadata": {
    "collapsed": false
   },
   "id": "2119aa3b3b8a9ef4"
  },
  {
   "cell_type": "code",
   "execution_count": null,
   "outputs": [],
   "source": [
    "data_to_reg = data.dropna()\n",
    "data_to_reg = data_to_reg[(data_to_reg.mean() - 3 * data_to_reg.std() < data_to_reg) & (data_to_reg < data_to_reg.mean() + 3 * data_to_reg.std())]\n",
    "data_to_reg = data_to_reg.iloc[:, 1:].dropna()\n",
    "y1 = data_to_reg['return5']\n",
    "x1 = data_to_reg[['rsi', 'bias']]\n",
    "x1 = sm.add_constant(x1)\n",
    "mod = sm.OLS(y1, x1)\n",
    "res = mod.fit()\n",
    "print(res.summary())"
   ],
   "metadata": {
    "collapsed": false
   },
   "id": "73b29060c273ac75"
  },
  {
   "cell_type": "markdown",
   "source": [
    "## 构建ADX"
   ],
   "metadata": {
    "collapsed": false
   },
   "id": "c7c42de65e916c5c"
  },
  {
   "cell_type": "code",
   "execution_count": null,
   "outputs": [],
   "source": [
    "from ta.trend import ADXIndicator\n",
    "\n",
    "ADX = ADXIndicator(data['<HIGH>'], data['<LOW>'], data['<CLOSE>'], window=5).adx()\n",
    "data['adx'] = ADX\n",
    "data"
   ],
   "metadata": {
    "collapsed": false
   },
   "id": "1a01890fefda99c"
  },
  {
   "cell_type": "code",
   "execution_count": null,
   "outputs": [],
   "source": [
    "data_to_reg = data.dropna()\n",
    "data_to_reg = data_to_reg[(data_to_reg.mean() - 3 * data_to_reg.std() < data_to_reg) & (data_to_reg < data_to_reg.mean() + 3 * data_to_reg.std())]\n",
    "data_to_reg = data_to_reg.iloc[:, 1:].dropna()\n",
    "y1 = data_to_reg['return5']\n",
    "x1 = data_to_reg[['adx']]\n",
    "x1 = sm.add_constant(x1)\n",
    "mod = sm.OLS(y1, x1)\n",
    "res = mod.fit()\n",
    "print(res.summary())"
   ],
   "metadata": {
    "collapsed": false
   },
   "id": "64d7f91f4e9ca81f"
  },
  {
   "cell_type": "markdown",
   "source": [
    "adx也是一坨"
   ],
   "metadata": {
    "collapsed": false
   },
   "id": "440982a791528dc8"
  },
  {
   "cell_type": "markdown",
   "source": [
    "## 试一试mean reversion"
   ],
   "metadata": {
    "collapsed": false
   },
   "id": "3da10eabff173dc9"
  },
  {
   "cell_type": "code",
   "execution_count": null,
   "outputs": [],
   "source": [
    "data['mv'] = np.log(data['<OPEN>'] / np.roll(data['<CLOSE>'], 1)).rolling(5).sum()\n",
    "data"
   ],
   "metadata": {
    "collapsed": false
   },
   "id": "9cac054cc6631e26"
  },
  {
   "cell_type": "code",
   "execution_count": null,
   "outputs": [],
   "source": [
    "data_to_reg = data.dropna()\n",
    "data_to_reg = data_to_reg[(data_to_reg.mean() - 3 * data_to_reg.std() < data_to_reg) & (data_to_reg < data_to_reg.mean() + 3 * data_to_reg.std())]\n",
    "data_to_reg = data_to_reg.iloc[:, 1:].dropna()\n",
    "y1 = data_to_reg['return5']\n",
    "x1 = data_to_reg[['mv']]\n",
    "x1 = sm.add_constant(x1)\n",
    "mod = sm.OLS(y1, x1)\n",
    "res = mod.fit()\n",
    "print(res.summary())"
   ],
   "metadata": {
    "collapsed": false
   },
   "id": "1777bce99b630279"
  },
  {
   "cell_type": "code",
   "execution_count": null,
   "outputs": [],
   "source": [
    "data[['rsi', 'bias', 'mv']].corr()"
   ],
   "metadata": {
    "collapsed": false
   },
   "id": "5ab6c5a85eb3df74"
  },
  {
   "cell_type": "code",
   "execution_count": null,
   "outputs": [],
   "source": [
    "data_to_reg = data.dropna()\n",
    "data_to_reg = data_to_reg[(data_to_reg.mean() - 3 * data_to_reg.std() < data_to_reg) & (data_to_reg < data_to_reg.mean() + 3 * data_to_reg.std())]\n",
    "data_to_reg = data_to_reg.iloc[:, 1:].dropna()\n",
    "y1 = data_to_reg['return5']\n",
    "x1 = data_to_reg[['rsi', 'bias']]\n",
    "x1 = sm.add_constant(x1)\n",
    "mod = sm.OLS(y1, x1)\n",
    "res = mod.fit()\n",
    "print(res.summary())"
   ],
   "metadata": {
    "collapsed": false
   },
   "id": "3d75fca30b8c2216"
  },
  {
   "cell_type": "markdown",
   "source": [
    "## 构建动量因子"
   ],
   "metadata": {
    "collapsed": false
   },
   "id": "8501c61d0ed06d5f"
  },
  {
   "cell_type": "code",
   "execution_count": null,
   "outputs": [],
   "source": [
    "data['momentum'] = pd.DataFrame(np.log(np.roll(data['<CLOSE>'], 1) / np.roll(data['<OPEN>'], 1))).rolling(5).sum()\n",
    "data"
   ],
   "metadata": {
    "collapsed": false
   },
   "id": "b69baef2cb755a58"
  },
  {
   "cell_type": "code",
   "execution_count": null,
   "outputs": [],
   "source": [
    "data_to_reg = data.dropna()\n",
    "data_to_reg = data_to_reg[(data_to_reg.mean() - 3 * data_to_reg.std() < data_to_reg) & (data_to_reg < data_to_reg.mean() + 3 * data_to_reg.std())]\n",
    "data_to_reg = data_to_reg.iloc[:, 1:].dropna()\n",
    "y1 = data_to_reg['return5']\n",
    "x1 = data_to_reg[['momentum']]\n",
    "x1 = sm.add_constant(x1)\n",
    "mod = sm.OLS(y1, x1)\n",
    "res = mod.fit()\n",
    "print(res.summary())"
   ],
   "metadata": {
    "collapsed": false
   },
   "id": "67ba1a11990ac8b2"
  },
  {
   "cell_type": "code",
   "execution_count": null,
   "outputs": [],
   "source": [
    "data[['rsi', 'bias', 'momentum']].corr()"
   ],
   "metadata": {
    "collapsed": false
   },
   "id": "1b918e3bb57b081b"
  },
  {
   "cell_type": "code",
   "execution_count": null,
   "outputs": [],
   "source": [
    "data_to_reg = data.dropna()\n",
    "data_to_reg = data_to_reg[(data_to_reg.mean() - 3 * data_to_reg.std() < data_to_reg) & (data_to_reg < data_to_reg.mean() + 3 * data_to_reg.std())]\n",
    "data_to_reg = data_to_reg.iloc[:, 1:].dropna()\n",
    "y1 = data_to_reg['return5']\n",
    "x1 = data_to_reg[['momentum', 'rsi', 'bias']]\n",
    "x1 = sm.add_constant(x1)\n",
    "mod = sm.OLS(y1, x1)\n",
    "res = mod.fit()\n",
    "print(res.summary())"
   ],
   "metadata": {
    "collapsed": false
   },
   "id": "9ed664474c0cea37"
  },
  {
   "cell_type": "markdown",
   "source": [
    "# 建立随机森林模型"
   ],
   "metadata": {
    "collapsed": false
   },
   "id": "259d1cfaf1f5f1a7"
  },
  {
   "cell_type": "code",
   "execution_count": null,
   "outputs": [],
   "source": [
    "from sklearn.preprocessing import MinMaxScaler, StandardScaler\n",
    "\n",
    "scaler = StandardScaler()\n",
    "\n",
    "data_for_test = data.dropna(axis=0, how='any')[['momentum', 'rsi', 'bias', 'return5']]\n",
    "data_for_test = data_for_test[(data_for_test > data_for_test.mean() - 3 * data_for_test.std()) & (data_for_test < data_for_test.mean() + 3 * data_for_test.std())]\n",
    "data_for_test.dropna(inplace=True)\n",
    "data_for_test.reset_index(inplace=True)\n",
    "\n",
    "for i in range(len(data_for_test)):\n",
    "    if data_for_test.loc[i, 'return5'] > 0:\n",
    "        data_for_test.loc[i, 'bullish'] = 1\n",
    "    else:\n",
    "        data_for_test.loc[i, 'bullish'] = 0\n",
    "data_for_test = data_for_test[['momentum', 'rsi', 'bias', 'bullish']]\n",
    "\n",
    "X = data_for_test[['momentum', 'rsi', 'bias']]\n",
    "y = data_for_test[['bullish']]\n",
    "\n",
    "X = pd.DataFrame(scaler.fit_transform(X), columns=['momentum', 'rsi', 'bias'])\n",
    "\n",
    "from sklearn.model_selection import train_test_split\n",
    "X_train, X_test, y_train, y_test = train_test_split(X, y, test_size=0.3, random_state=42)\n",
    "X_train"
   ],
   "metadata": {
    "collapsed": false
   },
   "id": "41a8e482e42c7127"
  },
  {
   "cell_type": "code",
   "execution_count": null,
   "outputs": [],
   "source": [
    "y_train"
   ],
   "metadata": {
    "collapsed": false
   },
   "id": "6f70a05a1f220f86"
  },
  {
   "cell_type": "code",
   "execution_count": null,
   "outputs": [],
   "source": [
    "from sklearn.ensemble import RandomForestClassifier\n",
    "from sklearn.metrics import mean_squared_error, recall_score, f1_score\n",
    "\n",
    "rf_classifier = RandomForestClassifier(n_estimators=100, random_state=42, max_features='sqrt', bootstrap=False)\n",
    "rf_classifier.fit(X_train, y_train)\n",
    "\n",
    "y_pred = rf_classifier.predict(X_test)\n",
    "\n",
    "from sklearn.metrics import f1_score\n",
    "\n",
    "f1 = f1_score(y_test, y_pred)\n",
    "# recall = recall_score(y_test, y_pred)\n",
    "\n",
    "print(f'表现{f1}')"
   ],
   "metadata": {
    "collapsed": false
   },
   "id": "73360e74b3174f8f"
  },
  {
   "cell_type": "markdown",
   "source": [
    "# 开始回测"
   ],
   "metadata": {
    "collapsed": false
   },
   "id": "25658a69ec030b4b"
  },
  {
   "cell_type": "markdown",
   "source": [
    "## Version 2 回测程序（重新开始）"
   ],
   "metadata": {
    "collapsed": false
   },
   "id": "3b192c7fa717f719"
  },
  {
   "cell_type": "code",
   "execution_count": null,
   "outputs": [],
   "source": [],
   "metadata": {
    "collapsed": false
   },
   "id": "91a2889db3e26a4b"
  },
  {
   "cell_type": "markdown",
   "source": [
    "## version 1 回测程序（有错误）"
   ],
   "metadata": {
    "collapsed": false
   },
   "id": "a7848cc5ad61d8cc"
  },
  {
   "cell_type": "code",
   "execution_count": null,
   "outputs": [],
   "source": [
    "# import datetime\n",
    "# \n",
    "# # 交易规则：预测涨全仓买入，否则直接卖出，这规则错了\n",
    "# data_to_backtest = data.dropna()\n",
    "# data_to_backtest = data_to_backtest.iloc[1:, :]\n",
    "# data_to_backtest.reset_index(inplace=True)\n",
    "# backtest_dict = {'capital': [100000], 'position': [0], 'date': [data_to_backtest['<DATE>'][0]]}\n",
    "# backtest = pd.DataFrame(backtest_dict)\n",
    "# \n",
    "# \n",
    "# def buy(day_data):\n",
    "#     global backtest\n",
    "#     capital = backtest.iloc[len(backtest) - 1, :]['capital']\n",
    "#     position = backtest.iloc[len(backtest) - 1, :]['position']\n",
    "#     if capital > 0:\n",
    "#         print(f'{day_data[\"<DATE>\"]} buy at price {day_data[\"<OPEN>\"]}')\n",
    "#     if capital > 0:\n",
    "#         position += capital / day_data['<OPEN>']\n",
    "#         capital = 0\n",
    "#     backtest.loc[len(backtest), :] = [capital, position, day_data['<DATE>']]\n",
    "# \n",
    "# \n",
    "# def sell(day_data):\n",
    "#     global backtest\n",
    "#     capital = backtest.iloc[len(backtest) - 1, :]['capital']\n",
    "#     position = backtest.iloc[len(backtest) - 1, :]['position']\n",
    "#     if position > 0:\n",
    "#         print(f'{day_data[\"<DATE>\"]} sell at price {day_data[\"<OPEN>\"]}')\n",
    "#     if position > 0:\n",
    "#         capital += position * day_data['<OPEN>']\n",
    "#         position = 0\n",
    "#     backtest.loc[len(backtest), :] = [capital, position, day_data['<DATE>']]\n",
    "# \n",
    "# \n",
    "# def no_trade():\n",
    "#     global backtest\n",
    "#     capital = backtest.iloc[len(backtest) - 1, :]['capital']\n",
    "#     position = backtest.iloc[len(backtest) - 1, :]['position']\n",
    "#     last_date = backtest.iloc[len(backtest) - 1, :]['date']\n",
    "#     backtest.loc[len(backtest), :] = [capital, position, datetime.datetime.strftime(datetime.datetime.strptime(last_date, '%Y.%m.%d') + datetime.timedelta(days=1), '%Y.%m.%d')]\n",
    "# \n",
    "# \n",
    "# hold_iter = -100\n",
    "# for i in range(len(data_to_backtest) - 1):\n",
    "#     # 只能看到今天的数据，明天开盘根据今天收盘的数据进行买入\n",
    "#     tomorrow_data = data_to_backtest.iloc[i+1, :]\n",
    "#     if backtest.iloc[i, 1] > 0 and i <= hold_iter + 5:\n",
    "#         # 如果还处于五天的持有期，不进行交易，否则根据预测进行交易\n",
    "#         no_trade()\n",
    "#     else:\n",
    "#         # 如果今天预测股价会涨，那么全仓买入并持有五天，第五天的时候如果还预测涨再持有五天，否则卖出\n",
    "#         if rf_classifier.predict(pd.DataFrame((data_to_backtest.loc[i, ['momentum', 'rsi', 'bias']] - scaler.mean_) / scaler.scale_).T)[0] == 1:\n",
    "#             print(f'{data_to_backtest.iloc[i, :][\"<DATE>\"]} predict bullish')\n",
    "#             buy(tomorrow_data)\n",
    "#             hold_iter = i\n",
    "#         else:\n",
    "#             print(f'{data_to_backtest.iloc[i, :][\"<DATE>\"]} predict bearish')\n",
    "#             sell(tomorrow_data)\n",
    "# \n",
    "# backtest"
   ],
   "metadata": {
    "collapsed": false
   },
   "id": "d810d8bebb652bf6"
  },
  {
   "cell_type": "code",
   "execution_count": null,
   "outputs": [],
   "source": [
    "# data_to_backtest"
   ],
   "metadata": {
    "collapsed": false
   },
   "id": "41f03e20b10e509c"
  },
  {
   "cell_type": "code",
   "execution_count": null,
   "outputs": [],
   "source": [
    "# result = pd.merge(data_to_backtest, backtest.rename(columns={'date': '<DATE>'}))\n",
    "# result"
   ],
   "metadata": {
    "collapsed": false
   },
   "id": "8cf36e77b384d5cd"
  },
  {
   "cell_type": "code",
   "execution_count": null,
   "outputs": [],
   "source": [
    "# result['asset'] = result['capital'] + result['position'] * result['<CLOSE>']\n",
    "# result"
   ],
   "metadata": {
    "collapsed": false
   },
   "id": "85f181ef6bcaf375"
  },
  {
   "cell_type": "code",
   "execution_count": null,
   "outputs": [],
   "source": [
    "# import seaborn as sns\n",
    "# import matplotlib.pyplot as plt\n",
    "# import matplotlib.dates as mdates\n",
    "# \n",
    "# plt.rcParams['font.family'] = 'Arial Unicode MS'\n",
    "# plt.rcParams['axes.unicode_minus'] = False\n",
    "# \n",
    "# ax = sns.lineplot(data=result, x='<DATE>', y='asset', color='#d20000')\n",
    "# sns.set_style('white')\n",
    "# sns.despine()\n",
    "# ax.figure.set_size_inches(16, 4)\n",
    "# ax.set_xlabel('日期')\n",
    "# ax.set_ylabel('总资产')\n",
    "# ax.xaxis.set_major_locator(mdates.DayLocator(interval=50))\n",
    "# plt.xticks(rotation=45)\n",
    "# ax.hlines(y=100000, xmin=result.loc[0, :]['<DATE>'], xmax=result.loc[len(result) - 1, :]['<DATE>'], colors='#8c8c8c', linestyles='--')\n",
    "# ax2 = plt.twinx()\n",
    "# sns.lineplot(data=result, x='<DATE>', y='<CLOSE>', color='blue', ax=ax2)\n",
    "# plt.show()"
   ],
   "metadata": {
    "collapsed": false
   },
   "id": "9d1b0bf3f4cf9389"
  },
  {
   "cell_type": "code",
   "execution_count": null,
   "outputs": [],
   "source": [
    "# result['predict'] = rf_classifier.predict(pd.DataFrame((result[['momentum', 'rsi', 'bias']] - scaler.mean_) / scaler.scale_))\n",
    "# result"
   ],
   "metadata": {
    "collapsed": false
   },
   "id": "cf56a898a0aacba5"
  },
  {
   "cell_type": "code",
   "execution_count": null,
   "outputs": [],
   "source": [],
   "metadata": {
    "collapsed": false
   },
   "id": "4a0a8532b133c261"
  }
 ],
 "metadata": {
  "kernelspec": {
   "display_name": "Python 3",
   "language": "python",
   "name": "python3"
  },
  "language_info": {
   "codemirror_mode": {
    "name": "ipython",
    "version": 2
   },
   "file_extension": ".py",
   "mimetype": "text/x-python",
   "name": "python",
   "nbconvert_exporter": "python",
   "pygments_lexer": "ipython2",
   "version": "2.7.6"
  }
 },
 "nbformat": 4,
 "nbformat_minor": 5
}
