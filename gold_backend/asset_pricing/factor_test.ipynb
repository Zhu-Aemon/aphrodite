{
 "cells": [
  {
   "cell_type": "markdown",
   "source": [
    "# 数据导入与清洗"
   ],
   "metadata": {
    "collapsed": false
   },
   "id": "dcdf1b62edf15f7"
  },
  {
   "cell_type": "code",
   "execution_count": 1,
   "outputs": [
    {
     "data": {
      "text/plain": "          <DATE>   <OPEN>   <HIGH>    <LOW>  <CLOSE>  <TICKVOL>  <VOL>  \\\n0     2003.01.01  0.65180  0.65220  0.64970  0.65070       3951      0   \n1     2003.01.02  0.65060  0.65340  0.64770  0.65030       6500      0   \n2     2003.01.03  0.65030  0.65220  0.64680  0.64790       6445      0   \n3     2003.01.06  0.64760  0.65240  0.64700  0.65040       6558      0   \n4     2003.01.07  0.65030  0.65100  0.64800  0.64890       7046      0   \n...          ...      ...      ...      ...      ...        ...    ...   \n5407  2023.10.30  0.87093  0.87404  0.87067  0.87227      54841      0   \n5408  2023.10.31  0.87231  0.87536  0.86961  0.87019      68227      0   \n5409  2023.11.01  0.87017  0.87121  0.86824  0.86938      69430      0   \n5410  2023.11.02  0.86938  0.87354  0.86890  0.87033      60801      0   \n5411  2023.11.03  0.87020  0.87127  0.87017  0.87097      11022      0   \n\n      <SPREAD>  \n0           50  \n1           50  \n2           50  \n3           50  \n4           50  \n...        ...  \n5407         0  \n5408         0  \n5409         0  \n5410         2  \n5411         0  \n\n[5412 rows x 8 columns]",
      "text/html": "<div>\n<style scoped>\n    .dataframe tbody tr th:only-of-type {\n        vertical-align: middle;\n    }\n\n    .dataframe tbody tr th {\n        vertical-align: top;\n    }\n\n    .dataframe thead th {\n        text-align: right;\n    }\n</style>\n<table border=\"1\" class=\"dataframe\">\n  <thead>\n    <tr style=\"text-align: right;\">\n      <th></th>\n      <th>&lt;DATE&gt;</th>\n      <th>&lt;OPEN&gt;</th>\n      <th>&lt;HIGH&gt;</th>\n      <th>&lt;LOW&gt;</th>\n      <th>&lt;CLOSE&gt;</th>\n      <th>&lt;TICKVOL&gt;</th>\n      <th>&lt;VOL&gt;</th>\n      <th>&lt;SPREAD&gt;</th>\n    </tr>\n  </thead>\n  <tbody>\n    <tr>\n      <th>0</th>\n      <td>2003.01.01</td>\n      <td>0.65180</td>\n      <td>0.65220</td>\n      <td>0.64970</td>\n      <td>0.65070</td>\n      <td>3951</td>\n      <td>0</td>\n      <td>50</td>\n    </tr>\n    <tr>\n      <th>1</th>\n      <td>2003.01.02</td>\n      <td>0.65060</td>\n      <td>0.65340</td>\n      <td>0.64770</td>\n      <td>0.65030</td>\n      <td>6500</td>\n      <td>0</td>\n      <td>50</td>\n    </tr>\n    <tr>\n      <th>2</th>\n      <td>2003.01.03</td>\n      <td>0.65030</td>\n      <td>0.65220</td>\n      <td>0.64680</td>\n      <td>0.64790</td>\n      <td>6445</td>\n      <td>0</td>\n      <td>50</td>\n    </tr>\n    <tr>\n      <th>3</th>\n      <td>2003.01.06</td>\n      <td>0.64760</td>\n      <td>0.65240</td>\n      <td>0.64700</td>\n      <td>0.65040</td>\n      <td>6558</td>\n      <td>0</td>\n      <td>50</td>\n    </tr>\n    <tr>\n      <th>4</th>\n      <td>2003.01.07</td>\n      <td>0.65030</td>\n      <td>0.65100</td>\n      <td>0.64800</td>\n      <td>0.64890</td>\n      <td>7046</td>\n      <td>0</td>\n      <td>50</td>\n    </tr>\n    <tr>\n      <th>...</th>\n      <td>...</td>\n      <td>...</td>\n      <td>...</td>\n      <td>...</td>\n      <td>...</td>\n      <td>...</td>\n      <td>...</td>\n      <td>...</td>\n    </tr>\n    <tr>\n      <th>5407</th>\n      <td>2023.10.30</td>\n      <td>0.87093</td>\n      <td>0.87404</td>\n      <td>0.87067</td>\n      <td>0.87227</td>\n      <td>54841</td>\n      <td>0</td>\n      <td>0</td>\n    </tr>\n    <tr>\n      <th>5408</th>\n      <td>2023.10.31</td>\n      <td>0.87231</td>\n      <td>0.87536</td>\n      <td>0.86961</td>\n      <td>0.87019</td>\n      <td>68227</td>\n      <td>0</td>\n      <td>0</td>\n    </tr>\n    <tr>\n      <th>5409</th>\n      <td>2023.11.01</td>\n      <td>0.87017</td>\n      <td>0.87121</td>\n      <td>0.86824</td>\n      <td>0.86938</td>\n      <td>69430</td>\n      <td>0</td>\n      <td>0</td>\n    </tr>\n    <tr>\n      <th>5410</th>\n      <td>2023.11.02</td>\n      <td>0.86938</td>\n      <td>0.87354</td>\n      <td>0.86890</td>\n      <td>0.87033</td>\n      <td>60801</td>\n      <td>0</td>\n      <td>2</td>\n    </tr>\n    <tr>\n      <th>5411</th>\n      <td>2023.11.03</td>\n      <td>0.87020</td>\n      <td>0.87127</td>\n      <td>0.87017</td>\n      <td>0.87097</td>\n      <td>11022</td>\n      <td>0</td>\n      <td>0</td>\n    </tr>\n  </tbody>\n</table>\n<p>5412 rows × 8 columns</p>\n</div>"
     },
     "execution_count": 1,
     "metadata": {},
     "output_type": "execute_result"
    }
   ],
   "source": [
    "import pandas as pd\n",
    "import numpy as np\n",
    "import matplotlib.pyplot as plt\n",
    "import shutup\n",
    "\n",
    "shutup.please()\n",
    "\n",
    "data = pd.read_csv(\"EURGBP.csv\", sep='\\t')\n",
    "# data.drop(columns=['<TIME>'], inplace=True)\n",
    "data"
   ],
   "metadata": {
    "collapsed": false,
    "ExecuteTime": {
     "end_time": "2023-11-07T05:01:17.378787Z",
     "start_time": "2023-11-07T05:01:16.808441Z"
    }
   },
   "id": "initial_id"
  },
  {
   "cell_type": "code",
   "execution_count": 2,
   "outputs": [
    {
     "data": {
      "text/plain": "          <DATE>   <OPEN>   <HIGH>    <LOW>  <CLOSE>  <TICKVOL>\n0     2003.01.01  0.65180  0.65220  0.64970  0.65070       3951\n1     2003.01.02  0.65060  0.65340  0.64770  0.65030       6500\n2     2003.01.03  0.65030  0.65220  0.64680  0.64790       6445\n3     2003.01.06  0.64760  0.65240  0.64700  0.65040       6558\n4     2003.01.07  0.65030  0.65100  0.64800  0.64890       7046\n...          ...      ...      ...      ...      ...        ...\n5407  2023.10.30  0.87093  0.87404  0.87067  0.87227      54841\n5408  2023.10.31  0.87231  0.87536  0.86961  0.87019      68227\n5409  2023.11.01  0.87017  0.87121  0.86824  0.86938      69430\n5410  2023.11.02  0.86938  0.87354  0.86890  0.87033      60801\n5411  2023.11.03  0.87020  0.87127  0.87017  0.87097      11022\n\n[5412 rows x 6 columns]",
      "text/html": "<div>\n<style scoped>\n    .dataframe tbody tr th:only-of-type {\n        vertical-align: middle;\n    }\n\n    .dataframe tbody tr th {\n        vertical-align: top;\n    }\n\n    .dataframe thead th {\n        text-align: right;\n    }\n</style>\n<table border=\"1\" class=\"dataframe\">\n  <thead>\n    <tr style=\"text-align: right;\">\n      <th></th>\n      <th>&lt;DATE&gt;</th>\n      <th>&lt;OPEN&gt;</th>\n      <th>&lt;HIGH&gt;</th>\n      <th>&lt;LOW&gt;</th>\n      <th>&lt;CLOSE&gt;</th>\n      <th>&lt;TICKVOL&gt;</th>\n    </tr>\n  </thead>\n  <tbody>\n    <tr>\n      <th>0</th>\n      <td>2003.01.01</td>\n      <td>0.65180</td>\n      <td>0.65220</td>\n      <td>0.64970</td>\n      <td>0.65070</td>\n      <td>3951</td>\n    </tr>\n    <tr>\n      <th>1</th>\n      <td>2003.01.02</td>\n      <td>0.65060</td>\n      <td>0.65340</td>\n      <td>0.64770</td>\n      <td>0.65030</td>\n      <td>6500</td>\n    </tr>\n    <tr>\n      <th>2</th>\n      <td>2003.01.03</td>\n      <td>0.65030</td>\n      <td>0.65220</td>\n      <td>0.64680</td>\n      <td>0.64790</td>\n      <td>6445</td>\n    </tr>\n    <tr>\n      <th>3</th>\n      <td>2003.01.06</td>\n      <td>0.64760</td>\n      <td>0.65240</td>\n      <td>0.64700</td>\n      <td>0.65040</td>\n      <td>6558</td>\n    </tr>\n    <tr>\n      <th>4</th>\n      <td>2003.01.07</td>\n      <td>0.65030</td>\n      <td>0.65100</td>\n      <td>0.64800</td>\n      <td>0.64890</td>\n      <td>7046</td>\n    </tr>\n    <tr>\n      <th>...</th>\n      <td>...</td>\n      <td>...</td>\n      <td>...</td>\n      <td>...</td>\n      <td>...</td>\n      <td>...</td>\n    </tr>\n    <tr>\n      <th>5407</th>\n      <td>2023.10.30</td>\n      <td>0.87093</td>\n      <td>0.87404</td>\n      <td>0.87067</td>\n      <td>0.87227</td>\n      <td>54841</td>\n    </tr>\n    <tr>\n      <th>5408</th>\n      <td>2023.10.31</td>\n      <td>0.87231</td>\n      <td>0.87536</td>\n      <td>0.86961</td>\n      <td>0.87019</td>\n      <td>68227</td>\n    </tr>\n    <tr>\n      <th>5409</th>\n      <td>2023.11.01</td>\n      <td>0.87017</td>\n      <td>0.87121</td>\n      <td>0.86824</td>\n      <td>0.86938</td>\n      <td>69430</td>\n    </tr>\n    <tr>\n      <th>5410</th>\n      <td>2023.11.02</td>\n      <td>0.86938</td>\n      <td>0.87354</td>\n      <td>0.86890</td>\n      <td>0.87033</td>\n      <td>60801</td>\n    </tr>\n    <tr>\n      <th>5411</th>\n      <td>2023.11.03</td>\n      <td>0.87020</td>\n      <td>0.87127</td>\n      <td>0.87017</td>\n      <td>0.87097</td>\n      <td>11022</td>\n    </tr>\n  </tbody>\n</table>\n<p>5412 rows × 6 columns</p>\n</div>"
     },
     "execution_count": 2,
     "metadata": {},
     "output_type": "execute_result"
    }
   ],
   "source": [
    "data = data.iloc[:, :-2]\n",
    "data"
   ],
   "metadata": {
    "collapsed": false,
    "ExecuteTime": {
     "end_time": "2023-11-07T05:01:17.384256Z",
     "start_time": "2023-11-07T05:01:17.379133Z"
    }
   },
   "id": "91c3bc587d337ce5"
  },
  {
   "cell_type": "markdown",
   "source": [
    "## 构建乖离度指标"
   ],
   "metadata": {
    "collapsed": false
   },
   "id": "3d017572c2a96cb3"
  },
  {
   "cell_type": "code",
   "execution_count": 3,
   "outputs": [
    {
     "data": {
      "text/plain": "          <DATE>   <OPEN>   <HIGH>    <LOW>  <CLOSE>  <TICKVOL>      bias\n0     2003.01.01  0.65180  0.65220  0.64970  0.65070       3951       NaN\n1     2003.01.02  0.65060  0.65340  0.64770  0.65030       6500       NaN\n2     2003.01.03  0.65030  0.65220  0.64680  0.64790       6445       NaN\n3     2003.01.06  0.64760  0.65240  0.64700  0.65040       6558       NaN\n4     2003.01.07  0.65030  0.65100  0.64800  0.64890       7046 -0.001139\n...          ...      ...      ...      ...      ...        ...       ...\n5407  2023.10.30  0.87093  0.87404  0.87067  0.87227      54841  0.000973\n5408  2023.10.31  0.87231  0.87536  0.86961  0.87019      68227 -0.001304\n5409  2023.11.01  0.87017  0.87121  0.86824  0.86938      69430 -0.001566\n5410  2023.11.02  0.86938  0.87354  0.86890  0.87033      60801 -0.000391\n5411  2023.11.03  0.87020  0.87127  0.87017  0.87097      11022  0.000393\n\n[5412 rows x 7 columns]",
      "text/html": "<div>\n<style scoped>\n    .dataframe tbody tr th:only-of-type {\n        vertical-align: middle;\n    }\n\n    .dataframe tbody tr th {\n        vertical-align: top;\n    }\n\n    .dataframe thead th {\n        text-align: right;\n    }\n</style>\n<table border=\"1\" class=\"dataframe\">\n  <thead>\n    <tr style=\"text-align: right;\">\n      <th></th>\n      <th>&lt;DATE&gt;</th>\n      <th>&lt;OPEN&gt;</th>\n      <th>&lt;HIGH&gt;</th>\n      <th>&lt;LOW&gt;</th>\n      <th>&lt;CLOSE&gt;</th>\n      <th>&lt;TICKVOL&gt;</th>\n      <th>bias</th>\n    </tr>\n  </thead>\n  <tbody>\n    <tr>\n      <th>0</th>\n      <td>2003.01.01</td>\n      <td>0.65180</td>\n      <td>0.65220</td>\n      <td>0.64970</td>\n      <td>0.65070</td>\n      <td>3951</td>\n      <td>NaN</td>\n    </tr>\n    <tr>\n      <th>1</th>\n      <td>2003.01.02</td>\n      <td>0.65060</td>\n      <td>0.65340</td>\n      <td>0.64770</td>\n      <td>0.65030</td>\n      <td>6500</td>\n      <td>NaN</td>\n    </tr>\n    <tr>\n      <th>2</th>\n      <td>2003.01.03</td>\n      <td>0.65030</td>\n      <td>0.65220</td>\n      <td>0.64680</td>\n      <td>0.64790</td>\n      <td>6445</td>\n      <td>NaN</td>\n    </tr>\n    <tr>\n      <th>3</th>\n      <td>2003.01.06</td>\n      <td>0.64760</td>\n      <td>0.65240</td>\n      <td>0.64700</td>\n      <td>0.65040</td>\n      <td>6558</td>\n      <td>NaN</td>\n    </tr>\n    <tr>\n      <th>4</th>\n      <td>2003.01.07</td>\n      <td>0.65030</td>\n      <td>0.65100</td>\n      <td>0.64800</td>\n      <td>0.64890</td>\n      <td>7046</td>\n      <td>-0.001139</td>\n    </tr>\n    <tr>\n      <th>...</th>\n      <td>...</td>\n      <td>...</td>\n      <td>...</td>\n      <td>...</td>\n      <td>...</td>\n      <td>...</td>\n      <td>...</td>\n    </tr>\n    <tr>\n      <th>5407</th>\n      <td>2023.10.30</td>\n      <td>0.87093</td>\n      <td>0.87404</td>\n      <td>0.87067</td>\n      <td>0.87227</td>\n      <td>54841</td>\n      <td>0.000973</td>\n    </tr>\n    <tr>\n      <th>5408</th>\n      <td>2023.10.31</td>\n      <td>0.87231</td>\n      <td>0.87536</td>\n      <td>0.86961</td>\n      <td>0.87019</td>\n      <td>68227</td>\n      <td>-0.001304</td>\n    </tr>\n    <tr>\n      <th>5409</th>\n      <td>2023.11.01</td>\n      <td>0.87017</td>\n      <td>0.87121</td>\n      <td>0.86824</td>\n      <td>0.86938</td>\n      <td>69430</td>\n      <td>-0.001566</td>\n    </tr>\n    <tr>\n      <th>5410</th>\n      <td>2023.11.02</td>\n      <td>0.86938</td>\n      <td>0.87354</td>\n      <td>0.86890</td>\n      <td>0.87033</td>\n      <td>60801</td>\n      <td>-0.000391</td>\n    </tr>\n    <tr>\n      <th>5411</th>\n      <td>2023.11.03</td>\n      <td>0.87020</td>\n      <td>0.87127</td>\n      <td>0.87017</td>\n      <td>0.87097</td>\n      <td>11022</td>\n      <td>0.000393</td>\n    </tr>\n  </tbody>\n</table>\n<p>5412 rows × 7 columns</p>\n</div>"
     },
     "execution_count": 3,
     "metadata": {},
     "output_type": "execute_result"
    }
   ],
   "source": [
    "data['bias'] = data['<CLOSE>'] / data['<CLOSE>'].rolling(5).mean() - 1\n",
    "data"
   ],
   "metadata": {
    "collapsed": false,
    "ExecuteTime": {
     "end_time": "2023-11-07T05:01:17.391852Z",
     "start_time": "2023-11-07T05:01:17.384729Z"
    }
   },
   "id": "a7c9e7c01449b564"
  },
  {
   "cell_type": "code",
   "execution_count": 4,
   "outputs": [
    {
     "data": {
      "text/plain": "          <DATE>   <OPEN>   <HIGH>    <LOW>  <CLOSE>  <TICKVOL>      bias  \\\n0     2003.01.01  0.65180  0.65220  0.64970  0.65070       3951       NaN   \n1     2003.01.02  0.65060  0.65340  0.64770  0.65030       6500       NaN   \n2     2003.01.03  0.65030  0.65220  0.64680  0.64790       6445       NaN   \n3     2003.01.06  0.64760  0.65240  0.64700  0.65040       6558       NaN   \n4     2003.01.07  0.65030  0.65100  0.64800  0.64890       7046 -0.001139   \n...          ...      ...      ...      ...      ...        ...       ...   \n5407  2023.10.30  0.87093  0.87404  0.87067  0.87227      54841  0.000973   \n5408  2023.10.31  0.87231  0.87536  0.86961  0.87019      68227 -0.001304   \n5409  2023.11.01  0.87017  0.87121  0.86824  0.86938      69430 -0.001566   \n5410  2023.11.02  0.86938  0.87354  0.86890  0.87033      60801 -0.000391   \n5411  2023.11.03  0.87020  0.87127  0.87017  0.87097      11022  0.000393   \n\n       return5  \n0    -0.254015  \n1    -0.252692  \n2    -0.254756  \n3    -0.252697  \n4    -0.254969  \n...        ...  \n5407  0.001458  \n5408 -0.000551  \n5409 -0.003336  \n5410 -0.000425  \n5411 -0.000241  \n\n[5412 rows x 8 columns]",
      "text/html": "<div>\n<style scoped>\n    .dataframe tbody tr th:only-of-type {\n        vertical-align: middle;\n    }\n\n    .dataframe tbody tr th {\n        vertical-align: top;\n    }\n\n    .dataframe thead th {\n        text-align: right;\n    }\n</style>\n<table border=\"1\" class=\"dataframe\">\n  <thead>\n    <tr style=\"text-align: right;\">\n      <th></th>\n      <th>&lt;DATE&gt;</th>\n      <th>&lt;OPEN&gt;</th>\n      <th>&lt;HIGH&gt;</th>\n      <th>&lt;LOW&gt;</th>\n      <th>&lt;CLOSE&gt;</th>\n      <th>&lt;TICKVOL&gt;</th>\n      <th>bias</th>\n      <th>return5</th>\n    </tr>\n  </thead>\n  <tbody>\n    <tr>\n      <th>0</th>\n      <td>2003.01.01</td>\n      <td>0.65180</td>\n      <td>0.65220</td>\n      <td>0.64970</td>\n      <td>0.65070</td>\n      <td>3951</td>\n      <td>NaN</td>\n      <td>-0.254015</td>\n    </tr>\n    <tr>\n      <th>1</th>\n      <td>2003.01.02</td>\n      <td>0.65060</td>\n      <td>0.65340</td>\n      <td>0.64770</td>\n      <td>0.65030</td>\n      <td>6500</td>\n      <td>NaN</td>\n      <td>-0.252692</td>\n    </tr>\n    <tr>\n      <th>2</th>\n      <td>2003.01.03</td>\n      <td>0.65030</td>\n      <td>0.65220</td>\n      <td>0.64680</td>\n      <td>0.64790</td>\n      <td>6445</td>\n      <td>NaN</td>\n      <td>-0.254756</td>\n    </tr>\n    <tr>\n      <th>3</th>\n      <td>2003.01.06</td>\n      <td>0.64760</td>\n      <td>0.65240</td>\n      <td>0.64700</td>\n      <td>0.65040</td>\n      <td>6558</td>\n      <td>NaN</td>\n      <td>-0.252697</td>\n    </tr>\n    <tr>\n      <th>4</th>\n      <td>2003.01.07</td>\n      <td>0.65030</td>\n      <td>0.65100</td>\n      <td>0.64800</td>\n      <td>0.64890</td>\n      <td>7046</td>\n      <td>-0.001139</td>\n      <td>-0.254969</td>\n    </tr>\n    <tr>\n      <th>...</th>\n      <td>...</td>\n      <td>...</td>\n      <td>...</td>\n      <td>...</td>\n      <td>...</td>\n      <td>...</td>\n      <td>...</td>\n      <td>...</td>\n    </tr>\n    <tr>\n      <th>5407</th>\n      <td>2023.10.30</td>\n      <td>0.87093</td>\n      <td>0.87404</td>\n      <td>0.87067</td>\n      <td>0.87227</td>\n      <td>54841</td>\n      <td>0.000973</td>\n      <td>0.001458</td>\n    </tr>\n    <tr>\n      <th>5408</th>\n      <td>2023.10.31</td>\n      <td>0.87231</td>\n      <td>0.87536</td>\n      <td>0.86961</td>\n      <td>0.87019</td>\n      <td>68227</td>\n      <td>-0.001304</td>\n      <td>-0.000551</td>\n    </tr>\n    <tr>\n      <th>5409</th>\n      <td>2023.11.01</td>\n      <td>0.87017</td>\n      <td>0.87121</td>\n      <td>0.86824</td>\n      <td>0.86938</td>\n      <td>69430</td>\n      <td>-0.001566</td>\n      <td>-0.003336</td>\n    </tr>\n    <tr>\n      <th>5410</th>\n      <td>2023.11.02</td>\n      <td>0.86938</td>\n      <td>0.87354</td>\n      <td>0.86890</td>\n      <td>0.87033</td>\n      <td>60801</td>\n      <td>-0.000391</td>\n      <td>-0.000425</td>\n    </tr>\n    <tr>\n      <th>5411</th>\n      <td>2023.11.03</td>\n      <td>0.87020</td>\n      <td>0.87127</td>\n      <td>0.87017</td>\n      <td>0.87097</td>\n      <td>11022</td>\n      <td>0.000393</td>\n      <td>-0.000241</td>\n    </tr>\n  </tbody>\n</table>\n<p>5412 rows × 8 columns</p>\n</div>"
     },
     "execution_count": 4,
     "metadata": {},
     "output_type": "execute_result"
    }
   ],
   "source": [
    "data['return5'] = data['<CLOSE>'] / np.roll(data['<CLOSE>'], 5) - 1\n",
    "data"
   ],
   "metadata": {
    "collapsed": false,
    "ExecuteTime": {
     "end_time": "2023-11-07T05:01:17.398872Z",
     "start_time": "2023-11-07T05:01:17.395337Z"
    }
   },
   "id": "c2139d129540b2c0"
  },
  {
   "cell_type": "markdown",
   "source": [
    "### 对乖离度指标进行回归"
   ],
   "metadata": {
    "collapsed": false
   },
   "id": "7df4f38e20127bfb"
  },
  {
   "cell_type": "code",
   "execution_count": 5,
   "outputs": [
    {
     "name": "stdout",
     "output_type": "stream",
     "text": [
      "                            OLS Regression Results                            \n",
      "==============================================================================\n",
      "Dep. Variable:                return5   R-squared:                       0.613\n",
      "Model:                            OLS   Adj. R-squared:                  0.613\n",
      "Method:                 Least Squares   F-statistic:                     8388.\n",
      "Date:                Tue, 07 Nov 2023   Prob (F-statistic):               0.00\n",
      "Time:                        13:01:18   Log-Likelihood:                 19467.\n",
      "No. Observations:                5287   AIC:                        -3.893e+04\n",
      "Df Residuals:                    5285   BIC:                        -3.892e+04\n",
      "Df Model:                           1                                         \n",
      "Covariance Type:            nonrobust                                         \n",
      "==============================================================================\n",
      "                 coef    std err          t      P>|t|      [0.025      0.975]\n",
      "------------------------------------------------------------------------------\n",
      "const       5.946e-05   8.38e-05      0.710      0.478      -0.000       0.000\n",
      "bias           1.5917      0.017     91.588      0.000       1.558       1.626\n",
      "==============================================================================\n",
      "Omnibus:                      146.104   Durbin-Watson:                   0.990\n",
      "Prob(Omnibus):                  0.000   Jarque-Bera (JB):              362.297\n",
      "Skew:                           0.043   Prob(JB):                     2.13e-79\n",
      "Kurtosis:                       4.280   Cond. No.                         207.\n",
      "==============================================================================\n",
      "\n",
      "Notes:\n",
      "[1] Standard Errors assume that the covariance matrix of the errors is correctly specified.\n"
     ]
    }
   ],
   "source": [
    "import statsmodels.api as sm\n",
    "data_to_reg = data.dropna()\n",
    "data_to_reg = data_to_reg[(data_to_reg.mean() - 3 * data_to_reg.std() < data_to_reg) & (data_to_reg < data_to_reg.mean() + 3 * data_to_reg.std())]\n",
    "data_to_reg = data_to_reg.iloc[:, 1:].dropna()\n",
    "y1 = data_to_reg['return5']\n",
    "x1 = data_to_reg[['bias']]\n",
    "x1 = sm.add_constant(x1)\n",
    "mod = sm.OLS(y1, x1)\n",
    "res = mod.fit()\n",
    "print(res.summary())"
   ],
   "metadata": {
    "collapsed": false,
    "ExecuteTime": {
     "end_time": "2023-11-07T05:01:18.242487Z",
     "start_time": "2023-11-07T05:01:17.399081Z"
    }
   },
   "id": "8faa5ef21b990d6e"
  },
  {
   "cell_type": "code",
   "execution_count": 6,
   "outputs": [
    {
     "data": {
      "text/plain": "<Figure size 640x480 with 1 Axes>",
      "image/png": "[encoded data removed]"
     },
     "metadata": {},
     "output_type": "display_data"
    }
   ],
   "source": [
    "plt.scatter(res.predict(x1), data_to_reg['return5'])\n",
    "x_set = np.linspace(-0.04, 0.04, 1000)\n",
    "y_set = x_set\n",
    "plt.plot(x_set, y_set)\n",
    "plt.show()"
   ],
   "metadata": {
    "collapsed": false,
    "ExecuteTime": {
     "end_time": "2023-11-07T05:01:18.352730Z",
     "start_time": "2023-11-07T05:01:18.242700Z"
    }
   },
   "id": "71a85f2c403b34f7"
  },
  {
   "cell_type": "markdown",
   "source": [
    "乖离度指标表现很好"
   ],
   "metadata": {
    "collapsed": false
   },
   "id": "adaefbdb4197437e"
  },
  {
   "cell_type": "markdown",
   "source": [
    "## 构建ATR指标"
   ],
   "metadata": {
    "collapsed": false
   },
   "id": "ef39bbad4a9a2c5f"
  },
  {
   "cell_type": "code",
   "execution_count": 7,
   "outputs": [
    {
     "data": {
      "text/plain": "          <DATE>   <OPEN>   <HIGH>    <LOW>  <CLOSE>  <TICKVOL>      bias  \\\n0     2003.01.01  0.65180  0.65220  0.64970  0.65070       3951       NaN   \n1     2003.01.02  0.65060  0.65340  0.64770  0.65030       6500       NaN   \n2     2003.01.03  0.65030  0.65220  0.64680  0.64790       6445       NaN   \n3     2003.01.06  0.64760  0.65240  0.64700  0.65040       6558       NaN   \n4     2003.01.07  0.65030  0.65100  0.64800  0.64890       7046 -0.001139   \n...          ...      ...      ...      ...      ...        ...       ...   \n5407  2023.10.30  0.87093  0.87404  0.87067  0.87227      54841  0.000973   \n5408  2023.10.31  0.87231  0.87536  0.86961  0.87019      68227 -0.001304   \n5409  2023.11.01  0.87017  0.87121  0.86824  0.86938      69430 -0.001566   \n5410  2023.11.02  0.86938  0.87354  0.86890  0.87033      60801 -0.000391   \n5411  2023.11.03  0.87020  0.87127  0.87017  0.87097      11022  0.000393   \n\n       return5       ATR  \n0    -0.254015  0.000000  \n1    -0.252692  0.000000  \n2    -0.254756  0.000000  \n3    -0.252697  0.000000  \n4    -0.254969  0.004400  \n...        ...       ...  \n5407  0.001458  0.003626  \n5408 -0.000551  0.004051  \n5409 -0.003336  0.003835  \n5410 -0.000425  0.003996  \n5411 -0.000241  0.003417  \n\n[5412 rows x 9 columns]",
      "text/html": "<div>\n<style scoped>\n    .dataframe tbody tr th:only-of-type {\n        vertical-align: middle;\n    }\n\n    .dataframe tbody tr th {\n        vertical-align: top;\n    }\n\n    .dataframe thead th {\n        text-align: right;\n    }\n</style>\n<table border=\"1\" class=\"dataframe\">\n  <thead>\n    <tr style=\"text-align: right;\">\n      <th></th>\n      <th>&lt;DATE&gt;</th>\n      <th>&lt;OPEN&gt;</th>\n      <th>&lt;HIGH&gt;</th>\n      <th>&lt;LOW&gt;</th>\n      <th>&lt;CLOSE&gt;</th>\n      <th>&lt;TICKVOL&gt;</th>\n      <th>bias</th>\n      <th>return5</th>\n      <th>ATR</th>\n    </tr>\n  </thead>\n  <tbody>\n    <tr>\n      <th>0</th>\n      <td>2003.01.01</td>\n      <td>0.65180</td>\n      <td>0.65220</td>\n      <td>0.64970</td>\n      <td>0.65070</td>\n      <td>3951</td>\n      <td>NaN</td>\n      <td>-0.254015</td>\n      <td>0.000000</td>\n    </tr>\n    <tr>\n      <th>1</th>\n      <td>2003.01.02</td>\n      <td>0.65060</td>\n      <td>0.65340</td>\n      <td>0.64770</td>\n      <td>0.65030</td>\n      <td>6500</td>\n      <td>NaN</td>\n      <td>-0.252692</td>\n      <td>0.000000</td>\n    </tr>\n    <tr>\n      <th>2</th>\n      <td>2003.01.03</td>\n      <td>0.65030</td>\n      <td>0.65220</td>\n      <td>0.64680</td>\n      <td>0.64790</td>\n      <td>6445</td>\n      <td>NaN</td>\n      <td>-0.254756</td>\n      <td>0.000000</td>\n    </tr>\n    <tr>\n      <th>3</th>\n      <td>2003.01.06</td>\n      <td>0.64760</td>\n      <td>0.65240</td>\n      <td>0.64700</td>\n      <td>0.65040</td>\n      <td>6558</td>\n      <td>NaN</td>\n      <td>-0.252697</td>\n      <td>0.000000</td>\n    </tr>\n    <tr>\n      <th>4</th>\n      <td>2003.01.07</td>\n      <td>0.65030</td>\n      <td>0.65100</td>\n      <td>0.64800</td>\n      <td>0.64890</td>\n      <td>7046</td>\n      <td>-0.001139</td>\n      <td>-0.254969</td>\n      <td>0.004400</td>\n    </tr>\n    <tr>\n      <th>...</th>\n      <td>...</td>\n      <td>...</td>\n      <td>...</td>\n      <td>...</td>\n      <td>...</td>\n      <td>...</td>\n      <td>...</td>\n      <td>...</td>\n      <td>...</td>\n    </tr>\n    <tr>\n      <th>5407</th>\n      <td>2023.10.30</td>\n      <td>0.87093</td>\n      <td>0.87404</td>\n      <td>0.87067</td>\n      <td>0.87227</td>\n      <td>54841</td>\n      <td>0.000973</td>\n      <td>0.001458</td>\n      <td>0.003626</td>\n    </tr>\n    <tr>\n      <th>5408</th>\n      <td>2023.10.31</td>\n      <td>0.87231</td>\n      <td>0.87536</td>\n      <td>0.86961</td>\n      <td>0.87019</td>\n      <td>68227</td>\n      <td>-0.001304</td>\n      <td>-0.000551</td>\n      <td>0.004051</td>\n    </tr>\n    <tr>\n      <th>5409</th>\n      <td>2023.11.01</td>\n      <td>0.87017</td>\n      <td>0.87121</td>\n      <td>0.86824</td>\n      <td>0.86938</td>\n      <td>69430</td>\n      <td>-0.001566</td>\n      <td>-0.003336</td>\n      <td>0.003835</td>\n    </tr>\n    <tr>\n      <th>5410</th>\n      <td>2023.11.02</td>\n      <td>0.86938</td>\n      <td>0.87354</td>\n      <td>0.86890</td>\n      <td>0.87033</td>\n      <td>60801</td>\n      <td>-0.000391</td>\n      <td>-0.000425</td>\n      <td>0.003996</td>\n    </tr>\n    <tr>\n      <th>5411</th>\n      <td>2023.11.03</td>\n      <td>0.87020</td>\n      <td>0.87127</td>\n      <td>0.87017</td>\n      <td>0.87097</td>\n      <td>11022</td>\n      <td>0.000393</td>\n      <td>-0.000241</td>\n      <td>0.003417</td>\n    </tr>\n  </tbody>\n</table>\n<p>5412 rows × 9 columns</p>\n</div>"
     },
     "execution_count": 7,
     "metadata": {},
     "output_type": "execute_result"
    }
   ],
   "source": [
    "from ta.volatility import AverageTrueRange\n",
    "\n",
    "ATR = AverageTrueRange(data['<HIGH>'], data['<LOW>'], data['<CLOSE>'], window=5).average_true_range()\n",
    "data['ATR'] = ATR\n",
    "data"
   ],
   "metadata": {
    "collapsed": false,
    "ExecuteTime": {
     "end_time": "2023-11-07T05:01:18.448231Z",
     "start_time": "2023-11-07T05:01:18.352518Z"
    }
   },
   "id": "c37680e7aa6d263"
  },
  {
   "cell_type": "code",
   "execution_count": 8,
   "outputs": [
    {
     "name": "stdout",
     "output_type": "stream",
     "text": [
      "                            OLS Regression Results                            \n",
      "==============================================================================\n",
      "Dep. Variable:                return5   R-squared:                       0.000\n",
      "Model:                            OLS   Adj. R-squared:                  0.000\n",
      "Method:                 Least Squares   F-statistic:                     1.134\n",
      "Date:                Tue, 07 Nov 2023   Prob (F-statistic):              0.287\n",
      "Time:                        13:01:18   Log-Likelihood:                 16813.\n",
      "No. Observations:                5217   AIC:                        -3.362e+04\n",
      "Df Residuals:                    5215   BIC:                        -3.361e+04\n",
      "Df Model:                           1                                         \n",
      "Covariance Type:            nonrobust                                         \n",
      "==============================================================================\n",
      "                 coef    std err          t      P>|t|      [0.025      0.975]\n",
      "------------------------------------------------------------------------------\n",
      "const         -0.0003      0.000     -0.751      0.453      -0.001       0.001\n",
      "ATR            0.0733      0.069      1.065      0.287      -0.062       0.208\n",
      "==============================================================================\n",
      "Omnibus:                       21.731   Durbin-Watson:                   0.480\n",
      "Prob(Omnibus):                  0.000   Jarque-Bera (JB):               28.168\n",
      "Skew:                           0.049   Prob(JB):                     7.64e-07\n",
      "Kurtosis:                       3.346   Cond. No.                         515.\n",
      "==============================================================================\n",
      "\n",
      "Notes:\n",
      "[1] Standard Errors assume that the covariance matrix of the errors is correctly specified.\n"
     ]
    }
   ],
   "source": [
    "data_to_reg = data.dropna()\n",
    "data_to_reg = data_to_reg[(data_to_reg.mean() - 3 * data_to_reg.std() < data_to_reg) & (data_to_reg < data_to_reg.mean() + 3 * data_to_reg.std())]\n",
    "data_to_reg = data_to_reg.iloc[:, 1:].dropna()\n",
    "y1 = data_to_reg['return5']\n",
    "x1 = data_to_reg[['ATR']]\n",
    "x1 = sm.add_constant(x1)\n",
    "mod = sm.OLS(y1, x1)\n",
    "res = mod.fit()\n",
    "print(res.summary())"
   ],
   "metadata": {
    "collapsed": false,
    "ExecuteTime": {
     "end_time": "2023-11-07T05:01:18.574247Z",
     "start_time": "2023-11-07T05:01:18.487968Z"
    }
   },
   "id": "f1237abfbc2d9bb9"
  },
  {
   "cell_type": "markdown",
   "source": [
    "ATR指标一坨"
   ],
   "metadata": {
    "collapsed": false
   },
   "id": "b3e37af927d41c2a"
  },
  {
   "cell_type": "code",
   "execution_count": 9,
   "outputs": [
    {
     "data": {
      "text/plain": "<Figure size 640x480 with 1 Axes>",
      "image/png": "[encoded data removed]"
     },
     "metadata": {},
     "output_type": "display_data"
    }
   ],
   "source": [
    "plt.scatter(res.predict(x1), data_to_reg['return5'])\n",
    "x_set = np.linspace(-0.04, 0.04, 1000)\n",
    "y_set = x_set\n",
    "plt.plot(x_set, y_set)\n",
    "plt.show()"
   ],
   "metadata": {
    "collapsed": false,
    "ExecuteTime": {
     "end_time": "2023-11-07T05:01:18.634865Z",
     "start_time": "2023-11-07T05:01:18.526452Z"
    }
   },
   "id": "182d8bf0ed7b6773"
  },
  {
   "cell_type": "markdown",
   "source": [
    "## 构建CCI指标"
   ],
   "metadata": {
    "collapsed": false
   },
   "id": "94e59572c68dd979"
  },
  {
   "cell_type": "code",
   "execution_count": 10,
   "outputs": [
    {
     "data": {
      "text/plain": "          <DATE>   <OPEN>   <HIGH>    <LOW>  <CLOSE>  <TICKVOL>      bias  \\\n0     2003.01.01  0.65180  0.65220  0.64970  0.65070       3951       NaN   \n1     2003.01.02  0.65060  0.65340  0.64770  0.65030       6500       NaN   \n2     2003.01.03  0.65030  0.65220  0.64680  0.64790       6445       NaN   \n3     2003.01.06  0.64760  0.65240  0.64700  0.65040       6558       NaN   \n4     2003.01.07  0.65030  0.65100  0.64800  0.64890       7046 -0.001139   \n...          ...      ...      ...      ...      ...        ...       ...   \n5407  2023.10.30  0.87093  0.87404  0.87067  0.87227      54841  0.000973   \n5408  2023.10.31  0.87231  0.87536  0.86961  0.87019      68227 -0.001304   \n5409  2023.11.01  0.87017  0.87121  0.86824  0.86938      69430 -0.001566   \n5410  2023.11.02  0.86938  0.87354  0.86890  0.87033      60801 -0.000391   \n5411  2023.11.03  0.87020  0.87127  0.87017  0.87097      11022  0.000393   \n\n       return5       ATR         cci  \n0    -0.254015  0.000000         NaN  \n1    -0.252692  0.000000         NaN  \n2    -0.254756  0.000000         NaN  \n3    -0.252697  0.000000         NaN  \n4    -0.254969  0.004400  -65.373563  \n...        ...       ...         ...  \n5407  0.001458  0.003626  158.678286  \n5408 -0.000551  0.004051   36.290323  \n5409 -0.003336  0.003835 -150.698216  \n5410 -0.000425  0.003996  -19.662921  \n5411 -0.000241  0.003417  -24.061033  \n\n[5412 rows x 10 columns]",
      "text/html": "<div>\n<style scoped>\n    .dataframe tbody tr th:only-of-type {\n        vertical-align: middle;\n    }\n\n    .dataframe tbody tr th {\n        vertical-align: top;\n    }\n\n    .dataframe thead th {\n        text-align: right;\n    }\n</style>\n<table border=\"1\" class=\"dataframe\">\n  <thead>\n    <tr style=\"text-align: right;\">\n      <th></th>\n      <th>&lt;DATE&gt;</th>\n      <th>&lt;OPEN&gt;</th>\n      <th>&lt;HIGH&gt;</th>\n      <th>&lt;LOW&gt;</th>\n      <th>&lt;CLOSE&gt;</th>\n      <th>&lt;TICKVOL&gt;</th>\n      <th>bias</th>\n      <th>return5</th>\n      <th>ATR</th>\n      <th>cci</th>\n    </tr>\n  </thead>\n  <tbody>\n    <tr>\n      <th>0</th>\n      <td>2003.01.01</td>\n      <td>0.65180</td>\n      <td>0.65220</td>\n      <td>0.64970</td>\n      <td>0.65070</td>\n      <td>3951</td>\n      <td>NaN</td>\n      <td>-0.254015</td>\n      <td>0.000000</td>\n      <td>NaN</td>\n    </tr>\n    <tr>\n      <th>1</th>\n      <td>2003.01.02</td>\n      <td>0.65060</td>\n      <td>0.65340</td>\n      <td>0.64770</td>\n      <td>0.65030</td>\n      <td>6500</td>\n      <td>NaN</td>\n      <td>-0.252692</td>\n      <td>0.000000</td>\n      <td>NaN</td>\n    </tr>\n    <tr>\n      <th>2</th>\n      <td>2003.01.03</td>\n      <td>0.65030</td>\n      <td>0.65220</td>\n      <td>0.64680</td>\n      <td>0.64790</td>\n      <td>6445</td>\n      <td>NaN</td>\n      <td>-0.254756</td>\n      <td>0.000000</td>\n      <td>NaN</td>\n    </tr>\n    <tr>\n      <th>3</th>\n      <td>2003.01.06</td>\n      <td>0.64760</td>\n      <td>0.65240</td>\n      <td>0.64700</td>\n      <td>0.65040</td>\n      <td>6558</td>\n      <td>NaN</td>\n      <td>-0.252697</td>\n      <td>0.000000</td>\n      <td>NaN</td>\n    </tr>\n    <tr>\n      <th>4</th>\n      <td>2003.01.07</td>\n      <td>0.65030</td>\n      <td>0.65100</td>\n      <td>0.64800</td>\n      <td>0.64890</td>\n      <td>7046</td>\n      <td>-0.001139</td>\n      <td>-0.254969</td>\n      <td>0.004400</td>\n      <td>-65.373563</td>\n    </tr>\n    <tr>\n      <th>...</th>\n      <td>...</td>\n      <td>...</td>\n      <td>...</td>\n      <td>...</td>\n      <td>...</td>\n      <td>...</td>\n      <td>...</td>\n      <td>...</td>\n      <td>...</td>\n      <td>...</td>\n    </tr>\n    <tr>\n      <th>5407</th>\n      <td>2023.10.30</td>\n      <td>0.87093</td>\n      <td>0.87404</td>\n      <td>0.87067</td>\n      <td>0.87227</td>\n      <td>54841</td>\n      <td>0.000973</td>\n      <td>0.001458</td>\n      <td>0.003626</td>\n      <td>158.678286</td>\n    </tr>\n    <tr>\n      <th>5408</th>\n      <td>2023.10.31</td>\n      <td>0.87231</td>\n      <td>0.87536</td>\n      <td>0.86961</td>\n      <td>0.87019</td>\n      <td>68227</td>\n      <td>-0.001304</td>\n      <td>-0.000551</td>\n      <td>0.004051</td>\n      <td>36.290323</td>\n    </tr>\n    <tr>\n      <th>5409</th>\n      <td>2023.11.01</td>\n      <td>0.87017</td>\n      <td>0.87121</td>\n      <td>0.86824</td>\n      <td>0.86938</td>\n      <td>69430</td>\n      <td>-0.001566</td>\n      <td>-0.003336</td>\n      <td>0.003835</td>\n      <td>-150.698216</td>\n    </tr>\n    <tr>\n      <th>5410</th>\n      <td>2023.11.02</td>\n      <td>0.86938</td>\n      <td>0.87354</td>\n      <td>0.86890</td>\n      <td>0.87033</td>\n      <td>60801</td>\n      <td>-0.000391</td>\n      <td>-0.000425</td>\n      <td>0.003996</td>\n      <td>-19.662921</td>\n    </tr>\n    <tr>\n      <th>5411</th>\n      <td>2023.11.03</td>\n      <td>0.87020</td>\n      <td>0.87127</td>\n      <td>0.87017</td>\n      <td>0.87097</td>\n      <td>11022</td>\n      <td>0.000393</td>\n      <td>-0.000241</td>\n      <td>0.003417</td>\n      <td>-24.061033</td>\n    </tr>\n  </tbody>\n</table>\n<p>5412 rows × 10 columns</p>\n</div>"
     },
     "execution_count": 10,
     "metadata": {},
     "output_type": "execute_result"
    }
   ],
   "source": [
    "from ta.trend import CCIIndicator\n",
    "\n",
    "CCI = CCIIndicator(data['<HIGH>'], data['<LOW>'], data['<CLOSE>'], window=5).cci()\n",
    "data['cci'] = CCI\n",
    "data"
   ],
   "metadata": {
    "collapsed": false,
    "ExecuteTime": {
     "end_time": "2023-11-07T05:01:18.707782Z",
     "start_time": "2023-11-07T05:01:18.634944Z"
    }
   },
   "id": "88e6a0f5073418be"
  },
  {
   "cell_type": "code",
   "execution_count": 11,
   "outputs": [
    {
     "name": "stdout",
     "output_type": "stream",
     "text": [
      "                            OLS Regression Results                            \n",
      "==============================================================================\n",
      "Dep. Variable:                return5   R-squared:                       0.519\n",
      "Model:                            OLS   Adj. R-squared:                  0.519\n",
      "Method:                 Least Squares   F-statistic:                     5628.\n",
      "Date:                Tue, 07 Nov 2023   Prob (F-statistic):               0.00\n",
      "Time:                        13:01:18   Log-Likelihood:                 18722.\n",
      "No. Observations:                5217   AIC:                        -3.744e+04\n",
      "Df Residuals:                    5215   BIC:                        -3.743e+04\n",
      "Df Model:                           1                                         \n",
      "Covariance Type:            nonrobust                                         \n",
      "==============================================================================\n",
      "                 coef    std err          t      P>|t|      [0.025      0.975]\n",
      "------------------------------------------------------------------------------\n",
      "const          0.0002   9.26e-05      1.749      0.080   -1.96e-05       0.000\n",
      "cci         7.329e-05   9.77e-07     75.020      0.000    7.14e-05    7.52e-05\n",
      "==============================================================================\n",
      "Omnibus:                       85.687   Durbin-Watson:                   0.920\n",
      "Prob(Omnibus):                  0.000   Jarque-Bera (JB):              166.001\n",
      "Skew:                           0.043   Prob(JB):                     8.98e-37\n",
      "Kurtosis:                       3.870   Cond. No.                         94.8\n",
      "==============================================================================\n",
      "\n",
      "Notes:\n",
      "[1] Standard Errors assume that the covariance matrix of the errors is correctly specified.\n"
     ]
    }
   ],
   "source": [
    "data_to_reg = data.dropna()\n",
    "data_to_reg = data_to_reg[(data_to_reg.mean() - 3 * data_to_reg.std() < data_to_reg) & (data_to_reg < data_to_reg.mean() + 3 * data_to_reg.std())]\n",
    "data_to_reg = data_to_reg.iloc[:, 1:].dropna()\n",
    "y1 = data_to_reg['return5']\n",
    "x1 = data_to_reg[['cci']]\n",
    "x1 = sm.add_constant(x1)\n",
    "mod = sm.OLS(y1, x1)\n",
    "res = mod.fit()\n",
    "print(res.summary())"
   ],
   "metadata": {
    "collapsed": false,
    "ExecuteTime": {
     "end_time": "2023-11-07T05:01:18.841610Z",
     "start_time": "2023-11-07T05:01:18.707867Z"
    }
   },
   "id": "c397f432ab45ef9d"
  },
  {
   "cell_type": "code",
   "execution_count": 12,
   "outputs": [
    {
     "name": "stdout",
     "output_type": "stream",
     "text": [
      "                            OLS Regression Results                            \n",
      "==============================================================================\n",
      "Dep. Variable:                return5   R-squared:                       0.635\n",
      "Model:                            OLS   Adj. R-squared:                  0.635\n",
      "Method:                 Least Squares   F-statistic:                     4533.\n",
      "Date:                Tue, 07 Nov 2023   Prob (F-statistic):               0.00\n",
      "Time:                        13:01:18   Log-Likelihood:                 19440.\n",
      "No. Observations:                5217   AIC:                        -3.887e+04\n",
      "Df Residuals:                    5214   BIC:                        -3.886e+04\n",
      "Df Model:                           2                                         \n",
      "Covariance Type:            nonrobust                                         \n",
      "==============================================================================\n",
      "                 coef    std err          t      P>|t|      [0.025      0.975]\n",
      "------------------------------------------------------------------------------\n",
      "const       7.277e-05   8.07e-05      0.901      0.367   -8.55e-05       0.000\n",
      "cci         1.637e-05   1.64e-06      9.992      0.000    1.32e-05    1.96e-05\n",
      "bias           1.3274      0.033     40.675      0.000       1.263       1.391\n",
      "==============================================================================\n",
      "Omnibus:                       78.851   Durbin-Watson:                   0.961\n",
      "Prob(Omnibus):                  0.000   Jarque-Bera (JB):              146.385\n",
      "Skew:                           0.054   Prob(JB):                     1.63e-32\n",
      "Kurtosis:                       3.814   Cond. No.                     3.83e+04\n",
      "==============================================================================\n",
      "\n",
      "Notes:\n",
      "[1] Standard Errors assume that the covariance matrix of the errors is correctly specified.\n",
      "[2] The condition number is large, 3.83e+04. This might indicate that there are\n",
      "strong multicollinearity or other numerical problems.\n"
     ]
    }
   ],
   "source": [
    "data_to_reg = data.dropna()\n",
    "data_to_reg = data_to_reg[(data_to_reg.mean() - 3 * data_to_reg.std() < data_to_reg) & (data_to_reg < data_to_reg.mean() + 3 * data_to_reg.std())]\n",
    "data_to_reg = data_to_reg.iloc[:, 1:].dropna()\n",
    "y1 = data_to_reg['return5']\n",
    "x1 = data_to_reg[['cci', 'bias']]\n",
    "x1 = sm.add_constant(x1)\n",
    "mod = sm.OLS(y1, x1)\n",
    "res = mod.fit()\n",
    "print(res.summary())"
   ],
   "metadata": {
    "collapsed": false,
    "ExecuteTime": {
     "end_time": "2023-11-07T05:01:18.842438Z",
     "start_time": "2023-11-07T05:01:18.759220Z"
    }
   },
   "id": "59641a020371e6aa"
  },
  {
   "cell_type": "markdown",
   "source": [
    "Bias是比CCI更好的指标"
   ],
   "metadata": {
    "collapsed": false
   },
   "id": "b9e892dee01ae57e"
  },
  {
   "cell_type": "markdown",
   "source": [
    "## 构建RSI"
   ],
   "metadata": {
    "collapsed": false
   },
   "id": "954406b4126609ed"
  },
  {
   "cell_type": "code",
   "execution_count": 13,
   "outputs": [
    {
     "data": {
      "text/plain": "          <DATE>   <OPEN>   <HIGH>    <LOW>  <CLOSE>  <TICKVOL>      bias  \\\n0     2003.01.01  0.65180  0.65220  0.64970  0.65070       3951       NaN   \n1     2003.01.02  0.65060  0.65340  0.64770  0.65030       6500       NaN   \n2     2003.01.03  0.65030  0.65220  0.64680  0.64790       6445       NaN   \n3     2003.01.06  0.64760  0.65240  0.64700  0.65040       6558       NaN   \n4     2003.01.07  0.65030  0.65100  0.64800  0.64890       7046 -0.001139   \n...          ...      ...      ...      ...      ...        ...       ...   \n5407  2023.10.30  0.87093  0.87404  0.87067  0.87227      54841  0.000973   \n5408  2023.10.31  0.87231  0.87536  0.86961  0.87019      68227 -0.001304   \n5409  2023.11.01  0.87017  0.87121  0.86824  0.86938      69430 -0.001566   \n5410  2023.11.02  0.86938  0.87354  0.86890  0.87033      60801 -0.000391   \n5411  2023.11.03  0.87020  0.87127  0.87017  0.87097      11022  0.000393   \n\n       return5       ATR         cci        rsi  \n0    -0.254015  0.000000         NaN        NaN  \n1    -0.252692  0.000000         NaN        NaN  \n2    -0.254756  0.000000         NaN        NaN  \n3    -0.252697  0.000000         NaN        NaN  \n4    -0.254969  0.004400  -65.373563  38.162113  \n...        ...       ...         ...        ...  \n5407  0.001458  0.003626  158.678286  71.132344  \n5408 -0.000551  0.004051   36.290323  48.057489  \n5409 -0.003336  0.003835 -150.698216  41.503727  \n5410 -0.000425  0.003996  -19.662921  51.250266  \n5411 -0.000241  0.003417  -24.061033  57.248701  \n\n[5412 rows x 11 columns]",
      "text/html": "<div>\n<style scoped>\n    .dataframe tbody tr th:only-of-type {\n        vertical-align: middle;\n    }\n\n    .dataframe tbody tr th {\n        vertical-align: top;\n    }\n\n    .dataframe thead th {\n        text-align: right;\n    }\n</style>\n<table border=\"1\" class=\"dataframe\">\n  <thead>\n    <tr style=\"text-align: right;\">\n      <th></th>\n      <th>&lt;DATE&gt;</th>\n      <th>&lt;OPEN&gt;</th>\n      <th>&lt;HIGH&gt;</th>\n      <th>&lt;LOW&gt;</th>\n      <th>&lt;CLOSE&gt;</th>\n      <th>&lt;TICKVOL&gt;</th>\n      <th>bias</th>\n      <th>return5</th>\n      <th>ATR</th>\n      <th>cci</th>\n      <th>rsi</th>\n    </tr>\n  </thead>\n  <tbody>\n    <tr>\n      <th>0</th>\n      <td>2003.01.01</td>\n      <td>0.65180</td>\n      <td>0.65220</td>\n      <td>0.64970</td>\n      <td>0.65070</td>\n      <td>3951</td>\n      <td>NaN</td>\n      <td>-0.254015</td>\n      <td>0.000000</td>\n      <td>NaN</td>\n      <td>NaN</td>\n    </tr>\n    <tr>\n      <th>1</th>\n      <td>2003.01.02</td>\n      <td>0.65060</td>\n      <td>0.65340</td>\n      <td>0.64770</td>\n      <td>0.65030</td>\n      <td>6500</td>\n      <td>NaN</td>\n      <td>-0.252692</td>\n      <td>0.000000</td>\n      <td>NaN</td>\n      <td>NaN</td>\n    </tr>\n    <tr>\n      <th>2</th>\n      <td>2003.01.03</td>\n      <td>0.65030</td>\n      <td>0.65220</td>\n      <td>0.64680</td>\n      <td>0.64790</td>\n      <td>6445</td>\n      <td>NaN</td>\n      <td>-0.254756</td>\n      <td>0.000000</td>\n      <td>NaN</td>\n      <td>NaN</td>\n    </tr>\n    <tr>\n      <th>3</th>\n      <td>2003.01.06</td>\n      <td>0.64760</td>\n      <td>0.65240</td>\n      <td>0.64700</td>\n      <td>0.65040</td>\n      <td>6558</td>\n      <td>NaN</td>\n      <td>-0.252697</td>\n      <td>0.000000</td>\n      <td>NaN</td>\n      <td>NaN</td>\n    </tr>\n    <tr>\n      <th>4</th>\n      <td>2003.01.07</td>\n      <td>0.65030</td>\n      <td>0.65100</td>\n      <td>0.64800</td>\n      <td>0.64890</td>\n      <td>7046</td>\n      <td>-0.001139</td>\n      <td>-0.254969</td>\n      <td>0.004400</td>\n      <td>-65.373563</td>\n      <td>38.162113</td>\n    </tr>\n    <tr>\n      <th>...</th>\n      <td>...</td>\n      <td>...</td>\n      <td>...</td>\n      <td>...</td>\n      <td>...</td>\n      <td>...</td>\n      <td>...</td>\n      <td>...</td>\n      <td>...</td>\n      <td>...</td>\n      <td>...</td>\n    </tr>\n    <tr>\n      <th>5407</th>\n      <td>2023.10.30</td>\n      <td>0.87093</td>\n      <td>0.87404</td>\n      <td>0.87067</td>\n      <td>0.87227</td>\n      <td>54841</td>\n      <td>0.000973</td>\n      <td>0.001458</td>\n      <td>0.003626</td>\n      <td>158.678286</td>\n      <td>71.132344</td>\n    </tr>\n    <tr>\n      <th>5408</th>\n      <td>2023.10.31</td>\n      <td>0.87231</td>\n      <td>0.87536</td>\n      <td>0.86961</td>\n      <td>0.87019</td>\n      <td>68227</td>\n      <td>-0.001304</td>\n      <td>-0.000551</td>\n      <td>0.004051</td>\n      <td>36.290323</td>\n      <td>48.057489</td>\n    </tr>\n    <tr>\n      <th>5409</th>\n      <td>2023.11.01</td>\n      <td>0.87017</td>\n      <td>0.87121</td>\n      <td>0.86824</td>\n      <td>0.86938</td>\n      <td>69430</td>\n      <td>-0.001566</td>\n      <td>-0.003336</td>\n      <td>0.003835</td>\n      <td>-150.698216</td>\n      <td>41.503727</td>\n    </tr>\n    <tr>\n      <th>5410</th>\n      <td>2023.11.02</td>\n      <td>0.86938</td>\n      <td>0.87354</td>\n      <td>0.86890</td>\n      <td>0.87033</td>\n      <td>60801</td>\n      <td>-0.000391</td>\n      <td>-0.000425</td>\n      <td>0.003996</td>\n      <td>-19.662921</td>\n      <td>51.250266</td>\n    </tr>\n    <tr>\n      <th>5411</th>\n      <td>2023.11.03</td>\n      <td>0.87020</td>\n      <td>0.87127</td>\n      <td>0.87017</td>\n      <td>0.87097</td>\n      <td>11022</td>\n      <td>0.000393</td>\n      <td>-0.000241</td>\n      <td>0.003417</td>\n      <td>-24.061033</td>\n      <td>57.248701</td>\n    </tr>\n  </tbody>\n</table>\n<p>5412 rows × 11 columns</p>\n</div>"
     },
     "execution_count": 13,
     "metadata": {},
     "output_type": "execute_result"
    }
   ],
   "source": [
    "from ta.momentum import RSIIndicator\n",
    "\n",
    "RSI = RSIIndicator(data['<CLOSE>'], window=5).rsi()\n",
    "data['rsi'] = RSI\n",
    "data"
   ],
   "metadata": {
    "collapsed": false,
    "ExecuteTime": {
     "end_time": "2023-11-07T05:01:18.918316Z",
     "start_time": "2023-11-07T05:01:18.851496Z"
    }
   },
   "id": "1fa4c8aa869b4fb7"
  },
  {
   "cell_type": "code",
   "execution_count": 14,
   "outputs": [
    {
     "name": "stdout",
     "output_type": "stream",
     "text": [
      "                            OLS Regression Results                            \n",
      "==============================================================================\n",
      "Dep. Variable:                return5   R-squared:                       0.700\n",
      "Model:                            OLS   Adj. R-squared:                  0.700\n",
      "Method:                 Least Squares   F-statistic:                 1.217e+04\n",
      "Date:                Tue, 07 Nov 2023   Prob (F-statistic):               0.00\n",
      "Time:                        13:01:18   Log-Likelihood:                 19953.\n",
      "No. Observations:                5217   AIC:                        -3.990e+04\n",
      "Df Residuals:                    5215   BIC:                        -3.989e+04\n",
      "Df Model:                           1                                         \n",
      "Covariance Type:            nonrobust                                         \n",
      "==============================================================================\n",
      "                 coef    std err          t      P>|t|      [0.025      0.975]\n",
      "------------------------------------------------------------------------------\n",
      "const         -0.0209      0.000   -102.464      0.000      -0.021      -0.021\n",
      "rsi            0.0004   3.84e-06    110.314      0.000       0.000       0.000\n",
      "==============================================================================\n",
      "Omnibus:                       94.691   Durbin-Watson:                   0.907\n",
      "Prob(Omnibus):                  0.000   Jarque-Bera (JB):              180.796\n",
      "Skew:                          -0.092   Prob(JB):                     5.50e-40\n",
      "Kurtosis:                       3.893   Cond. No.                         149.\n",
      "==============================================================================\n",
      "\n",
      "Notes:\n",
      "[1] Standard Errors assume that the covariance matrix of the errors is correctly specified.\n"
     ]
    }
   ],
   "source": [
    "data_to_reg = data.dropna()\n",
    "data_to_reg = data_to_reg[(data_to_reg.mean() - 3 * data_to_reg.std() < data_to_reg) & (data_to_reg < data_to_reg.mean() + 3 * data_to_reg.std())]\n",
    "data_to_reg = data_to_reg.iloc[:, 1:].dropna()\n",
    "y1 = data_to_reg['return5']\n",
    "x1 = data_to_reg[['rsi']]\n",
    "x1 = sm.add_constant(x1)\n",
    "mod = sm.OLS(y1, x1)\n",
    "res = mod.fit()\n",
    "print(res.summary())"
   ],
   "metadata": {
    "collapsed": false,
    "ExecuteTime": {
     "end_time": "2023-11-07T05:01:18.994308Z",
     "start_time": "2023-11-07T05:01:18.918851Z"
    }
   },
   "id": "2119aa3b3b8a9ef4"
  },
  {
   "cell_type": "code",
   "execution_count": 15,
   "outputs": [
    {
     "name": "stdout",
     "output_type": "stream",
     "text": [
      "                            OLS Regression Results                            \n",
      "==============================================================================\n",
      "Dep. Variable:                return5   R-squared:                       0.734\n",
      "Model:                            OLS   Adj. R-squared:                  0.734\n",
      "Method:                 Least Squares   F-statistic:                     7201.\n",
      "Date:                Tue, 07 Nov 2023   Prob (F-statistic):               0.00\n",
      "Time:                        13:01:19   Log-Likelihood:                 20268.\n",
      "No. Observations:                5217   AIC:                        -4.053e+04\n",
      "Df Residuals:                    5214   BIC:                        -4.051e+04\n",
      "Df Model:                           2                                         \n",
      "Covariance Type:            nonrobust                                         \n",
      "==============================================================================\n",
      "                 coef    std err          t      P>|t|      [0.025      0.975]\n",
      "------------------------------------------------------------------------------\n",
      "const         -0.0143      0.000    -44.443      0.000      -0.015      -0.014\n",
      "rsi            0.0003   6.32e-06     45.663      0.000       0.000       0.000\n",
      "bias           0.6562      0.025     25.896      0.000       0.606       0.706\n",
      "==============================================================================\n",
      "Omnibus:                       83.301   Durbin-Watson:                   1.110\n",
      "Prob(Omnibus):                  0.000   Jarque-Bera (JB):              156.166\n",
      "Skew:                          -0.065   Prob(JB):                     1.23e-34\n",
      "Kurtosis:                       3.838   Cond. No.                     1.96e+04\n",
      "==============================================================================\n",
      "\n",
      "Notes:\n",
      "[1] Standard Errors assume that the covariance matrix of the errors is correctly specified.\n",
      "[2] The condition number is large, 1.96e+04. This might indicate that there are\n",
      "strong multicollinearity or other numerical problems.\n"
     ]
    }
   ],
   "source": [
    "data_to_reg = data.dropna()\n",
    "data_to_reg = data_to_reg[(data_to_reg.mean() - 3 * data_to_reg.std() < data_to_reg) & (data_to_reg < data_to_reg.mean() + 3 * data_to_reg.std())]\n",
    "data_to_reg = data_to_reg.iloc[:, 1:].dropna()\n",
    "y1 = data_to_reg['return5']\n",
    "x1 = data_to_reg[['rsi', 'bias']]\n",
    "x1 = sm.add_constant(x1)\n",
    "mod = sm.OLS(y1, x1)\n",
    "res = mod.fit()\n",
    "print(res.summary())"
   ],
   "metadata": {
    "collapsed": false,
    "ExecuteTime": {
     "end_time": "2023-11-07T05:01:19.061800Z",
     "start_time": "2023-11-07T05:01:18.974985Z"
    }
   },
   "id": "73b29060c273ac75"
  },
  {
   "cell_type": "markdown",
   "source": [
    "## 构建ADX"
   ],
   "metadata": {
    "collapsed": false
   },
   "id": "c7c42de65e916c5c"
  },
  {
   "cell_type": "code",
   "execution_count": 16,
   "outputs": [
    {
     "data": {
      "text/plain": "          <DATE>   <OPEN>   <HIGH>    <LOW>  <CLOSE>  <TICKVOL>      bias  \\\n0     2003.01.01  0.65180  0.65220  0.64970  0.65070       3951       NaN   \n1     2003.01.02  0.65060  0.65340  0.64770  0.65030       6500       NaN   \n2     2003.01.03  0.65030  0.65220  0.64680  0.64790       6445       NaN   \n3     2003.01.06  0.64760  0.65240  0.64700  0.65040       6558       NaN   \n4     2003.01.07  0.65030  0.65100  0.64800  0.64890       7046 -0.001139   \n...          ...      ...      ...      ...      ...        ...       ...   \n5407  2023.10.30  0.87093  0.87404  0.87067  0.87227      54841  0.000973   \n5408  2023.10.31  0.87231  0.87536  0.86961  0.87019      68227 -0.001304   \n5409  2023.11.01  0.87017  0.87121  0.86824  0.86938      69430 -0.001566   \n5410  2023.11.02  0.86938  0.87354  0.86890  0.87033      60801 -0.000391   \n5411  2023.11.03  0.87020  0.87127  0.87017  0.87097      11022  0.000393   \n\n       return5       ATR         cci        rsi        adx  \n0    -0.254015  0.000000         NaN        NaN   0.000000  \n1    -0.252692  0.000000         NaN        NaN   0.000000  \n2    -0.254756  0.000000         NaN        NaN   0.000000  \n3    -0.252697  0.000000         NaN        NaN   0.000000  \n4    -0.254969  0.004400  -65.373563  38.162113   0.000000  \n...        ...       ...         ...        ...        ...  \n5407  0.001458  0.003626  158.678286  71.132344  51.534626  \n5408 -0.000551  0.004051   36.290323  48.057489  56.001142  \n5409 -0.003336  0.003835 -150.698216  41.503727  51.257127  \n5410 -0.000425  0.003996  -19.662921  51.250266  52.027286  \n5411 -0.000241  0.003417  -24.061033  57.248701  52.643413  \n\n[5412 rows x 12 columns]",
      "text/html": "<div>\n<style scoped>\n    .dataframe tbody tr th:only-of-type {\n        vertical-align: middle;\n    }\n\n    .dataframe tbody tr th {\n        vertical-align: top;\n    }\n\n    .dataframe thead th {\n        text-align: right;\n    }\n</style>\n<table border=\"1\" class=\"dataframe\">\n  <thead>\n    <tr style=\"text-align: right;\">\n      <th></th>\n      <th>&lt;DATE&gt;</th>\n      <th>&lt;OPEN&gt;</th>\n      <th>&lt;HIGH&gt;</th>\n      <th>&lt;LOW&gt;</th>\n      <th>&lt;CLOSE&gt;</th>\n      <th>&lt;TICKVOL&gt;</th>\n      <th>bias</th>\n      <th>return5</th>\n      <th>ATR</th>\n      <th>cci</th>\n      <th>rsi</th>\n      <th>adx</th>\n    </tr>\n  </thead>\n  <tbody>\n    <tr>\n      <th>0</th>\n      <td>2003.01.01</td>\n      <td>0.65180</td>\n      <td>0.65220</td>\n      <td>0.64970</td>\n      <td>0.65070</td>\n      <td>3951</td>\n      <td>NaN</td>\n      <td>-0.254015</td>\n      <td>0.000000</td>\n      <td>NaN</td>\n      <td>NaN</td>\n      <td>0.000000</td>\n    </tr>\n    <tr>\n      <th>1</th>\n      <td>2003.01.02</td>\n      <td>0.65060</td>\n      <td>0.65340</td>\n      <td>0.64770</td>\n      <td>0.65030</td>\n      <td>6500</td>\n      <td>NaN</td>\n      <td>-0.252692</td>\n      <td>0.000000</td>\n      <td>NaN</td>\n      <td>NaN</td>\n      <td>0.000000</td>\n    </tr>\n    <tr>\n      <th>2</th>\n      <td>2003.01.03</td>\n      <td>0.65030</td>\n      <td>0.65220</td>\n      <td>0.64680</td>\n      <td>0.64790</td>\n      <td>6445</td>\n      <td>NaN</td>\n      <td>-0.254756</td>\n      <td>0.000000</td>\n      <td>NaN</td>\n      <td>NaN</td>\n      <td>0.000000</td>\n    </tr>\n    <tr>\n      <th>3</th>\n      <td>2003.01.06</td>\n      <td>0.64760</td>\n      <td>0.65240</td>\n      <td>0.64700</td>\n      <td>0.65040</td>\n      <td>6558</td>\n      <td>NaN</td>\n      <td>-0.252697</td>\n      <td>0.000000</td>\n      <td>NaN</td>\n      <td>NaN</td>\n      <td>0.000000</td>\n    </tr>\n    <tr>\n      <th>4</th>\n      <td>2003.01.07</td>\n      <td>0.65030</td>\n      <td>0.65100</td>\n      <td>0.64800</td>\n      <td>0.64890</td>\n      <td>7046</td>\n      <td>-0.001139</td>\n      <td>-0.254969</td>\n      <td>0.004400</td>\n      <td>-65.373563</td>\n      <td>38.162113</td>\n      <td>0.000000</td>\n    </tr>\n    <tr>\n      <th>...</th>\n      <td>...</td>\n      <td>...</td>\n      <td>...</td>\n      <td>...</td>\n      <td>...</td>\n      <td>...</td>\n      <td>...</td>\n      <td>...</td>\n      <td>...</td>\n      <td>...</td>\n      <td>...</td>\n      <td>...</td>\n    </tr>\n    <tr>\n      <th>5407</th>\n      <td>2023.10.30</td>\n      <td>0.87093</td>\n      <td>0.87404</td>\n      <td>0.87067</td>\n      <td>0.87227</td>\n      <td>54841</td>\n      <td>0.000973</td>\n      <td>0.001458</td>\n      <td>0.003626</td>\n      <td>158.678286</td>\n      <td>71.132344</td>\n      <td>51.534626</td>\n    </tr>\n    <tr>\n      <th>5408</th>\n      <td>2023.10.31</td>\n      <td>0.87231</td>\n      <td>0.87536</td>\n      <td>0.86961</td>\n      <td>0.87019</td>\n      <td>68227</td>\n      <td>-0.001304</td>\n      <td>-0.000551</td>\n      <td>0.004051</td>\n      <td>36.290323</td>\n      <td>48.057489</td>\n      <td>56.001142</td>\n    </tr>\n    <tr>\n      <th>5409</th>\n      <td>2023.11.01</td>\n      <td>0.87017</td>\n      <td>0.87121</td>\n      <td>0.86824</td>\n      <td>0.86938</td>\n      <td>69430</td>\n      <td>-0.001566</td>\n      <td>-0.003336</td>\n      <td>0.003835</td>\n      <td>-150.698216</td>\n      <td>41.503727</td>\n      <td>51.257127</td>\n    </tr>\n    <tr>\n      <th>5410</th>\n      <td>2023.11.02</td>\n      <td>0.86938</td>\n      <td>0.87354</td>\n      <td>0.86890</td>\n      <td>0.87033</td>\n      <td>60801</td>\n      <td>-0.000391</td>\n      <td>-0.000425</td>\n      <td>0.003996</td>\n      <td>-19.662921</td>\n      <td>51.250266</td>\n      <td>52.027286</td>\n    </tr>\n    <tr>\n      <th>5411</th>\n      <td>2023.11.03</td>\n      <td>0.87020</td>\n      <td>0.87127</td>\n      <td>0.87017</td>\n      <td>0.87097</td>\n      <td>11022</td>\n      <td>0.000393</td>\n      <td>-0.000241</td>\n      <td>0.003417</td>\n      <td>-24.061033</td>\n      <td>57.248701</td>\n      <td>52.643413</td>\n    </tr>\n  </tbody>\n</table>\n<p>5412 rows × 12 columns</p>\n</div>"
     },
     "execution_count": 16,
     "metadata": {},
     "output_type": "execute_result"
    }
   ],
   "source": [
    "from ta.trend import ADXIndicator\n",
    "\n",
    "ADX = ADXIndicator(data['<HIGH>'], data['<LOW>'], data['<CLOSE>'], window=5).adx()\n",
    "data['adx'] = ADX\n",
    "data"
   ],
   "metadata": {
    "collapsed": false,
    "ExecuteTime": {
     "end_time": "2023-11-07T05:01:19.101402Z",
     "start_time": "2023-11-07T05:01:19.021606Z"
    }
   },
   "id": "1a01890fefda99c"
  },
  {
   "cell_type": "code",
   "execution_count": 17,
   "outputs": [
    {
     "name": "stdout",
     "output_type": "stream",
     "text": [
      "                            OLS Regression Results                            \n",
      "==============================================================================\n",
      "Dep. Variable:                return5   R-squared:                       0.007\n",
      "Model:                            OLS   Adj. R-squared:                  0.006\n",
      "Method:                 Least Squares   F-statistic:                     34.92\n",
      "Date:                Tue, 07 Nov 2023   Prob (F-statistic):           3.66e-09\n",
      "Time:                        13:01:19   Log-Likelihood:                 16777.\n",
      "No. Observations:                5194   AIC:                        -3.355e+04\n",
      "Df Residuals:                    5192   BIC:                        -3.354e+04\n",
      "Df Model:                           1                                         \n",
      "Covariance Type:            nonrobust                                         \n",
      "==============================================================================\n",
      "                 coef    std err          t      P>|t|      [0.025      0.975]\n",
      "------------------------------------------------------------------------------\n",
      "const         -0.0023      0.000     -5.438      0.000      -0.003      -0.001\n",
      "adx         6.064e-05   1.03e-05      5.909      0.000    4.05e-05    8.08e-05\n",
      "==============================================================================\n",
      "Omnibus:                       19.923   Durbin-Watson:                   0.486\n",
      "Prob(Omnibus):                  0.000   Jarque-Bera (JB):               26.150\n",
      "Skew:                          -0.028   Prob(JB):                     2.10e-06\n",
      "Kurtosis:                       3.343   Cond. No.                         132.\n",
      "==============================================================================\n",
      "\n",
      "Notes:\n",
      "[1] Standard Errors assume that the covariance matrix of the errors is correctly specified.\n"
     ]
    }
   ],
   "source": [
    "data_to_reg = data.dropna()\n",
    "data_to_reg = data_to_reg[(data_to_reg.mean() - 3 * data_to_reg.std() < data_to_reg) & (data_to_reg < data_to_reg.mean() + 3 * data_to_reg.std())]\n",
    "data_to_reg = data_to_reg.iloc[:, 1:].dropna()\n",
    "y1 = data_to_reg['return5']\n",
    "x1 = data_to_reg[['adx']]\n",
    "x1 = sm.add_constant(x1)\n",
    "mod = sm.OLS(y1, x1)\n",
    "res = mod.fit()\n",
    "print(res.summary())"
   ],
   "metadata": {
    "collapsed": false,
    "ExecuteTime": {
     "end_time": "2023-11-07T05:01:19.204568Z",
     "start_time": "2023-11-07T05:01:19.073912Z"
    }
   },
   "id": "64d7f91f4e9ca81f"
  },
  {
   "cell_type": "markdown",
   "source": [
    "adx也是一坨"
   ],
   "metadata": {
    "collapsed": false
   },
   "id": "440982a791528dc8"
  },
  {
   "cell_type": "markdown",
   "source": [
    "## 试一试mean reversion"
   ],
   "metadata": {
    "collapsed": false
   },
   "id": "3da10eabff173dc9"
  },
  {
   "cell_type": "code",
   "execution_count": 18,
   "outputs": [
    {
     "data": {
      "text/plain": "          <DATE>   <OPEN>   <HIGH>    <LOW>  <CLOSE>  <TICKVOL>      bias  \\\n0     2003.01.01  0.65180  0.65220  0.64970  0.65070       3951       NaN   \n1     2003.01.02  0.65060  0.65340  0.64770  0.65030       6500       NaN   \n2     2003.01.03  0.65030  0.65220  0.64680  0.64790       6445       NaN   \n3     2003.01.06  0.64760  0.65240  0.64700  0.65040       6558       NaN   \n4     2003.01.07  0.65030  0.65100  0.64800  0.64890       7046 -0.001139   \n...          ...      ...      ...      ...      ...        ...       ...   \n5407  2023.10.30  0.87093  0.87404  0.87067  0.87227      54841  0.000973   \n5408  2023.10.31  0.87231  0.87536  0.86961  0.87019      68227 -0.001304   \n5409  2023.11.01  0.87017  0.87121  0.86824  0.86938      69430 -0.001566   \n5410  2023.11.02  0.86938  0.87354  0.86890  0.87033      60801 -0.000391   \n5411  2023.11.03  0.87020  0.87127  0.87017  0.87097      11022  0.000393   \n\n       return5       ATR         cci        rsi        adx        mv  \n0    -0.254015  0.000000         NaN        NaN   0.000000       NaN  \n1    -0.252692  0.000000         NaN        NaN   0.000000       NaN  \n2    -0.254756  0.000000         NaN        NaN   0.000000       NaN  \n3    -0.252697  0.000000         NaN        NaN   0.000000       NaN  \n4    -0.254969  0.004400  -65.373563  38.162113   0.000000 -0.290640  \n...        ...       ...         ...        ...        ...       ...  \n5407  0.001458  0.003626  158.678286  71.132344  51.534626 -0.001079  \n5408 -0.000551  0.004051   36.290323  48.057489  56.001142 -0.000826  \n5409 -0.003336  0.003835 -150.698216  41.503727  51.257127 -0.000654  \n5410 -0.000425  0.003996  -19.662921  51.250266  52.027286 -0.000138  \n5411 -0.000241  0.003417  -24.061033  57.248701  52.643413 -0.000414  \n\n[5412 rows x 13 columns]",
      "text/html": "<div>\n<style scoped>\n    .dataframe tbody tr th:only-of-type {\n        vertical-align: middle;\n    }\n\n    .dataframe tbody tr th {\n        vertical-align: top;\n    }\n\n    .dataframe thead th {\n        text-align: right;\n    }\n</style>\n<table border=\"1\" class=\"dataframe\">\n  <thead>\n    <tr style=\"text-align: right;\">\n      <th></th>\n      <th>&lt;DATE&gt;</th>\n      <th>&lt;OPEN&gt;</th>\n      <th>&lt;HIGH&gt;</th>\n      <th>&lt;LOW&gt;</th>\n      <th>&lt;CLOSE&gt;</th>\n      <th>&lt;TICKVOL&gt;</th>\n      <th>bias</th>\n      <th>return5</th>\n      <th>ATR</th>\n      <th>cci</th>\n      <th>rsi</th>\n      <th>adx</th>\n      <th>mv</th>\n    </tr>\n  </thead>\n  <tbody>\n    <tr>\n      <th>0</th>\n      <td>2003.01.01</td>\n      <td>0.65180</td>\n      <td>0.65220</td>\n      <td>0.64970</td>\n      <td>0.65070</td>\n      <td>3951</td>\n      <td>NaN</td>\n      <td>-0.254015</td>\n      <td>0.000000</td>\n      <td>NaN</td>\n      <td>NaN</td>\n      <td>0.000000</td>\n      <td>NaN</td>\n    </tr>\n    <tr>\n      <th>1</th>\n      <td>2003.01.02</td>\n      <td>0.65060</td>\n      <td>0.65340</td>\n      <td>0.64770</td>\n      <td>0.65030</td>\n      <td>6500</td>\n      <td>NaN</td>\n      <td>-0.252692</td>\n      <td>0.000000</td>\n      <td>NaN</td>\n      <td>NaN</td>\n      <td>0.000000</td>\n      <td>NaN</td>\n    </tr>\n    <tr>\n      <th>2</th>\n      <td>2003.01.03</td>\n      <td>0.65030</td>\n      <td>0.65220</td>\n      <td>0.64680</td>\n      <td>0.64790</td>\n      <td>6445</td>\n      <td>NaN</td>\n      <td>-0.254756</td>\n      <td>0.000000</td>\n      <td>NaN</td>\n      <td>NaN</td>\n      <td>0.000000</td>\n      <td>NaN</td>\n    </tr>\n    <tr>\n      <th>3</th>\n      <td>2003.01.06</td>\n      <td>0.64760</td>\n      <td>0.65240</td>\n      <td>0.64700</td>\n      <td>0.65040</td>\n      <td>6558</td>\n      <td>NaN</td>\n      <td>-0.252697</td>\n      <td>0.000000</td>\n      <td>NaN</td>\n      <td>NaN</td>\n      <td>0.000000</td>\n      <td>NaN</td>\n    </tr>\n    <tr>\n      <th>4</th>\n      <td>2003.01.07</td>\n      <td>0.65030</td>\n      <td>0.65100</td>\n      <td>0.64800</td>\n      <td>0.64890</td>\n      <td>7046</td>\n      <td>-0.001139</td>\n      <td>-0.254969</td>\n      <td>0.004400</td>\n      <td>-65.373563</td>\n      <td>38.162113</td>\n      <td>0.000000</td>\n      <td>-0.290640</td>\n    </tr>\n    <tr>\n      <th>...</th>\n      <td>...</td>\n      <td>...</td>\n      <td>...</td>\n      <td>...</td>\n      <td>...</td>\n      <td>...</td>\n      <td>...</td>\n      <td>...</td>\n      <td>...</td>\n      <td>...</td>\n      <td>...</td>\n      <td>...</td>\n      <td>...</td>\n    </tr>\n    <tr>\n      <th>5407</th>\n      <td>2023.10.30</td>\n      <td>0.87093</td>\n      <td>0.87404</td>\n      <td>0.87067</td>\n      <td>0.87227</td>\n      <td>54841</td>\n      <td>0.000973</td>\n      <td>0.001458</td>\n      <td>0.003626</td>\n      <td>158.678286</td>\n      <td>71.132344</td>\n      <td>51.534626</td>\n      <td>-0.001079</td>\n    </tr>\n    <tr>\n      <th>5408</th>\n      <td>2023.10.31</td>\n      <td>0.87231</td>\n      <td>0.87536</td>\n      <td>0.86961</td>\n      <td>0.87019</td>\n      <td>68227</td>\n      <td>-0.001304</td>\n      <td>-0.000551</td>\n      <td>0.004051</td>\n      <td>36.290323</td>\n      <td>48.057489</td>\n      <td>56.001142</td>\n      <td>-0.000826</td>\n    </tr>\n    <tr>\n      <th>5409</th>\n      <td>2023.11.01</td>\n      <td>0.87017</td>\n      <td>0.87121</td>\n      <td>0.86824</td>\n      <td>0.86938</td>\n      <td>69430</td>\n      <td>-0.001566</td>\n      <td>-0.003336</td>\n      <td>0.003835</td>\n      <td>-150.698216</td>\n      <td>41.503727</td>\n      <td>51.257127</td>\n      <td>-0.000654</td>\n    </tr>\n    <tr>\n      <th>5410</th>\n      <td>2023.11.02</td>\n      <td>0.86938</td>\n      <td>0.87354</td>\n      <td>0.86890</td>\n      <td>0.87033</td>\n      <td>60801</td>\n      <td>-0.000391</td>\n      <td>-0.000425</td>\n      <td>0.003996</td>\n      <td>-19.662921</td>\n      <td>51.250266</td>\n      <td>52.027286</td>\n      <td>-0.000138</td>\n    </tr>\n    <tr>\n      <th>5411</th>\n      <td>2023.11.03</td>\n      <td>0.87020</td>\n      <td>0.87127</td>\n      <td>0.87017</td>\n      <td>0.87097</td>\n      <td>11022</td>\n      <td>0.000393</td>\n      <td>-0.000241</td>\n      <td>0.003417</td>\n      <td>-24.061033</td>\n      <td>57.248701</td>\n      <td>52.643413</td>\n      <td>-0.000414</td>\n    </tr>\n  </tbody>\n</table>\n<p>5412 rows × 13 columns</p>\n</div>"
     },
     "execution_count": 18,
     "metadata": {},
     "output_type": "execute_result"
    }
   ],
   "source": [
    "data['mv'] = np.log(data['<OPEN>'] / np.roll(data['<CLOSE>'], 1)).rolling(5).sum()\n",
    "data"
   ],
   "metadata": {
    "collapsed": false,
    "ExecuteTime": {
     "end_time": "2023-11-07T05:01:19.205901Z",
     "start_time": "2023-11-07T05:01:19.125258Z"
    }
   },
   "id": "9cac054cc6631e26"
  },
  {
   "cell_type": "code",
   "execution_count": 19,
   "outputs": [
    {
     "name": "stdout",
     "output_type": "stream",
     "text": [
      "                            OLS Regression Results                            \n",
      "==============================================================================\n",
      "Dep. Variable:                return5   R-squared:                       0.009\n",
      "Model:                            OLS   Adj. R-squared:                  0.009\n",
      "Method:                 Least Squares   F-statistic:                     47.74\n",
      "Date:                Tue, 07 Nov 2023   Prob (F-statistic):           5.47e-12\n",
      "Time:                        13:01:19   Log-Likelihood:                 16749.\n",
      "No. Observations:                5183   AIC:                        -3.349e+04\n",
      "Df Residuals:                    5181   BIC:                        -3.348e+04\n",
      "Df Model:                           1                                         \n",
      "Covariance Type:            nonrobust                                         \n",
      "==============================================================================\n",
      "                 coef    std err          t      P>|t|      [0.025      0.975]\n",
      "------------------------------------------------------------------------------\n",
      "const          0.0002      0.000      1.577      0.115   -5.16e-05       0.000\n",
      "mv             0.4715      0.068      6.909      0.000       0.338       0.605\n",
      "==============================================================================\n",
      "Omnibus:                       26.276   Durbin-Watson:                   0.482\n",
      "Prob(Omnibus):                  0.000   Jarque-Bera (JB):               33.139\n",
      "Skew:                           0.083   Prob(JB):                     6.37e-08\n",
      "Kurtosis:                       3.355   Cond. No.                         514.\n",
      "==============================================================================\n",
      "\n",
      "Notes:\n",
      "[1] Standard Errors assume that the covariance matrix of the errors is correctly specified.\n"
     ]
    }
   ],
   "source": [
    "data_to_reg = data.dropna()\n",
    "data_to_reg = data_to_reg[(data_to_reg.mean() - 3 * data_to_reg.std() < data_to_reg) & (data_to_reg < data_to_reg.mean() + 3 * data_to_reg.std())]\n",
    "data_to_reg = data_to_reg.iloc[:, 1:].dropna()\n",
    "y1 = data_to_reg['return5']\n",
    "x1 = data_to_reg[['mv']]\n",
    "x1 = sm.add_constant(x1)\n",
    "mod = sm.OLS(y1, x1)\n",
    "res = mod.fit()\n",
    "print(res.summary())"
   ],
   "metadata": {
    "collapsed": false,
    "ExecuteTime": {
     "end_time": "2023-11-07T05:01:19.234459Z",
     "start_time": "2023-11-07T05:01:19.140043Z"
    }
   },
   "id": "1777bce99b630279"
  },
  {
   "cell_type": "code",
   "execution_count": 20,
   "outputs": [
    {
     "data": {
      "text/plain": "           rsi      bias        mv\nrsi   1.000000  0.787043  0.049676\nbias  0.787043  1.000000  0.046566\nmv    0.049676  0.046566  1.000000",
      "text/html": "<div>\n<style scoped>\n    .dataframe tbody tr th:only-of-type {\n        vertical-align: middle;\n    }\n\n    .dataframe tbody tr th {\n        vertical-align: top;\n    }\n\n    .dataframe thead th {\n        text-align: right;\n    }\n</style>\n<table border=\"1\" class=\"dataframe\">\n  <thead>\n    <tr style=\"text-align: right;\">\n      <th></th>\n      <th>rsi</th>\n      <th>bias</th>\n      <th>mv</th>\n    </tr>\n  </thead>\n  <tbody>\n    <tr>\n      <th>rsi</th>\n      <td>1.000000</td>\n      <td>0.787043</td>\n      <td>0.049676</td>\n    </tr>\n    <tr>\n      <th>bias</th>\n      <td>0.787043</td>\n      <td>1.000000</td>\n      <td>0.046566</td>\n    </tr>\n    <tr>\n      <th>mv</th>\n      <td>0.049676</td>\n      <td>0.046566</td>\n      <td>1.000000</td>\n    </tr>\n  </tbody>\n</table>\n</div>"
     },
     "execution_count": 20,
     "metadata": {},
     "output_type": "execute_result"
    }
   ],
   "source": [
    "data[['rsi', 'bias', 'mv']].corr()"
   ],
   "metadata": {
    "collapsed": false,
    "ExecuteTime": {
     "end_time": "2023-11-07T05:01:19.235608Z",
     "start_time": "2023-11-07T05:01:19.179709Z"
    }
   },
   "id": "5ab6c5a85eb3df74"
  },
  {
   "cell_type": "code",
   "execution_count": 21,
   "outputs": [
    {
     "name": "stdout",
     "output_type": "stream",
     "text": [
      "                            OLS Regression Results                            \n",
      "==============================================================================\n",
      "Dep. Variable:                return5   R-squared:                       0.733\n",
      "Model:                            OLS   Adj. R-squared:                  0.733\n",
      "Method:                 Least Squares   F-statistic:                     7124.\n",
      "Date:                Tue, 07 Nov 2023   Prob (F-statistic):               0.00\n",
      "Time:                        13:01:19   Log-Likelihood:                 20151.\n",
      "No. Observations:                5183   AIC:                        -4.030e+04\n",
      "Df Residuals:                    5180   BIC:                        -4.028e+04\n",
      "Df Model:                           2                                         \n",
      "Covariance Type:            nonrobust                                         \n",
      "==============================================================================\n",
      "                 coef    std err          t      P>|t|      [0.025      0.975]\n",
      "------------------------------------------------------------------------------\n",
      "const         -0.0142      0.000    -44.112      0.000      -0.015      -0.014\n",
      "rsi            0.0003   6.34e-06     45.241      0.000       0.000       0.000\n",
      "bias           0.6629      0.025     26.062      0.000       0.613       0.713\n",
      "==============================================================================\n",
      "Omnibus:                       85.078   Durbin-Watson:                   1.111\n",
      "Prob(Omnibus):                  0.000   Jarque-Bera (JB):              159.674\n",
      "Skew:                          -0.073   Prob(JB):                     2.12e-35\n",
      "Kurtosis:                       3.847   Cond. No.                     1.96e+04\n",
      "==============================================================================\n",
      "\n",
      "Notes:\n",
      "[1] Standard Errors assume that the covariance matrix of the errors is correctly specified.\n",
      "[2] The condition number is large, 1.96e+04. This might indicate that there are\n",
      "strong multicollinearity or other numerical problems.\n"
     ]
    }
   ],
   "source": [
    "data_to_reg = data.dropna()\n",
    "data_to_reg = data_to_reg[(data_to_reg.mean() - 3 * data_to_reg.std() < data_to_reg) & (data_to_reg < data_to_reg.mean() + 3 * data_to_reg.std())]\n",
    "data_to_reg = data_to_reg.iloc[:, 1:].dropna()\n",
    "y1 = data_to_reg['return5']\n",
    "x1 = data_to_reg[['rsi', 'bias']]\n",
    "x1 = sm.add_constant(x1)\n",
    "mod = sm.OLS(y1, x1)\n",
    "res = mod.fit()\n",
    "print(res.summary())"
   ],
   "metadata": {
    "collapsed": false,
    "ExecuteTime": {
     "end_time": "2023-11-07T05:01:19.328602Z",
     "start_time": "2023-11-07T05:01:19.188405Z"
    }
   },
   "id": "3d75fca30b8c2216"
  },
  {
   "cell_type": "markdown",
   "source": [
    "## 构建动量因子"
   ],
   "metadata": {
    "collapsed": false
   },
   "id": "8501c61d0ed06d5f"
  },
  {
   "cell_type": "code",
   "execution_count": 22,
   "outputs": [
    {
     "data": {
      "text/plain": "          <DATE>   <OPEN>   <HIGH>    <LOW>  <CLOSE>  <TICKVOL>      bias  \\\n0     2003.01.01  0.65180  0.65220  0.64970  0.65070       3951       NaN   \n1     2003.01.02  0.65060  0.65340  0.64770  0.65030       6500       NaN   \n2     2003.01.03  0.65030  0.65220  0.64680  0.64790       6445       NaN   \n3     2003.01.06  0.64760  0.65240  0.64700  0.65040       6558       NaN   \n4     2003.01.07  0.65030  0.65100  0.64800  0.64890       7046 -0.001139   \n...          ...      ...      ...      ...      ...        ...       ...   \n5407  2023.10.30  0.87093  0.87404  0.87067  0.87227      54841  0.000973   \n5408  2023.10.31  0.87231  0.87536  0.86961  0.87019      68227 -0.001304   \n5409  2023.11.01  0.87017  0.87121  0.86824  0.86938      69430 -0.001566   \n5410  2023.11.02  0.86938  0.87354  0.86890  0.87033      60801 -0.000391   \n5411  2023.11.03  0.87020  0.87127  0.87017  0.87097      11022  0.000393   \n\n       return5       ATR         cci        rsi        adx        mv  momentum  \n0    -0.254015  0.000000         NaN        NaN   0.000000       NaN       NaN  \n1    -0.252692  0.000000         NaN        NaN   0.000000       NaN       NaN  \n2    -0.254756  0.000000         NaN        NaN   0.000000       NaN       NaN  \n3    -0.252697  0.000000         NaN        NaN   0.000000       NaN       NaN  \n4    -0.254969  0.004400  -65.373563  38.162113   0.000000 -0.290640 -0.000649  \n...        ...       ...         ...        ...        ...       ...       ...  \n5407  0.001458  0.003626  158.678286  71.132344  51.534626 -0.001079  0.000310  \n5408 -0.000551  0.004051   36.290323  48.057489  56.001142 -0.000826  0.002536  \n5409 -0.003336  0.003835 -150.698216  41.503727  51.257127 -0.000654  0.000275  \n5410 -0.000425  0.003996  -19.662921  51.250266  52.027286 -0.000138 -0.002688  \n5411 -0.000241  0.003417  -24.061033  57.248701  52.643413 -0.000414 -0.000287  \n\n[5412 rows x 14 columns]",
      "text/html": "<div>\n<style scoped>\n    .dataframe tbody tr th:only-of-type {\n        vertical-align: middle;\n    }\n\n    .dataframe tbody tr th {\n        vertical-align: top;\n    }\n\n    .dataframe thead th {\n        text-align: right;\n    }\n</style>\n<table border=\"1\" class=\"dataframe\">\n  <thead>\n    <tr style=\"text-align: right;\">\n      <th></th>\n      <th>&lt;DATE&gt;</th>\n      <th>&lt;OPEN&gt;</th>\n      <th>&lt;HIGH&gt;</th>\n      <th>&lt;LOW&gt;</th>\n      <th>&lt;CLOSE&gt;</th>\n      <th>&lt;TICKVOL&gt;</th>\n      <th>bias</th>\n      <th>return5</th>\n      <th>ATR</th>\n      <th>cci</th>\n      <th>rsi</th>\n      <th>adx</th>\n      <th>mv</th>\n      <th>momentum</th>\n    </tr>\n  </thead>\n  <tbody>\n    <tr>\n      <th>0</th>\n      <td>2003.01.01</td>\n      <td>0.65180</td>\n      <td>0.65220</td>\n      <td>0.64970</td>\n      <td>0.65070</td>\n      <td>3951</td>\n      <td>NaN</td>\n      <td>-0.254015</td>\n      <td>0.000000</td>\n      <td>NaN</td>\n      <td>NaN</td>\n      <td>0.000000</td>\n      <td>NaN</td>\n      <td>NaN</td>\n    </tr>\n    <tr>\n      <th>1</th>\n      <td>2003.01.02</td>\n      <td>0.65060</td>\n      <td>0.65340</td>\n      <td>0.64770</td>\n      <td>0.65030</td>\n      <td>6500</td>\n      <td>NaN</td>\n      <td>-0.252692</td>\n      <td>0.000000</td>\n      <td>NaN</td>\n      <td>NaN</td>\n      <td>0.000000</td>\n      <td>NaN</td>\n      <td>NaN</td>\n    </tr>\n    <tr>\n      <th>2</th>\n      <td>2003.01.03</td>\n      <td>0.65030</td>\n      <td>0.65220</td>\n      <td>0.64680</td>\n      <td>0.64790</td>\n      <td>6445</td>\n      <td>NaN</td>\n      <td>-0.254756</td>\n      <td>0.000000</td>\n      <td>NaN</td>\n      <td>NaN</td>\n      <td>0.000000</td>\n      <td>NaN</td>\n      <td>NaN</td>\n    </tr>\n    <tr>\n      <th>3</th>\n      <td>2003.01.06</td>\n      <td>0.64760</td>\n      <td>0.65240</td>\n      <td>0.64700</td>\n      <td>0.65040</td>\n      <td>6558</td>\n      <td>NaN</td>\n      <td>-0.252697</td>\n      <td>0.000000</td>\n      <td>NaN</td>\n      <td>NaN</td>\n      <td>0.000000</td>\n      <td>NaN</td>\n      <td>NaN</td>\n    </tr>\n    <tr>\n      <th>4</th>\n      <td>2003.01.07</td>\n      <td>0.65030</td>\n      <td>0.65100</td>\n      <td>0.64800</td>\n      <td>0.64890</td>\n      <td>7046</td>\n      <td>-0.001139</td>\n      <td>-0.254969</td>\n      <td>0.004400</td>\n      <td>-65.373563</td>\n      <td>38.162113</td>\n      <td>0.000000</td>\n      <td>-0.290640</td>\n      <td>-0.000649</td>\n    </tr>\n    <tr>\n      <th>...</th>\n      <td>...</td>\n      <td>...</td>\n      <td>...</td>\n      <td>...</td>\n      <td>...</td>\n      <td>...</td>\n      <td>...</td>\n      <td>...</td>\n      <td>...</td>\n      <td>...</td>\n      <td>...</td>\n      <td>...</td>\n      <td>...</td>\n      <td>...</td>\n    </tr>\n    <tr>\n      <th>5407</th>\n      <td>2023.10.30</td>\n      <td>0.87093</td>\n      <td>0.87404</td>\n      <td>0.87067</td>\n      <td>0.87227</td>\n      <td>54841</td>\n      <td>0.000973</td>\n      <td>0.001458</td>\n      <td>0.003626</td>\n      <td>158.678286</td>\n      <td>71.132344</td>\n      <td>51.534626</td>\n      <td>-0.001079</td>\n      <td>0.000310</td>\n    </tr>\n    <tr>\n      <th>5408</th>\n      <td>2023.10.31</td>\n      <td>0.87231</td>\n      <td>0.87536</td>\n      <td>0.86961</td>\n      <td>0.87019</td>\n      <td>68227</td>\n      <td>-0.001304</td>\n      <td>-0.000551</td>\n      <td>0.004051</td>\n      <td>36.290323</td>\n      <td>48.057489</td>\n      <td>56.001142</td>\n      <td>-0.000826</td>\n      <td>0.002536</td>\n    </tr>\n    <tr>\n      <th>5409</th>\n      <td>2023.11.01</td>\n      <td>0.87017</td>\n      <td>0.87121</td>\n      <td>0.86824</td>\n      <td>0.86938</td>\n      <td>69430</td>\n      <td>-0.001566</td>\n      <td>-0.003336</td>\n      <td>0.003835</td>\n      <td>-150.698216</td>\n      <td>41.503727</td>\n      <td>51.257127</td>\n      <td>-0.000654</td>\n      <td>0.000275</td>\n    </tr>\n    <tr>\n      <th>5410</th>\n      <td>2023.11.02</td>\n      <td>0.86938</td>\n      <td>0.87354</td>\n      <td>0.86890</td>\n      <td>0.87033</td>\n      <td>60801</td>\n      <td>-0.000391</td>\n      <td>-0.000425</td>\n      <td>0.003996</td>\n      <td>-19.662921</td>\n      <td>51.250266</td>\n      <td>52.027286</td>\n      <td>-0.000138</td>\n      <td>-0.002688</td>\n    </tr>\n    <tr>\n      <th>5411</th>\n      <td>2023.11.03</td>\n      <td>0.87020</td>\n      <td>0.87127</td>\n      <td>0.87017</td>\n      <td>0.87097</td>\n      <td>11022</td>\n      <td>0.000393</td>\n      <td>-0.000241</td>\n      <td>0.003417</td>\n      <td>-24.061033</td>\n      <td>57.248701</td>\n      <td>52.643413</td>\n      <td>-0.000414</td>\n      <td>-0.000287</td>\n    </tr>\n  </tbody>\n</table>\n<p>5412 rows × 14 columns</p>\n</div>"
     },
     "execution_count": 22,
     "metadata": {},
     "output_type": "execute_result"
    }
   ],
   "source": [
    "data['momentum'] = pd.DataFrame(np.log(np.roll(data['<CLOSE>'], 1) / np.roll(data['<OPEN>'], 1))).rolling(5).sum()\n",
    "data"
   ],
   "metadata": {
    "collapsed": false,
    "ExecuteTime": {
     "end_time": "2023-11-07T05:01:19.329559Z",
     "start_time": "2023-11-07T05:01:19.238712Z"
    }
   },
   "id": "b69baef2cb755a58"
  },
  {
   "cell_type": "code",
   "execution_count": 23,
   "outputs": [
    {
     "name": "stdout",
     "output_type": "stream",
     "text": [
      "                            OLS Regression Results                            \n",
      "==============================================================================\n",
      "Dep. Variable:                return5   R-squared:                       0.570\n",
      "Model:                            OLS   Adj. R-squared:                  0.570\n",
      "Method:                 Least Squares   F-statistic:                     6861.\n",
      "Date:                Tue, 07 Nov 2023   Prob (F-statistic):               0.00\n",
      "Time:                        13:01:19   Log-Likelihood:                 18906.\n",
      "No. Observations:                5169   AIC:                        -3.781e+04\n",
      "Df Residuals:                    5167   BIC:                        -3.779e+04\n",
      "Df Model:                           1                                         \n",
      "Covariance Type:            nonrobust                                         \n",
      "==============================================================================\n",
      "                 coef    std err          t      P>|t|      [0.025      0.975]\n",
      "------------------------------------------------------------------------------\n",
      "const         -0.0002   8.69e-05     -2.257      0.024      -0.000   -2.58e-05\n",
      "momentum       0.7510      0.009     82.832      0.000       0.733       0.769\n",
      "==============================================================================\n",
      "Omnibus:                       66.907   Durbin-Watson:                   1.720\n",
      "Prob(Omnibus):                  0.000   Jarque-Bera (JB):              120.347\n",
      "Skew:                           0.017   Prob(JB):                     7.36e-27\n",
      "Kurtosis:                       3.747   Cond. No.                         104.\n",
      "==============================================================================\n",
      "\n",
      "Notes:\n",
      "[1] Standard Errors assume that the covariance matrix of the errors is correctly specified.\n"
     ]
    }
   ],
   "source": [
    "data_to_reg = data.dropna()\n",
    "data_to_reg = data_to_reg[(data_to_reg.mean() - 3 * data_to_reg.std() < data_to_reg) & (data_to_reg < data_to_reg.mean() + 3 * data_to_reg.std())]\n",
    "data_to_reg = data_to_reg.iloc[:, 1:].dropna()\n",
    "y1 = data_to_reg['return5']\n",
    "x1 = data_to_reg[['momentum']]\n",
    "x1 = sm.add_constant(x1)\n",
    "mod = sm.OLS(y1, x1)\n",
    "res = mod.fit()\n",
    "print(res.summary())"
   ],
   "metadata": {
    "collapsed": false,
    "ExecuteTime": {
     "end_time": "2023-11-07T05:01:19.380858Z",
     "start_time": "2023-11-07T05:01:19.258659Z"
    }
   },
   "id": "67ba1a11990ac8b2"
  },
  {
   "cell_type": "code",
   "execution_count": 24,
   "outputs": [
    {
     "data": {
      "text/plain": "               rsi      bias  momentum\nrsi       1.000000  0.787043  0.639435\nbias      0.787043  1.000000  0.462249\nmomentum  0.639435  0.462249  1.000000",
      "text/html": "<div>\n<style scoped>\n    .dataframe tbody tr th:only-of-type {\n        vertical-align: middle;\n    }\n\n    .dataframe tbody tr th {\n        vertical-align: top;\n    }\n\n    .dataframe thead th {\n        text-align: right;\n    }\n</style>\n<table border=\"1\" class=\"dataframe\">\n  <thead>\n    <tr style=\"text-align: right;\">\n      <th></th>\n      <th>rsi</th>\n      <th>bias</th>\n      <th>momentum</th>\n    </tr>\n  </thead>\n  <tbody>\n    <tr>\n      <th>rsi</th>\n      <td>1.000000</td>\n      <td>0.787043</td>\n      <td>0.639435</td>\n    </tr>\n    <tr>\n      <th>bias</th>\n      <td>0.787043</td>\n      <td>1.000000</td>\n      <td>0.462249</td>\n    </tr>\n    <tr>\n      <th>momentum</th>\n      <td>0.639435</td>\n      <td>0.462249</td>\n      <td>1.000000</td>\n    </tr>\n  </tbody>\n</table>\n</div>"
     },
     "execution_count": 24,
     "metadata": {},
     "output_type": "execute_result"
    }
   ],
   "source": [
    "data[['rsi', 'bias', 'momentum']].corr()"
   ],
   "metadata": {
    "collapsed": false,
    "ExecuteTime": {
     "end_time": "2023-11-07T05:01:19.381397Z",
     "start_time": "2023-11-07T05:01:19.285681Z"
    }
   },
   "id": "1b918e3bb57b081b"
  },
  {
   "cell_type": "code",
   "execution_count": 25,
   "outputs": [
    {
     "name": "stdout",
     "output_type": "stream",
     "text": [
      "                            OLS Regression Results                            \n",
      "==============================================================================\n",
      "Dep. Variable:                return5   R-squared:                       0.846\n",
      "Model:                            OLS   Adj. R-squared:                  0.846\n",
      "Method:                 Least Squares   F-statistic:                     9466.\n",
      "Date:                Tue, 07 Nov 2023   Prob (F-statistic):               0.00\n",
      "Time:                        13:01:19   Log-Likelihood:                 21559.\n",
      "No. Observations:                5169   AIC:                        -4.311e+04\n",
      "Df Residuals:                    5165   BIC:                        -4.308e+04\n",
      "Df Model:                           3                                         \n",
      "Covariance Type:            nonrobust                                         \n",
      "==============================================================================\n",
      "                 coef    std err          t      P>|t|      [0.025      0.975]\n",
      "------------------------------------------------------------------------------\n",
      "const         -0.0038      0.000    -12.808      0.000      -0.004      -0.003\n",
      "momentum       0.4519      0.007     61.235      0.000       0.437       0.466\n",
      "rsi         7.382e-05   5.88e-06     12.550      0.000    6.23e-05    8.54e-05\n",
      "bias           0.9633      0.020     48.685      0.000       0.925       1.002\n",
      "==============================================================================\n",
      "Omnibus:                      126.970   Durbin-Watson:                   2.148\n",
      "Prob(Omnibus):                  0.000   Jarque-Bera (JB):              294.162\n",
      "Skew:                          -0.049   Prob(JB):                     1.33e-64\n",
      "Kurtosis:                       4.165   Cond. No.                     2.03e+04\n",
      "==============================================================================\n",
      "\n",
      "Notes:\n",
      "[1] Standard Errors assume that the covariance matrix of the errors is correctly specified.\n",
      "[2] The condition number is large, 2.03e+04. This might indicate that there are\n",
      "strong multicollinearity or other numerical problems.\n"
     ]
    }
   ],
   "source": [
    "data_to_reg = data.dropna()\n",
    "data_to_reg = data_to_reg[(data_to_reg.mean() - 3 * data_to_reg.std() < data_to_reg) & (data_to_reg < data_to_reg.mean() + 3 * data_to_reg.std())]\n",
    "data_to_reg = data_to_reg.iloc[:, 1:].dropna()\n",
    "y1 = data_to_reg['return5']\n",
    "x1 = data_to_reg[['momentum', 'rsi', 'bias']]\n",
    "x1 = sm.add_constant(x1)\n",
    "mod = sm.OLS(y1, x1)\n",
    "res = mod.fit()\n",
    "print(res.summary())"
   ],
   "metadata": {
    "collapsed": false,
    "ExecuteTime": {
     "end_time": "2023-11-07T05:01:19.548766Z",
     "start_time": "2023-11-07T05:01:19.294756Z"
    }
   },
   "id": "9ed664474c0cea37"
  },
  {
   "cell_type": "markdown",
   "source": [
    "# 建立随机森林模型"
   ],
   "metadata": {
    "collapsed": false
   },
   "id": "259d1cfaf1f5f1a7"
  },
  {
   "cell_type": "code",
   "execution_count": 26,
   "outputs": [
    {
     "data": {
      "text/plain": "      momentum       rsi      bias\n2968  0.192478  0.928780  1.249037\n2457  0.498547  0.462215 -0.352176\n622  -0.481084  0.882826  0.325915\n4416  0.318665  1.163878  0.943224\n2610 -0.033765 -0.235022 -0.358526\n...        ...       ...       ...\n3092 -0.845781 -1.279265 -0.241731\n3772  0.006334 -1.028657 -1.472084\n5191 -0.007161 -0.758661 -0.201468\n5226  0.997666  0.091365 -0.131613\n860   0.287851  1.487778  0.956907\n\n[3703 rows x 3 columns]",
      "text/html": "<div>\n<style scoped>\n    .dataframe tbody tr th:only-of-type {\n        vertical-align: middle;\n    }\n\n    .dataframe tbody tr th {\n        vertical-align: top;\n    }\n\n    .dataframe thead th {\n        text-align: right;\n    }\n</style>\n<table border=\"1\" class=\"dataframe\">\n  <thead>\n    <tr style=\"text-align: right;\">\n      <th></th>\n      <th>momentum</th>\n      <th>rsi</th>\n      <th>bias</th>\n    </tr>\n  </thead>\n  <tbody>\n    <tr>\n      <th>2968</th>\n      <td>0.192478</td>\n      <td>0.928780</td>\n      <td>1.249037</td>\n    </tr>\n    <tr>\n      <th>2457</th>\n      <td>0.498547</td>\n      <td>0.462215</td>\n      <td>-0.352176</td>\n    </tr>\n    <tr>\n      <th>622</th>\n      <td>-0.481084</td>\n      <td>0.882826</td>\n      <td>0.325915</td>\n    </tr>\n    <tr>\n      <th>4416</th>\n      <td>0.318665</td>\n      <td>1.163878</td>\n      <td>0.943224</td>\n    </tr>\n    <tr>\n      <th>2610</th>\n      <td>-0.033765</td>\n      <td>-0.235022</td>\n      <td>-0.358526</td>\n    </tr>\n    <tr>\n      <th>...</th>\n      <td>...</td>\n      <td>...</td>\n      <td>...</td>\n    </tr>\n    <tr>\n      <th>3092</th>\n      <td>-0.845781</td>\n      <td>-1.279265</td>\n      <td>-0.241731</td>\n    </tr>\n    <tr>\n      <th>3772</th>\n      <td>0.006334</td>\n      <td>-1.028657</td>\n      <td>-1.472084</td>\n    </tr>\n    <tr>\n      <th>5191</th>\n      <td>-0.007161</td>\n      <td>-0.758661</td>\n      <td>-0.201468</td>\n    </tr>\n    <tr>\n      <th>5226</th>\n      <td>0.997666</td>\n      <td>0.091365</td>\n      <td>-0.131613</td>\n    </tr>\n    <tr>\n      <th>860</th>\n      <td>0.287851</td>\n      <td>1.487778</td>\n      <td>0.956907</td>\n    </tr>\n  </tbody>\n</table>\n<p>3703 rows × 3 columns</p>\n</div>"
     },
     "execution_count": 26,
     "metadata": {},
     "output_type": "execute_result"
    }
   ],
   "source": [
    "from sklearn.preprocessing import MinMaxScaler, StandardScaler\n",
    "\n",
    "scaler = StandardScaler()\n",
    "\n",
    "data_for_test = data.dropna(axis=0, how='any')[['momentum', 'rsi', 'bias', 'return5']]\n",
    "data_for_test = data_for_test[(data_for_test > data_for_test.mean() - 3 * data_for_test.std()) & (data_for_test < data_for_test.mean() + 3 * data_for_test.std())]\n",
    "data_for_test.dropna(inplace=True)\n",
    "data_for_test.reset_index(inplace=True)\n",
    "\n",
    "for i in range(len(data_for_test)):\n",
    "    if data_for_test.loc[i, 'return5'] > 0:\n",
    "        data_for_test.loc[i, 'bullish'] = 1\n",
    "    else:\n",
    "        data_for_test.loc[i, 'bullish'] = 0\n",
    "data_for_test = data_for_test[['momentum', 'rsi', 'bias', 'bullish']]\n",
    "\n",
    "X = data_for_test[['momentum', 'rsi', 'bias']]\n",
    "y = data_for_test[['bullish']]\n",
    "\n",
    "X = pd.DataFrame(scaler.fit_transform(X), columns=['momentum', 'rsi', 'bias'])\n",
    "\n",
    "from sklearn.model_selection import train_test_split\n",
    "X_train, X_test, y_train, y_test = train_test_split(X, y, test_size=0.3, random_state=42)\n",
    "X_train"
   ],
   "metadata": {
    "collapsed": false,
    "ExecuteTime": {
     "end_time": "2023-11-07T05:01:19.680822Z",
     "start_time": "2023-11-07T05:01:19.349066Z"
    }
   },
   "id": "41a8e482e42c7127"
  },
  {
   "cell_type": "code",
   "execution_count": 27,
   "outputs": [
    {
     "data": {
      "text/plain": "      bullish\n2968      1.0\n2457      1.0\n622       1.0\n4416      1.0\n2610      0.0\n...       ...\n3092      0.0\n3772      0.0\n5191      0.0\n5226      1.0\n860       1.0\n\n[3703 rows x 1 columns]",
      "text/html": "<div>\n<style scoped>\n    .dataframe tbody tr th:only-of-type {\n        vertical-align: middle;\n    }\n\n    .dataframe tbody tr th {\n        vertical-align: top;\n    }\n\n    .dataframe thead th {\n        text-align: right;\n    }\n</style>\n<table border=\"1\" class=\"dataframe\">\n  <thead>\n    <tr style=\"text-align: right;\">\n      <th></th>\n      <th>bullish</th>\n    </tr>\n  </thead>\n  <tbody>\n    <tr>\n      <th>2968</th>\n      <td>1.0</td>\n    </tr>\n    <tr>\n      <th>2457</th>\n      <td>1.0</td>\n    </tr>\n    <tr>\n      <th>622</th>\n      <td>1.0</td>\n    </tr>\n    <tr>\n      <th>4416</th>\n      <td>1.0</td>\n    </tr>\n    <tr>\n      <th>2610</th>\n      <td>0.0</td>\n    </tr>\n    <tr>\n      <th>...</th>\n      <td>...</td>\n    </tr>\n    <tr>\n      <th>3092</th>\n      <td>0.0</td>\n    </tr>\n    <tr>\n      <th>3772</th>\n      <td>0.0</td>\n    </tr>\n    <tr>\n      <th>5191</th>\n      <td>0.0</td>\n    </tr>\n    <tr>\n      <th>5226</th>\n      <td>1.0</td>\n    </tr>\n    <tr>\n      <th>860</th>\n      <td>1.0</td>\n    </tr>\n  </tbody>\n</table>\n<p>3703 rows × 1 columns</p>\n</div>"
     },
     "execution_count": 27,
     "metadata": {},
     "output_type": "execute_result"
    }
   ],
   "source": [
    "y_train"
   ],
   "metadata": {
    "collapsed": false,
    "ExecuteTime": {
     "end_time": "2023-11-07T05:01:19.681716Z",
     "start_time": "2023-11-07T05:01:19.662237Z"
    }
   },
   "id": "6f70a05a1f220f86"
  },
  {
   "cell_type": "code",
   "execution_count": 28,
   "outputs": [
    {
     "name": "stdout",
     "output_type": "stream",
     "text": [
      "表现0.8569604086845467\n"
     ]
    }
   ],
   "source": [
    "from sklearn.ensemble import RandomForestClassifier\n",
    "from sklearn.metrics import mean_squared_error, recall_score, f1_score\n",
    "\n",
    "rf_classifier = RandomForestClassifier(n_estimators=100, random_state=42, max_features='sqrt', bootstrap=False)\n",
    "rf_classifier.fit(X_train, y_train)\n",
    "\n",
    "y_pred = rf_classifier.predict(X_test)\n",
    "\n",
    "from sklearn.metrics import f1_score\n",
    "\n",
    "f1 = f1_score(y_test, y_pred)\n",
    "# recall = recall_score(y_test, y_pred)\n",
    "\n",
    "print(f'表现{f1}')"
   ],
   "metadata": {
    "collapsed": false,
    "ExecuteTime": {
     "end_time": "2023-11-07T05:01:20.128010Z",
     "start_time": "2023-11-07T05:01:19.665497Z"
    }
   },
   "id": "73360e74b3174f8f"
  },
  {
   "cell_type": "markdown",
   "source": [
    "# 开始回测"
   ],
   "metadata": {
    "collapsed": false
   },
   "id": "25658a69ec030b4b"
  },
  {
   "cell_type": "markdown",
   "source": [
    "## Version 2 回测程序（重新开始）"
   ],
   "metadata": {
    "collapsed": false
   },
   "id": "3b192c7fa717f719"
  },
  {
   "cell_type": "code",
   "execution_count": 28,
   "outputs": [],
   "source": [],
   "metadata": {
    "collapsed": false,
    "ExecuteTime": {
     "end_time": "2023-11-07T05:01:20.129677Z",
     "start_time": "2023-11-07T05:01:20.127081Z"
    }
   },
   "id": "91a2889db3e26a4b"
  },
  {
   "cell_type": "markdown",
   "source": [
    "## version 1 回测程序（有错误）"
   ],
   "metadata": {
    "collapsed": false
   },
   "id": "a7848cc5ad61d8cc"
  },
  {
   "cell_type": "code",
   "execution_count": 29,
   "outputs": [],
   "source": [
    "# import datetime\n",
    "# \n",
    "# # 交易规则：预测涨全仓买入，否则直接卖出，这规则错了\n",
    "# data_to_backtest = data.dropna()\n",
    "# data_to_backtest = data_to_backtest.iloc[1:, :]\n",
    "# data_to_backtest.reset_index(inplace=True)\n",
    "# backtest_dict = {'capital': [100000], 'position': [0], 'date': [data_to_backtest['<DATE>'][0]]}\n",
    "# backtest = pd.DataFrame(backtest_dict)\n",
    "# \n",
    "# \n",
    "# def buy(day_data):\n",
    "#     global backtest\n",
    "#     capital = backtest.iloc[len(backtest) - 1, :]['capital']\n",
    "#     position = backtest.iloc[len(backtest) - 1, :]['position']\n",
    "#     if capital > 0:\n",
    "#         print(f'{day_data[\"<DATE>\"]} buy at price {day_data[\"<OPEN>\"]}')\n",
    "#     if capital > 0:\n",
    "#         position += capital / day_data['<OPEN>']\n",
    "#         capital = 0\n",
    "#     backtest.loc[len(backtest), :] = [capital, position, day_data['<DATE>']]\n",
    "# \n",
    "# \n",
    "# def sell(day_data):\n",
    "#     global backtest\n",
    "#     capital = backtest.iloc[len(backtest) - 1, :]['capital']\n",
    "#     position = backtest.iloc[len(backtest) - 1, :]['position']\n",
    "#     if position > 0:\n",
    "#         print(f'{day_data[\"<DATE>\"]} sell at price {day_data[\"<OPEN>\"]}')\n",
    "#     if position > 0:\n",
    "#         capital += position * day_data['<OPEN>']\n",
    "#         position = 0\n",
    "#     backtest.loc[len(backtest), :] = [capital, position, day_data['<DATE>']]\n",
    "# \n",
    "# \n",
    "# def no_trade():\n",
    "#     global backtest\n",
    "#     capital = backtest.iloc[len(backtest) - 1, :]['capital']\n",
    "#     position = backtest.iloc[len(backtest) - 1, :]['position']\n",
    "#     last_date = backtest.iloc[len(backtest) - 1, :]['date']\n",
    "#     backtest.loc[len(backtest), :] = [capital, position, datetime.datetime.strftime(datetime.datetime.strptime(last_date, '%Y.%m.%d') + datetime.timedelta(days=1), '%Y.%m.%d')]\n",
    "# \n",
    "# \n",
    "# hold_iter = -100\n",
    "# for i in range(len(data_to_backtest) - 1):\n",
    "#     # 只能看到今天的数据，明天开盘根据今天收盘的数据进行买入\n",
    "#     tomorrow_data = data_to_backtest.iloc[i+1, :]\n",
    "#     if backtest.iloc[i, 1] > 0 and i <= hold_iter + 5:\n",
    "#         # 如果还处于五天的持有期，不进行交易，否则根据预测进行交易\n",
    "#         no_trade()\n",
    "#     else:\n",
    "#         # 如果今天预测股价会涨，那么全仓买入并持有五天，第五天的时候如果还预测涨再持有五天，否则卖出\n",
    "#         if rf_classifier.predict(pd.DataFrame((data_to_backtest.loc[i, ['momentum', 'rsi', 'bias']] - scaler.mean_) / scaler.scale_).T)[0] == 1:\n",
    "#             print(f'{data_to_backtest.iloc[i, :][\"<DATE>\"]} predict bullish')\n",
    "#             buy(tomorrow_data)\n",
    "#             hold_iter = i\n",
    "#         else:\n",
    "#             print(f'{data_to_backtest.iloc[i, :][\"<DATE>\"]} predict bearish')\n",
    "#             sell(tomorrow_data)\n",
    "# \n",
    "# backtest"
   ],
   "metadata": {
    "collapsed": false,
    "ExecuteTime": {
     "end_time": "2023-11-07T05:01:20.131094Z",
     "start_time": "2023-11-07T05:01:20.129789Z"
    }
   },
   "id": "d810d8bebb652bf6"
  },
  {
   "cell_type": "code",
   "execution_count": 30,
   "outputs": [],
   "source": [
    "# data_to_backtest"
   ],
   "metadata": {
    "collapsed": false,
    "ExecuteTime": {
     "end_time": "2023-11-07T05:01:20.134198Z",
     "start_time": "2023-11-07T05:01:20.131965Z"
    }
   },
   "id": "41f03e20b10e509c"
  },
  {
   "cell_type": "code",
   "execution_count": 31,
   "outputs": [],
   "source": [
    "# result = pd.merge(data_to_backtest, backtest.rename(columns={'date': '<DATE>'}))\n",
    "# result"
   ],
   "metadata": {
    "collapsed": false,
    "ExecuteTime": {
     "end_time": "2023-11-07T05:01:20.135191Z",
     "start_time": "2023-11-07T05:01:20.133616Z"
    }
   },
   "id": "8cf36e77b384d5cd"
  },
  {
   "cell_type": "code",
   "execution_count": 32,
   "outputs": [],
   "source": [
    "# result['asset'] = result['capital'] + result['position'] * result['<CLOSE>']\n",
    "# result"
   ],
   "metadata": {
    "collapsed": false,
    "ExecuteTime": {
     "end_time": "2023-11-07T05:01:20.138669Z",
     "start_time": "2023-11-07T05:01:20.135949Z"
    }
   },
   "id": "85f181ef6bcaf375"
  },
  {
   "cell_type": "code",
   "execution_count": 33,
   "outputs": [],
   "source": [
    "# import seaborn as sns\n",
    "# import matplotlib.pyplot as plt\n",
    "# import matplotlib.dates as mdates\n",
    "# \n",
    "# plt.rcParams['font.family'] = 'Arial Unicode MS'\n",
    "# plt.rcParams['axes.unicode_minus'] = False\n",
    "# \n",
    "# ax = sns.lineplot(data=result, x='<DATE>', y='asset', color='#d20000')\n",
    "# sns.set_style('white')\n",
    "# sns.despine()\n",
    "# ax.figure.set_size_inches(16, 4)\n",
    "# ax.set_xlabel('日期')\n",
    "# ax.set_ylabel('总资产')\n",
    "# ax.xaxis.set_major_locator(mdates.DayLocator(interval=50))\n",
    "# plt.xticks(rotation=45)\n",
    "# ax.hlines(y=100000, xmin=result.loc[0, :]['<DATE>'], xmax=result.loc[len(result) - 1, :]['<DATE>'], colors='#8c8c8c', linestyles='--')\n",
    "# ax2 = plt.twinx()\n",
    "# sns.lineplot(data=result, x='<DATE>', y='<CLOSE>', color='blue', ax=ax2)\n",
    "# plt.show()"
   ],
   "metadata": {
    "collapsed": false,
    "ExecuteTime": {
     "end_time": "2023-11-07T05:01:20.139689Z",
     "start_time": "2023-11-07T05:01:20.138241Z"
    }
   },
   "id": "9d1b0bf3f4cf9389"
  },
  {
   "cell_type": "code",
   "execution_count": 34,
   "outputs": [],
   "source": [
    "# result['predict'] = rf_classifier.predict(pd.DataFrame((result[['momentum', 'rsi', 'bias']] - scaler.mean_) / scaler.scale_))\n",
    "# result"
   ],
   "metadata": {
    "collapsed": false,
    "ExecuteTime": {
     "end_time": "2023-11-07T05:01:20.141768Z",
     "start_time": "2023-11-07T05:01:20.140127Z"
    }
   },
   "id": "cf56a898a0aacba5"
  },
  {
   "cell_type": "code",
   "execution_count": 34,
   "outputs": [],
   "source": [],
   "metadata": {
    "collapsed": false,
    "ExecuteTime": {
     "end_time": "2023-11-07T05:01:20.145045Z",
     "start_time": "2023-11-07T05:01:20.142014Z"
    }
   },
   "id": "4a0a8532b133c261"
  }
 ],
 "metadata": {
  "kernelspec": {
   "display_name": "Python 3",
   "language": "python",
   "name": "python3"
  },
  "language_info": {
   "codemirror_mode": {
    "name": "ipython",
    "version": 2
   },
   "file_extension": ".py",
   "mimetype": "text/x-python",
   "name": "python",
   "nbconvert_exporter": "python",
   "pygments_lexer": "ipython2",
   "version": "2.7.6"
  }
 },
 "nbformat": 4,
 "nbformat_minor": 5
}
