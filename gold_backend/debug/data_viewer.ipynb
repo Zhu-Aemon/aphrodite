{
 "cells": [
  {
   "cell_type": "code",
   "execution_count": 15,
   "id": "initial_id",
   "metadata": {
    "collapsed": true,
    "ExecuteTime": {
     "end_time": "2023-11-25T14:17:34.945334Z",
     "start_time": "2023-11-25T14:17:24.835840Z"
    }
   },
   "outputs": [],
   "source": [
    "import akshare as ak\n",
    "import shutup\n",
    "import pandas as pd\n",
    "\n",
    "shutup.please()\n",
    "\n",
    "# sina_futures = ak.futures_display_main_sina()\n",
    "# sina_futures"
   ]
  },
  {
   "cell_type": "code",
   "execution_count": 3,
   "outputs": [],
   "source": [
    "from CN_commodity import get_latest_date_cn, cn_daily_update\n",
    "\n",
    "# get_latest_date_cn(symbol='A0').date()\n",
    "test = cn_daily_update(symbol='V0')"
   ],
   "metadata": {
    "collapsed": false
   }
  },
  {
   "cell_type": "code",
   "execution_count": 11,
   "outputs": [
    {
     "data": {
      "text/plain": "           date  open  high   low  close  volume  inventory\n0    2009-05-25  6575  6630  6435   6490  107764      12278\n1    2009-05-26  6485  6540  6445   6460   38290      10562\n2    2009-05-27  6500  6535  6460   6485   34002      10346\n3    2009-06-01  6555  6595  6520   6570   26178      10352\n4    2009-06-02  6590  6590  6545   6555   13496       9388\n...         ...   ...   ...   ...    ...     ...        ...\n3568 2024-02-02  5798  5844  5788   5812  665150     779821\n3569 2024-02-05  5813  5848  5787   5792  612901     791453\n3570 2024-02-06  5780  5850  5740   5842  793383     767784\n3571 2024-02-07  5848  5917  5831   5896  634572     688983\n3572 2024-02-08  5896  5905  5869   5893  399572     642713\n\n[3573 rows x 7 columns]",
      "text/html": "<div>\n<style scoped>\n    .dataframe tbody tr th:only-of-type {\n        vertical-align: middle;\n    }\n\n    .dataframe tbody tr th {\n        vertical-align: top;\n    }\n\n    .dataframe thead th {\n        text-align: right;\n    }\n</style>\n<table border=\"1\" class=\"dataframe\">\n  <thead>\n    <tr style=\"text-align: right;\">\n      <th></th>\n      <th>date</th>\n      <th>open</th>\n      <th>high</th>\n      <th>low</th>\n      <th>close</th>\n      <th>volume</th>\n      <th>inventory</th>\n    </tr>\n  </thead>\n  <tbody>\n    <tr>\n      <th>0</th>\n      <td>2009-05-25</td>\n      <td>6575</td>\n      <td>6630</td>\n      <td>6435</td>\n      <td>6490</td>\n      <td>107764</td>\n      <td>12278</td>\n    </tr>\n    <tr>\n      <th>1</th>\n      <td>2009-05-26</td>\n      <td>6485</td>\n      <td>6540</td>\n      <td>6445</td>\n      <td>6460</td>\n      <td>38290</td>\n      <td>10562</td>\n    </tr>\n    <tr>\n      <th>2</th>\n      <td>2009-05-27</td>\n      <td>6500</td>\n      <td>6535</td>\n      <td>6460</td>\n      <td>6485</td>\n      <td>34002</td>\n      <td>10346</td>\n    </tr>\n    <tr>\n      <th>3</th>\n      <td>2009-06-01</td>\n      <td>6555</td>\n      <td>6595</td>\n      <td>6520</td>\n      <td>6570</td>\n      <td>26178</td>\n      <td>10352</td>\n    </tr>\n    <tr>\n      <th>4</th>\n      <td>2009-06-02</td>\n      <td>6590</td>\n      <td>6590</td>\n      <td>6545</td>\n      <td>6555</td>\n      <td>13496</td>\n      <td>9388</td>\n    </tr>\n    <tr>\n      <th>...</th>\n      <td>...</td>\n      <td>...</td>\n      <td>...</td>\n      <td>...</td>\n      <td>...</td>\n      <td>...</td>\n      <td>...</td>\n    </tr>\n    <tr>\n      <th>3568</th>\n      <td>2024-02-02</td>\n      <td>5798</td>\n      <td>5844</td>\n      <td>5788</td>\n      <td>5812</td>\n      <td>665150</td>\n      <td>779821</td>\n    </tr>\n    <tr>\n      <th>3569</th>\n      <td>2024-02-05</td>\n      <td>5813</td>\n      <td>5848</td>\n      <td>5787</td>\n      <td>5792</td>\n      <td>612901</td>\n      <td>791453</td>\n    </tr>\n    <tr>\n      <th>3570</th>\n      <td>2024-02-06</td>\n      <td>5780</td>\n      <td>5850</td>\n      <td>5740</td>\n      <td>5842</td>\n      <td>793383</td>\n      <td>767784</td>\n    </tr>\n    <tr>\n      <th>3571</th>\n      <td>2024-02-07</td>\n      <td>5848</td>\n      <td>5917</td>\n      <td>5831</td>\n      <td>5896</td>\n      <td>634572</td>\n      <td>688983</td>\n    </tr>\n    <tr>\n      <th>3572</th>\n      <td>2024-02-08</td>\n      <td>5896</td>\n      <td>5905</td>\n      <td>5869</td>\n      <td>5893</td>\n      <td>399572</td>\n      <td>642713</td>\n    </tr>\n  </tbody>\n</table>\n<p>3573 rows × 7 columns</p>\n</div>"
     },
     "execution_count": 11,
     "metadata": {},
     "output_type": "execute_result"
    }
   ],
   "source": [
    "test"
   ],
   "metadata": {
    "collapsed": false
   }
  },
  {
   "cell_type": "code",
   "execution_count": 22,
   "outputs": [],
   "source": [
    "test['date'] = pd.to_datetime(test['date']).dt.date"
   ],
   "metadata": {
    "collapsed": false
   }
  },
  {
   "cell_type": "code",
   "execution_count": 24,
   "outputs": [
    {
     "data": {
      "text/plain": "            date  open  high   low  close   volume  inventory\n3520  2023-11-27  5910  5919  5845   5893   700876     767781\n3521  2023-11-28  5893  5906  5836   5862   592181     760135\n3522  2023-11-29  5866  5905  5844   5852   612980     749975\n3523  2023-11-30  5862  5916  5826   5890   749896     732604\n3524  2023-12-01  5890  5895  5755   5842  1060918     735950\n3525  2023-12-04  5853  5864  5707   5719   768605     765272\n3526  2023-12-05  5722  5732  5653   5671   785733     766130\n3527  2023-12-06  5671  5727  5642   5717   749562     740862\n3528  2023-12-07  5725  5775  5682   5760   701078     679856\n3529  2023-12-08  5746  5848  5736   5833   686883     585796\n3530  2023-12-11  5845  5876  5786   5830   551330     549383\n3531  2023-12-12  5830  5876  5797   5870   490172     501665\n3532  2023-12-13  5860  5885  5804   5841   575335     465251\n3533  2023-12-14  5855  5879  5794   5820   552416     433061\n3534  2023-12-15  5820  5923  5819   5911   561050     370159\n3535  2023-12-18  6051  6075  5960   5992   979582     649222\n3536  2023-12-19  5992  6036  5976   5995   804635     664864\n3537  2023-12-20  5990  6066  5973   6057   783722     668561\n3538  2023-12-21  6070  6104  6038   6090   803154     661944\n3539  2023-12-22  6084  6140  6064   6094   833932     669030\n3540  2023-12-25  6085  6153  6074   6114   866917     686482\n3541  2023-12-26  6114  6122  6056   6069   731003     706478\n3542  2023-12-27  6069  6088  6003   6015   848302     750163\n3543  2023-12-28  6010  6021  5911   5933  1031868     831497\n3544  2023-12-29  5923  5946  5873   5879   812753     855858\n3545  2024-01-02  5880  5928  5856   5920   523889     870884\n3546  2024-01-03  5913  5948  5875   5945   729268     859255\n3547  2024-01-04  5950  5953  5882   5891   700392     868987\n3548  2024-01-05  5891  5896  5814   5824   802385     917324\n3549  2024-01-08  5840  5867  5805   5849   702690     899694\n3550  2024-01-09  5839  5845  5774   5800   718428     929863\n3551  2024-01-10  5815  5824  5755   5767   676797     960682\n3552  2024-01-11  5770  5830  5754   5825   663088     909644\n3553  2024-01-12  5834  5848  5801   5827   615624     892893\n3554  2024-01-15  5835  5874  5805   5862   641866     850479\n3555  2024-01-16  5855  5897  5846   5880   579834     834282\n3556  2024-01-17  5878  5904  5857   5859   543689     829758\n3557  2024-01-18  5850  5878  5803   5864   744424     818267\n3558  2024-01-19  5854  5874  5835   5872   568188     808203\n3559  2024-01-22  5880  5900  5823   5832   859846     802610\n3560  2024-01-23  5840  5920  5831   5919   751629     774546\n3561  2024-01-24  5919  5950  5904   5944   625735     730889\n3562  2024-01-25  5960  5970  5923   5933   561549     714654\n3563  2024-01-26  5933  5946  5882   5893   643724     739705\n3564  2024-01-29  5898  5954  5886   5940   602648     731778\n3565  2024-01-30  5930  5954  5830   5833   715024     743598\n3566  2024-01-31  5825  5844  5788   5798   730792     795880\n3567  2024-02-01  5798  5814  5783   5798   538579     804305\n3568  2024-02-02  5798  5844  5788   5812   665150     779821\n3569  2024-02-05  5813  5848  5787   5792   612901     791453\n3570  2024-02-06  5780  5850  5740   5842   793383     767784\n3571  2024-02-07  5848  5917  5831   5896   634572     688983\n3572  2024-02-08  5896  5905  5869   5893   399572     642713",
      "text/html": "<div>\n<style scoped>\n    .dataframe tbody tr th:only-of-type {\n        vertical-align: middle;\n    }\n\n    .dataframe tbody tr th {\n        vertical-align: top;\n    }\n\n    .dataframe thead th {\n        text-align: right;\n    }\n</style>\n<table border=\"1\" class=\"dataframe\">\n  <thead>\n    <tr style=\"text-align: right;\">\n      <th></th>\n      <th>date</th>\n      <th>open</th>\n      <th>high</th>\n      <th>low</th>\n      <th>close</th>\n      <th>volume</th>\n      <th>inventory</th>\n    </tr>\n  </thead>\n  <tbody>\n    <tr>\n      <th>3520</th>\n      <td>2023-11-27</td>\n      <td>5910</td>\n      <td>5919</td>\n      <td>5845</td>\n      <td>5893</td>\n      <td>700876</td>\n      <td>767781</td>\n    </tr>\n    <tr>\n      <th>3521</th>\n      <td>2023-11-28</td>\n      <td>5893</td>\n      <td>5906</td>\n      <td>5836</td>\n      <td>5862</td>\n      <td>592181</td>\n      <td>760135</td>\n    </tr>\n    <tr>\n      <th>3522</th>\n      <td>2023-11-29</td>\n      <td>5866</td>\n      <td>5905</td>\n      <td>5844</td>\n      <td>5852</td>\n      <td>612980</td>\n      <td>749975</td>\n    </tr>\n    <tr>\n      <th>3523</th>\n      <td>2023-11-30</td>\n      <td>5862</td>\n      <td>5916</td>\n      <td>5826</td>\n      <td>5890</td>\n      <td>749896</td>\n      <td>732604</td>\n    </tr>\n    <tr>\n      <th>3524</th>\n      <td>2023-12-01</td>\n      <td>5890</td>\n      <td>5895</td>\n      <td>5755</td>\n      <td>5842</td>\n      <td>1060918</td>\n      <td>735950</td>\n    </tr>\n    <tr>\n      <th>3525</th>\n      <td>2023-12-04</td>\n      <td>5853</td>\n      <td>5864</td>\n      <td>5707</td>\n      <td>5719</td>\n      <td>768605</td>\n      <td>765272</td>\n    </tr>\n    <tr>\n      <th>3526</th>\n      <td>2023-12-05</td>\n      <td>5722</td>\n      <td>5732</td>\n      <td>5653</td>\n      <td>5671</td>\n      <td>785733</td>\n      <td>766130</td>\n    </tr>\n    <tr>\n      <th>3527</th>\n      <td>2023-12-06</td>\n      <td>5671</td>\n      <td>5727</td>\n      <td>5642</td>\n      <td>5717</td>\n      <td>749562</td>\n      <td>740862</td>\n    </tr>\n    <tr>\n      <th>3528</th>\n      <td>2023-12-07</td>\n      <td>5725</td>\n      <td>5775</td>\n      <td>5682</td>\n      <td>5760</td>\n      <td>701078</td>\n      <td>679856</td>\n    </tr>\n    <tr>\n      <th>3529</th>\n      <td>2023-12-08</td>\n      <td>5746</td>\n      <td>5848</td>\n      <td>5736</td>\n      <td>5833</td>\n      <td>686883</td>\n      <td>585796</td>\n    </tr>\n    <tr>\n      <th>3530</th>\n      <td>2023-12-11</td>\n      <td>5845</td>\n      <td>5876</td>\n      <td>5786</td>\n      <td>5830</td>\n      <td>551330</td>\n      <td>549383</td>\n    </tr>\n    <tr>\n      <th>3531</th>\n      <td>2023-12-12</td>\n      <td>5830</td>\n      <td>5876</td>\n      <td>5797</td>\n      <td>5870</td>\n      <td>490172</td>\n      <td>501665</td>\n    </tr>\n    <tr>\n      <th>3532</th>\n      <td>2023-12-13</td>\n      <td>5860</td>\n      <td>5885</td>\n      <td>5804</td>\n      <td>5841</td>\n      <td>575335</td>\n      <td>465251</td>\n    </tr>\n    <tr>\n      <th>3533</th>\n      <td>2023-12-14</td>\n      <td>5855</td>\n      <td>5879</td>\n      <td>5794</td>\n      <td>5820</td>\n      <td>552416</td>\n      <td>433061</td>\n    </tr>\n    <tr>\n      <th>3534</th>\n      <td>2023-12-15</td>\n      <td>5820</td>\n      <td>5923</td>\n      <td>5819</td>\n      <td>5911</td>\n      <td>561050</td>\n      <td>370159</td>\n    </tr>\n    <tr>\n      <th>3535</th>\n      <td>2023-12-18</td>\n      <td>6051</td>\n      <td>6075</td>\n      <td>5960</td>\n      <td>5992</td>\n      <td>979582</td>\n      <td>649222</td>\n    </tr>\n    <tr>\n      <th>3536</th>\n      <td>2023-12-19</td>\n      <td>5992</td>\n      <td>6036</td>\n      <td>5976</td>\n      <td>5995</td>\n      <td>804635</td>\n      <td>664864</td>\n    </tr>\n    <tr>\n      <th>3537</th>\n      <td>2023-12-20</td>\n      <td>5990</td>\n      <td>6066</td>\n      <td>5973</td>\n      <td>6057</td>\n      <td>783722</td>\n      <td>668561</td>\n    </tr>\n    <tr>\n      <th>3538</th>\n      <td>2023-12-21</td>\n      <td>6070</td>\n      <td>6104</td>\n      <td>6038</td>\n      <td>6090</td>\n      <td>803154</td>\n      <td>661944</td>\n    </tr>\n    <tr>\n      <th>3539</th>\n      <td>2023-12-22</td>\n      <td>6084</td>\n      <td>6140</td>\n      <td>6064</td>\n      <td>6094</td>\n      <td>833932</td>\n      <td>669030</td>\n    </tr>\n    <tr>\n      <th>3540</th>\n      <td>2023-12-25</td>\n      <td>6085</td>\n      <td>6153</td>\n      <td>6074</td>\n      <td>6114</td>\n      <td>866917</td>\n      <td>686482</td>\n    </tr>\n    <tr>\n      <th>3541</th>\n      <td>2023-12-26</td>\n      <td>6114</td>\n      <td>6122</td>\n      <td>6056</td>\n      <td>6069</td>\n      <td>731003</td>\n      <td>706478</td>\n    </tr>\n    <tr>\n      <th>3542</th>\n      <td>2023-12-27</td>\n      <td>6069</td>\n      <td>6088</td>\n      <td>6003</td>\n      <td>6015</td>\n      <td>848302</td>\n      <td>750163</td>\n    </tr>\n    <tr>\n      <th>3543</th>\n      <td>2023-12-28</td>\n      <td>6010</td>\n      <td>6021</td>\n      <td>5911</td>\n      <td>5933</td>\n      <td>1031868</td>\n      <td>831497</td>\n    </tr>\n    <tr>\n      <th>3544</th>\n      <td>2023-12-29</td>\n      <td>5923</td>\n      <td>5946</td>\n      <td>5873</td>\n      <td>5879</td>\n      <td>812753</td>\n      <td>855858</td>\n    </tr>\n    <tr>\n      <th>3545</th>\n      <td>2024-01-02</td>\n      <td>5880</td>\n      <td>5928</td>\n      <td>5856</td>\n      <td>5920</td>\n      <td>523889</td>\n      <td>870884</td>\n    </tr>\n    <tr>\n      <th>3546</th>\n      <td>2024-01-03</td>\n      <td>5913</td>\n      <td>5948</td>\n      <td>5875</td>\n      <td>5945</td>\n      <td>729268</td>\n      <td>859255</td>\n    </tr>\n    <tr>\n      <th>3547</th>\n      <td>2024-01-04</td>\n      <td>5950</td>\n      <td>5953</td>\n      <td>5882</td>\n      <td>5891</td>\n      <td>700392</td>\n      <td>868987</td>\n    </tr>\n    <tr>\n      <th>3548</th>\n      <td>2024-01-05</td>\n      <td>5891</td>\n      <td>5896</td>\n      <td>5814</td>\n      <td>5824</td>\n      <td>802385</td>\n      <td>917324</td>\n    </tr>\n    <tr>\n      <th>3549</th>\n      <td>2024-01-08</td>\n      <td>5840</td>\n      <td>5867</td>\n      <td>5805</td>\n      <td>5849</td>\n      <td>702690</td>\n      <td>899694</td>\n    </tr>\n    <tr>\n      <th>3550</th>\n      <td>2024-01-09</td>\n      <td>5839</td>\n      <td>5845</td>\n      <td>5774</td>\n      <td>5800</td>\n      <td>718428</td>\n      <td>929863</td>\n    </tr>\n    <tr>\n      <th>3551</th>\n      <td>2024-01-10</td>\n      <td>5815</td>\n      <td>5824</td>\n      <td>5755</td>\n      <td>5767</td>\n      <td>676797</td>\n      <td>960682</td>\n    </tr>\n    <tr>\n      <th>3552</th>\n      <td>2024-01-11</td>\n      <td>5770</td>\n      <td>5830</td>\n      <td>5754</td>\n      <td>5825</td>\n      <td>663088</td>\n      <td>909644</td>\n    </tr>\n    <tr>\n      <th>3553</th>\n      <td>2024-01-12</td>\n      <td>5834</td>\n      <td>5848</td>\n      <td>5801</td>\n      <td>5827</td>\n      <td>615624</td>\n      <td>892893</td>\n    </tr>\n    <tr>\n      <th>3554</th>\n      <td>2024-01-15</td>\n      <td>5835</td>\n      <td>5874</td>\n      <td>5805</td>\n      <td>5862</td>\n      <td>641866</td>\n      <td>850479</td>\n    </tr>\n    <tr>\n      <th>3555</th>\n      <td>2024-01-16</td>\n      <td>5855</td>\n      <td>5897</td>\n      <td>5846</td>\n      <td>5880</td>\n      <td>579834</td>\n      <td>834282</td>\n    </tr>\n    <tr>\n      <th>3556</th>\n      <td>2024-01-17</td>\n      <td>5878</td>\n      <td>5904</td>\n      <td>5857</td>\n      <td>5859</td>\n      <td>543689</td>\n      <td>829758</td>\n    </tr>\n    <tr>\n      <th>3557</th>\n      <td>2024-01-18</td>\n      <td>5850</td>\n      <td>5878</td>\n      <td>5803</td>\n      <td>5864</td>\n      <td>744424</td>\n      <td>818267</td>\n    </tr>\n    <tr>\n      <th>3558</th>\n      <td>2024-01-19</td>\n      <td>5854</td>\n      <td>5874</td>\n      <td>5835</td>\n      <td>5872</td>\n      <td>568188</td>\n      <td>808203</td>\n    </tr>\n    <tr>\n      <th>3559</th>\n      <td>2024-01-22</td>\n      <td>5880</td>\n      <td>5900</td>\n      <td>5823</td>\n      <td>5832</td>\n      <td>859846</td>\n      <td>802610</td>\n    </tr>\n    <tr>\n      <th>3560</th>\n      <td>2024-01-23</td>\n      <td>5840</td>\n      <td>5920</td>\n      <td>5831</td>\n      <td>5919</td>\n      <td>751629</td>\n      <td>774546</td>\n    </tr>\n    <tr>\n      <th>3561</th>\n      <td>2024-01-24</td>\n      <td>5919</td>\n      <td>5950</td>\n      <td>5904</td>\n      <td>5944</td>\n      <td>625735</td>\n      <td>730889</td>\n    </tr>\n    <tr>\n      <th>3562</th>\n      <td>2024-01-25</td>\n      <td>5960</td>\n      <td>5970</td>\n      <td>5923</td>\n      <td>5933</td>\n      <td>561549</td>\n      <td>714654</td>\n    </tr>\n    <tr>\n      <th>3563</th>\n      <td>2024-01-26</td>\n      <td>5933</td>\n      <td>5946</td>\n      <td>5882</td>\n      <td>5893</td>\n      <td>643724</td>\n      <td>739705</td>\n    </tr>\n    <tr>\n      <th>3564</th>\n      <td>2024-01-29</td>\n      <td>5898</td>\n      <td>5954</td>\n      <td>5886</td>\n      <td>5940</td>\n      <td>602648</td>\n      <td>731778</td>\n    </tr>\n    <tr>\n      <th>3565</th>\n      <td>2024-01-30</td>\n      <td>5930</td>\n      <td>5954</td>\n      <td>5830</td>\n      <td>5833</td>\n      <td>715024</td>\n      <td>743598</td>\n    </tr>\n    <tr>\n      <th>3566</th>\n      <td>2024-01-31</td>\n      <td>5825</td>\n      <td>5844</td>\n      <td>5788</td>\n      <td>5798</td>\n      <td>730792</td>\n      <td>795880</td>\n    </tr>\n    <tr>\n      <th>3567</th>\n      <td>2024-02-01</td>\n      <td>5798</td>\n      <td>5814</td>\n      <td>5783</td>\n      <td>5798</td>\n      <td>538579</td>\n      <td>804305</td>\n    </tr>\n    <tr>\n      <th>3568</th>\n      <td>2024-02-02</td>\n      <td>5798</td>\n      <td>5844</td>\n      <td>5788</td>\n      <td>5812</td>\n      <td>665150</td>\n      <td>779821</td>\n    </tr>\n    <tr>\n      <th>3569</th>\n      <td>2024-02-05</td>\n      <td>5813</td>\n      <td>5848</td>\n      <td>5787</td>\n      <td>5792</td>\n      <td>612901</td>\n      <td>791453</td>\n    </tr>\n    <tr>\n      <th>3570</th>\n      <td>2024-02-06</td>\n      <td>5780</td>\n      <td>5850</td>\n      <td>5740</td>\n      <td>5842</td>\n      <td>793383</td>\n      <td>767784</td>\n    </tr>\n    <tr>\n      <th>3571</th>\n      <td>2024-02-07</td>\n      <td>5848</td>\n      <td>5917</td>\n      <td>5831</td>\n      <td>5896</td>\n      <td>634572</td>\n      <td>688983</td>\n    </tr>\n    <tr>\n      <th>3572</th>\n      <td>2024-02-08</td>\n      <td>5896</td>\n      <td>5905</td>\n      <td>5869</td>\n      <td>5893</td>\n      <td>399572</td>\n      <td>642713</td>\n    </tr>\n  </tbody>\n</table>\n</div>"
     },
     "execution_count": 24,
     "metadata": {},
     "output_type": "execute_result"
    }
   ],
   "source": [
    "test[test['date'] > get_latest_date_cn(symbol='V0')]"
   ],
   "metadata": {
    "collapsed": false
   }
  },
  {
   "cell_type": "code",
   "execution_count": 21,
   "outputs": [
    {
     "data": {
      "text/plain": "Timestamp('2009-05-25 00:00:00')"
     },
     "execution_count": 21,
     "metadata": {},
     "output_type": "execute_result"
    }
   ],
   "source": [
    "test['date'][0]"
   ],
   "metadata": {
    "collapsed": false
   }
  },
  {
   "cell_type": "code",
   "execution_count": 20,
   "outputs": [
    {
     "data": {
      "text/plain": "datetime.date(2023, 11, 24)"
     },
     "execution_count": 20,
     "metadata": {},
     "output_type": "execute_result"
    }
   ],
   "source": [
    "get_latest_date_cn(symbol='V0')"
   ],
   "metadata": {
    "collapsed": false
   }
  },
  {
   "cell_type": "code",
   "execution_count": 18,
   "outputs": [
    {
     "data": {
      "text/plain": "datetime.date(2009, 5, 25)"
     },
     "execution_count": 18,
     "metadata": {},
     "output_type": "execute_result"
    }
   ],
   "source": [
    "pd.to_datetime(test['date']).dt.date[0]"
   ],
   "metadata": {
    "collapsed": false
   }
  },
  {
   "cell_type": "code",
   "execution_count": 4,
   "outputs": [
    {
     "data": {
      "text/plain": "datetime.date(2024, 2, 12)"
     },
     "execution_count": 4,
     "metadata": {},
     "output_type": "execute_result"
    }
   ],
   "source": [
    "import datetime\n",
    "\n",
    "datetime.datetime.now().date()"
   ],
   "metadata": {
    "collapsed": false
   }
  },
  {
   "cell_type": "code",
   "execution_count": 9,
   "outputs": [
    {
     "data": {
      "text/plain": "              日期   开盘价   最高价   最低价   收盘价     成交量     持仓量  动态结算价\n0     2012-05-10  6190  6196  6082  6142  259996   33726   6126\n1     2012-05-11  6110  6115  6000  6002  206804   55020   6056\n2     2012-05-14  6040  6045  5960  5977  207668   57028   5999\n3     2012-05-15  5895  5910  5711  5843  445150   82238   5813\n4     2012-05-16  5750  5786  5643  5647  599186  108376   5704\n...          ...   ...   ...   ...   ...     ...     ...    ...\n2808  2023-11-20  5940  5940  5860  5868  846816  500990   5889\n2809  2023-11-21  5838  5878  5816  5875  841583  486628   5845\n2810  2023-11-22  5855  5916  5855  5891  830459  493146   5893\n2811  2023-11-23  5897  5904  5844  5877  833145  483511   5870\n2812  2023-11-24  5871  5892  5859  5872  443618  464359   5873\n\n[2813 rows x 8 columns]",
      "text/html": "<div>\n<style scoped>\n    .dataframe tbody tr th:only-of-type {\n        vertical-align: middle;\n    }\n\n    .dataframe tbody tr th {\n        vertical-align: top;\n    }\n\n    .dataframe thead th {\n        text-align: right;\n    }\n</style>\n<table border=\"1\" class=\"dataframe\">\n  <thead>\n    <tr style=\"text-align: right;\">\n      <th></th>\n      <th>日期</th>\n      <th>开盘价</th>\n      <th>最高价</th>\n      <th>最低价</th>\n      <th>收盘价</th>\n      <th>成交量</th>\n      <th>持仓量</th>\n      <th>动态结算价</th>\n    </tr>\n  </thead>\n  <tbody>\n    <tr>\n      <th>0</th>\n      <td>2012-05-10</td>\n      <td>6190</td>\n      <td>6196</td>\n      <td>6082</td>\n      <td>6142</td>\n      <td>259996</td>\n      <td>33726</td>\n      <td>6126</td>\n    </tr>\n    <tr>\n      <th>1</th>\n      <td>2012-05-11</td>\n      <td>6110</td>\n      <td>6115</td>\n      <td>6000</td>\n      <td>6002</td>\n      <td>206804</td>\n      <td>55020</td>\n      <td>6056</td>\n    </tr>\n    <tr>\n      <th>2</th>\n      <td>2012-05-14</td>\n      <td>6040</td>\n      <td>6045</td>\n      <td>5960</td>\n      <td>5977</td>\n      <td>207668</td>\n      <td>57028</td>\n      <td>5999</td>\n    </tr>\n    <tr>\n      <th>3</th>\n      <td>2012-05-15</td>\n      <td>5895</td>\n      <td>5910</td>\n      <td>5711</td>\n      <td>5843</td>\n      <td>445150</td>\n      <td>82238</td>\n      <td>5813</td>\n    </tr>\n    <tr>\n      <th>4</th>\n      <td>2012-05-16</td>\n      <td>5750</td>\n      <td>5786</td>\n      <td>5643</td>\n      <td>5647</td>\n      <td>599186</td>\n      <td>108376</td>\n      <td>5704</td>\n    </tr>\n    <tr>\n      <th>...</th>\n      <td>...</td>\n      <td>...</td>\n      <td>...</td>\n      <td>...</td>\n      <td>...</td>\n      <td>...</td>\n      <td>...</td>\n      <td>...</td>\n    </tr>\n    <tr>\n      <th>2808</th>\n      <td>2023-11-20</td>\n      <td>5940</td>\n      <td>5940</td>\n      <td>5860</td>\n      <td>5868</td>\n      <td>846816</td>\n      <td>500990</td>\n      <td>5889</td>\n    </tr>\n    <tr>\n      <th>2809</th>\n      <td>2023-11-21</td>\n      <td>5838</td>\n      <td>5878</td>\n      <td>5816</td>\n      <td>5875</td>\n      <td>841583</td>\n      <td>486628</td>\n      <td>5845</td>\n    </tr>\n    <tr>\n      <th>2810</th>\n      <td>2023-11-22</td>\n      <td>5855</td>\n      <td>5916</td>\n      <td>5855</td>\n      <td>5891</td>\n      <td>830459</td>\n      <td>493146</td>\n      <td>5893</td>\n    </tr>\n    <tr>\n      <th>2811</th>\n      <td>2023-11-23</td>\n      <td>5897</td>\n      <td>5904</td>\n      <td>5844</td>\n      <td>5877</td>\n      <td>833145</td>\n      <td>483511</td>\n      <td>5870</td>\n    </tr>\n    <tr>\n      <th>2812</th>\n      <td>2023-11-24</td>\n      <td>5871</td>\n      <td>5892</td>\n      <td>5859</td>\n      <td>5872</td>\n      <td>443618</td>\n      <td>464359</td>\n      <td>5873</td>\n    </tr>\n  </tbody>\n</table>\n<p>2813 rows × 8 columns</p>\n</div>"
     },
     "execution_count": 9,
     "metadata": {},
     "output_type": "execute_result"
    }
   ],
   "source": [
    "PVC_data = ak.futures_main_sina(symbol='AG0')\n",
    "PVC_data"
   ],
   "metadata": {
    "collapsed": false,
    "ExecuteTime": {
     "end_time": "2023-11-25T14:29:03.277908Z",
     "start_time": "2023-11-25T14:29:02.866055Z"
    }
   },
   "id": "4164402eb6ccea33"
  },
  {
   "cell_type": "code",
   "execution_count": 3,
   "outputs": [
    {
     "data": {
      "text/plain": "            date  open  high   low  close   volume  inventory\n0     2009-05-25  6575  6630  6435   6490   107764      12278\n1     2009-05-26  6485  6540  6445   6460    38290      10562\n2     2009-05-27  6500  6535  6460   6485    34002      10346\n3     2009-06-01  6555  6595  6520   6570    26178      10352\n4     2009-06-02  6590  6590  6545   6555    13496       9388\n...          ...   ...   ...   ...    ...      ...        ...\n3515  2023-11-20  6068  6094  6005   6014   870223     770701\n3516  2023-11-21  6025  6032  5912   5915  1046568     811110\n3517  2023-11-22  5920  5947  5874   5906   716774     814395\n3518  2023-11-23  5890  5898  5781   5815   944831     840537\n3519  2023-11-24  5815  5911  5813   5901   686527     810112\n\n[3520 rows x 7 columns]",
      "text/html": "<div>\n<style scoped>\n    .dataframe tbody tr th:only-of-type {\n        vertical-align: middle;\n    }\n\n    .dataframe tbody tr th {\n        vertical-align: top;\n    }\n\n    .dataframe thead th {\n        text-align: right;\n    }\n</style>\n<table border=\"1\" class=\"dataframe\">\n  <thead>\n    <tr style=\"text-align: right;\">\n      <th></th>\n      <th>date</th>\n      <th>open</th>\n      <th>high</th>\n      <th>low</th>\n      <th>close</th>\n      <th>volume</th>\n      <th>inventory</th>\n    </tr>\n  </thead>\n  <tbody>\n    <tr>\n      <th>0</th>\n      <td>2009-05-25</td>\n      <td>6575</td>\n      <td>6630</td>\n      <td>6435</td>\n      <td>6490</td>\n      <td>107764</td>\n      <td>12278</td>\n    </tr>\n    <tr>\n      <th>1</th>\n      <td>2009-05-26</td>\n      <td>6485</td>\n      <td>6540</td>\n      <td>6445</td>\n      <td>6460</td>\n      <td>38290</td>\n      <td>10562</td>\n    </tr>\n    <tr>\n      <th>2</th>\n      <td>2009-05-27</td>\n      <td>6500</td>\n      <td>6535</td>\n      <td>6460</td>\n      <td>6485</td>\n      <td>34002</td>\n      <td>10346</td>\n    </tr>\n    <tr>\n      <th>3</th>\n      <td>2009-06-01</td>\n      <td>6555</td>\n      <td>6595</td>\n      <td>6520</td>\n      <td>6570</td>\n      <td>26178</td>\n      <td>10352</td>\n    </tr>\n    <tr>\n      <th>4</th>\n      <td>2009-06-02</td>\n      <td>6590</td>\n      <td>6590</td>\n      <td>6545</td>\n      <td>6555</td>\n      <td>13496</td>\n      <td>9388</td>\n    </tr>\n    <tr>\n      <th>...</th>\n      <td>...</td>\n      <td>...</td>\n      <td>...</td>\n      <td>...</td>\n      <td>...</td>\n      <td>...</td>\n      <td>...</td>\n    </tr>\n    <tr>\n      <th>3515</th>\n      <td>2023-11-20</td>\n      <td>6068</td>\n      <td>6094</td>\n      <td>6005</td>\n      <td>6014</td>\n      <td>870223</td>\n      <td>770701</td>\n    </tr>\n    <tr>\n      <th>3516</th>\n      <td>2023-11-21</td>\n      <td>6025</td>\n      <td>6032</td>\n      <td>5912</td>\n      <td>5915</td>\n      <td>1046568</td>\n      <td>811110</td>\n    </tr>\n    <tr>\n      <th>3517</th>\n      <td>2023-11-22</td>\n      <td>5920</td>\n      <td>5947</td>\n      <td>5874</td>\n      <td>5906</td>\n      <td>716774</td>\n      <td>814395</td>\n    </tr>\n    <tr>\n      <th>3518</th>\n      <td>2023-11-23</td>\n      <td>5890</td>\n      <td>5898</td>\n      <td>5781</td>\n      <td>5815</td>\n      <td>944831</td>\n      <td>840537</td>\n    </tr>\n    <tr>\n      <th>3519</th>\n      <td>2023-11-24</td>\n      <td>5815</td>\n      <td>5911</td>\n      <td>5813</td>\n      <td>5901</td>\n      <td>686527</td>\n      <td>810112</td>\n    </tr>\n  </tbody>\n</table>\n<p>3520 rows × 7 columns</p>\n</div>"
     },
     "execution_count": 3,
     "metadata": {},
     "output_type": "execute_result"
    }
   ],
   "source": [
    "PVC_data.rename(columns={'日期': 'date', '开盘价': 'open', '收盘价': 'close', '最高价': 'high', '最低价': 'low', '成交量': 'volume', '持仓量': 'inventory'}, inplace=True)\n",
    "PVC_data.drop(columns=['动态结算价'], inplace=True)\n",
    "PVC_data"
   ],
   "metadata": {
    "collapsed": false,
    "ExecuteTime": {
     "end_time": "2023-11-25T14:17:43.025546Z",
     "start_time": "2023-11-25T14:17:43.009765Z"
    }
   },
   "id": "d90aee23fd47a860"
  },
  {
   "cell_type": "code",
   "execution_count": 8,
   "outputs": [
    {
     "data": {
      "text/plain": "   symbol exchange   name\n12     A0      dce   豆一连续\n54    AG0     shfe   白银连续\n46    AL0     shfe    铝连续\n64    AO0     shfe  氧化铝连续\n36    AP0     czce   苹果连续\n..    ...      ...    ...\n0      V0      dce  PVC连续\n25    WH0     czce   强麦连续\n52    WR0     shfe   线材连续\n10     Y0      dce   豆油连续\n48    ZN0     shfe   沪锌连续\n\n[75 rows x 3 columns]",
      "text/html": "<div>\n<style scoped>\n    .dataframe tbody tr th:only-of-type {\n        vertical-align: middle;\n    }\n\n    .dataframe tbody tr th {\n        vertical-align: top;\n    }\n\n    .dataframe thead th {\n        text-align: right;\n    }\n</style>\n<table border=\"1\" class=\"dataframe\">\n  <thead>\n    <tr style=\"text-align: right;\">\n      <th></th>\n      <th>symbol</th>\n      <th>exchange</th>\n      <th>name</th>\n    </tr>\n  </thead>\n  <tbody>\n    <tr>\n      <th>12</th>\n      <td>A0</td>\n      <td>dce</td>\n      <td>豆一连续</td>\n    </tr>\n    <tr>\n      <th>54</th>\n      <td>AG0</td>\n      <td>shfe</td>\n      <td>白银连续</td>\n    </tr>\n    <tr>\n      <th>46</th>\n      <td>AL0</td>\n      <td>shfe</td>\n      <td>铝连续</td>\n    </tr>\n    <tr>\n      <th>64</th>\n      <td>AO0</td>\n      <td>shfe</td>\n      <td>氧化铝连续</td>\n    </tr>\n    <tr>\n      <th>36</th>\n      <td>AP0</td>\n      <td>czce</td>\n      <td>苹果连续</td>\n    </tr>\n    <tr>\n      <th>...</th>\n      <td>...</td>\n      <td>...</td>\n      <td>...</td>\n    </tr>\n    <tr>\n      <th>0</th>\n      <td>V0</td>\n      <td>dce</td>\n      <td>PVC连续</td>\n    </tr>\n    <tr>\n      <th>25</th>\n      <td>WH0</td>\n      <td>czce</td>\n      <td>强麦连续</td>\n    </tr>\n    <tr>\n      <th>52</th>\n      <td>WR0</td>\n      <td>shfe</td>\n      <td>线材连续</td>\n    </tr>\n    <tr>\n      <th>10</th>\n      <td>Y0</td>\n      <td>dce</td>\n      <td>豆油连续</td>\n    </tr>\n    <tr>\n      <th>48</th>\n      <td>ZN0</td>\n      <td>shfe</td>\n      <td>沪锌连续</td>\n    </tr>\n  </tbody>\n</table>\n<p>75 rows × 3 columns</p>\n</div>"
     },
     "execution_count": 8,
     "metadata": {},
     "output_type": "execute_result"
    }
   ],
   "source": [
    "sina_futures.sort_values(by='symbol')\n"
   ],
   "metadata": {
    "collapsed": false,
    "ExecuteTime": {
     "end_time": "2023-11-25T14:27:52.911997Z",
     "start_time": "2023-11-25T14:27:52.878774Z"
    }
   },
   "id": "ea90f7cae65ff607"
  },
  {
   "cell_type": "code",
   "execution_count": 2,
   "outputs": [
    {
     "name": "stdout",
     "output_type": "stream",
     "text": [
      "Getting links...\n"
     ]
    },
    {
     "ename": "HTTPError",
     "evalue": "HTTP Error 403: Forbidden",
     "output_type": "error",
     "traceback": [
      "\u001B[0;31m---------------------------------------------------------------------------\u001B[0m",
      "\u001B[0;31mHTTPError\u001B[0m                                 Traceback (most recent call last)",
      "Cell \u001B[0;32mIn[2], line 135\u001B[0m\n\u001B[1;32m    133\u001B[0m \u001B[38;5;66;03m# Example Usage\u001B[39;00m\n\u001B[1;32m    134\u001B[0m fomc \u001B[38;5;241m=\u001B[39m FOMC()\n\u001B[0;32m--> 135\u001B[0m df \u001B[38;5;241m=\u001B[39m \u001B[43mfomc\u001B[49m\u001B[38;5;241;43m.\u001B[39;49m\u001B[43mget_statements\u001B[49m\u001B[43m(\u001B[49m\u001B[43m)\u001B[49m\n\u001B[1;32m    136\u001B[0m df\n",
      "Cell \u001B[0;32mIn[2], line 118\u001B[0m, in \u001B[0;36mFOMC.get_statements\u001B[0;34m(self, from_year)\u001B[0m\n\u001B[1;32m    110\u001B[0m \u001B[38;5;28;01mdef\u001B[39;00m \u001B[38;5;21mget_statements\u001B[39m(\u001B[38;5;28mself\u001B[39m, from_year\u001B[38;5;241m=\u001B[39m\u001B[38;5;241m1994\u001B[39m):\n\u001B[1;32m    111\u001B[0m \u001B[38;5;250m    \u001B[39m\u001B[38;5;124;03m\"\"\"\u001B[39;00m\n\u001B[1;32m    112\u001B[0m \u001B[38;5;124;03m    Returns a Pandas DataFrame of meeting minutes with the date as the index\u001B[39;00m\n\u001B[1;32m    113\u001B[0m \u001B[38;5;124;03m    uses a date range of from_year to the most current\u001B[39;00m\n\u001B[0;32m   (...)\u001B[0m\n\u001B[1;32m    116\u001B[0m \u001B[38;5;124;03m    parsing much older years\u001B[39;00m\n\u001B[1;32m    117\u001B[0m \u001B[38;5;124;03m    \"\"\"\u001B[39;00m\n\u001B[0;32m--> 118\u001B[0m     \u001B[38;5;28;43mself\u001B[39;49m\u001B[38;5;241;43m.\u001B[39;49m\u001B[43m_get_links\u001B[49m\u001B[43m(\u001B[49m\u001B[43mfrom_year\u001B[49m\u001B[43m)\u001B[49m\n\u001B[1;32m    119\u001B[0m     \u001B[38;5;28mprint\u001B[39m(\u001B[38;5;124m\"\u001B[39m\u001B[38;5;124mThere are\u001B[39m\u001B[38;5;124m\"\u001B[39m, \u001B[38;5;28mlen\u001B[39m(\u001B[38;5;28mself\u001B[39m\u001B[38;5;241m.\u001B[39mlinks), \u001B[38;5;124m'\u001B[39m\u001B[38;5;124mstatements\u001B[39m\u001B[38;5;124m'\u001B[39m)\n\u001B[1;32m    120\u001B[0m     \u001B[38;5;28mself\u001B[39m\u001B[38;5;241m.\u001B[39m_get_articles_multi_threaded()\n",
      "Cell \u001B[0;32mIn[2], line 43\u001B[0m, in \u001B[0;36mFOMC._get_links\u001B[0;34m(self, from_year)\u001B[0m\n\u001B[1;32m     41\u001B[0m     \u001B[38;5;28mprint\u001B[39m(\u001B[38;5;124m\"\u001B[39m\u001B[38;5;124mGetting links...\u001B[39m\u001B[38;5;124m\"\u001B[39m)\n\u001B[1;32m     42\u001B[0m \u001B[38;5;28mself\u001B[39m\u001B[38;5;241m.\u001B[39mlinks \u001B[38;5;241m=\u001B[39m []\n\u001B[0;32m---> 43\u001B[0m fomc_meetings_socket \u001B[38;5;241m=\u001B[39m \u001B[43murlopen\u001B[49m\u001B[43m(\u001B[49m\u001B[38;5;28;43mself\u001B[39;49m\u001B[38;5;241;43m.\u001B[39;49m\u001B[43mcalendar_url\u001B[49m\u001B[43m)\u001B[49m\n\u001B[1;32m     44\u001B[0m soup \u001B[38;5;241m=\u001B[39m BeautifulSoup(fomc_meetings_socket, \u001B[38;5;124m'\u001B[39m\u001B[38;5;124mhtml.parser\u001B[39m\u001B[38;5;124m'\u001B[39m)\n\u001B[1;32m     46\u001B[0m statements \u001B[38;5;241m=\u001B[39m soup\u001B[38;5;241m.\u001B[39mfind_all(\u001B[38;5;124m'\u001B[39m\u001B[38;5;124ma\u001B[39m\u001B[38;5;124m'\u001B[39m, href\u001B[38;5;241m=\u001B[39mre\u001B[38;5;241m.\u001B[39mcompile(\u001B[38;5;124m'\u001B[39m\u001B[38;5;124m^/newsevents/pressreleases/monetary\u001B[39m\u001B[38;5;124m\\\u001B[39m\u001B[38;5;124md\u001B[39m\u001B[38;5;132;01m{8}\u001B[39;00m\u001B[38;5;124ma.htm\u001B[39m\u001B[38;5;124m'\u001B[39m))\n",
      "File \u001B[0;32m/Library/Frameworks/Python.framework/Versions/3.9/lib/python3.9/urllib/request.py:214\u001B[0m, in \u001B[0;36murlopen\u001B[0;34m(url, data, timeout, cafile, capath, cadefault, context)\u001B[0m\n\u001B[1;32m    212\u001B[0m \u001B[38;5;28;01melse\u001B[39;00m:\n\u001B[1;32m    213\u001B[0m     opener \u001B[38;5;241m=\u001B[39m _opener\n\u001B[0;32m--> 214\u001B[0m \u001B[38;5;28;01mreturn\u001B[39;00m \u001B[43mopener\u001B[49m\u001B[38;5;241;43m.\u001B[39;49m\u001B[43mopen\u001B[49m\u001B[43m(\u001B[49m\u001B[43murl\u001B[49m\u001B[43m,\u001B[49m\u001B[43m \u001B[49m\u001B[43mdata\u001B[49m\u001B[43m,\u001B[49m\u001B[43m \u001B[49m\u001B[43mtimeout\u001B[49m\u001B[43m)\u001B[49m\n",
      "File \u001B[0;32m/Library/Frameworks/Python.framework/Versions/3.9/lib/python3.9/urllib/request.py:523\u001B[0m, in \u001B[0;36mOpenerDirector.open\u001B[0;34m(self, fullurl, data, timeout)\u001B[0m\n\u001B[1;32m    521\u001B[0m \u001B[38;5;28;01mfor\u001B[39;00m processor \u001B[38;5;129;01min\u001B[39;00m \u001B[38;5;28mself\u001B[39m\u001B[38;5;241m.\u001B[39mprocess_response\u001B[38;5;241m.\u001B[39mget(protocol, []):\n\u001B[1;32m    522\u001B[0m     meth \u001B[38;5;241m=\u001B[39m \u001B[38;5;28mgetattr\u001B[39m(processor, meth_name)\n\u001B[0;32m--> 523\u001B[0m     response \u001B[38;5;241m=\u001B[39m \u001B[43mmeth\u001B[49m\u001B[43m(\u001B[49m\u001B[43mreq\u001B[49m\u001B[43m,\u001B[49m\u001B[43m \u001B[49m\u001B[43mresponse\u001B[49m\u001B[43m)\u001B[49m\n\u001B[1;32m    525\u001B[0m \u001B[38;5;28;01mreturn\u001B[39;00m response\n",
      "File \u001B[0;32m/Library/Frameworks/Python.framework/Versions/3.9/lib/python3.9/urllib/request.py:632\u001B[0m, in \u001B[0;36mHTTPErrorProcessor.http_response\u001B[0;34m(self, request, response)\u001B[0m\n\u001B[1;32m    629\u001B[0m \u001B[38;5;66;03m# According to RFC 2616, \"2xx\" code indicates that the client's\u001B[39;00m\n\u001B[1;32m    630\u001B[0m \u001B[38;5;66;03m# request was successfully received, understood, and accepted.\u001B[39;00m\n\u001B[1;32m    631\u001B[0m \u001B[38;5;28;01mif\u001B[39;00m \u001B[38;5;129;01mnot\u001B[39;00m (\u001B[38;5;241m200\u001B[39m \u001B[38;5;241m<\u001B[39m\u001B[38;5;241m=\u001B[39m code \u001B[38;5;241m<\u001B[39m \u001B[38;5;241m300\u001B[39m):\n\u001B[0;32m--> 632\u001B[0m     response \u001B[38;5;241m=\u001B[39m \u001B[38;5;28;43mself\u001B[39;49m\u001B[38;5;241;43m.\u001B[39;49m\u001B[43mparent\u001B[49m\u001B[38;5;241;43m.\u001B[39;49m\u001B[43merror\u001B[49m\u001B[43m(\u001B[49m\n\u001B[1;32m    633\u001B[0m \u001B[43m        \u001B[49m\u001B[38;5;124;43m'\u001B[39;49m\u001B[38;5;124;43mhttp\u001B[39;49m\u001B[38;5;124;43m'\u001B[39;49m\u001B[43m,\u001B[49m\u001B[43m \u001B[49m\u001B[43mrequest\u001B[49m\u001B[43m,\u001B[49m\u001B[43m \u001B[49m\u001B[43mresponse\u001B[49m\u001B[43m,\u001B[49m\u001B[43m \u001B[49m\u001B[43mcode\u001B[49m\u001B[43m,\u001B[49m\u001B[43m \u001B[49m\u001B[43mmsg\u001B[49m\u001B[43m,\u001B[49m\u001B[43m \u001B[49m\u001B[43mhdrs\u001B[49m\u001B[43m)\u001B[49m\n\u001B[1;32m    635\u001B[0m \u001B[38;5;28;01mreturn\u001B[39;00m response\n",
      "File \u001B[0;32m/Library/Frameworks/Python.framework/Versions/3.9/lib/python3.9/urllib/request.py:561\u001B[0m, in \u001B[0;36mOpenerDirector.error\u001B[0;34m(self, proto, *args)\u001B[0m\n\u001B[1;32m    559\u001B[0m \u001B[38;5;28;01mif\u001B[39;00m http_err:\n\u001B[1;32m    560\u001B[0m     args \u001B[38;5;241m=\u001B[39m (\u001B[38;5;28mdict\u001B[39m, \u001B[38;5;124m'\u001B[39m\u001B[38;5;124mdefault\u001B[39m\u001B[38;5;124m'\u001B[39m, \u001B[38;5;124m'\u001B[39m\u001B[38;5;124mhttp_error_default\u001B[39m\u001B[38;5;124m'\u001B[39m) \u001B[38;5;241m+\u001B[39m orig_args\n\u001B[0;32m--> 561\u001B[0m     \u001B[38;5;28;01mreturn\u001B[39;00m \u001B[38;5;28;43mself\u001B[39;49m\u001B[38;5;241;43m.\u001B[39;49m\u001B[43m_call_chain\u001B[49m\u001B[43m(\u001B[49m\u001B[38;5;241;43m*\u001B[39;49m\u001B[43margs\u001B[49m\u001B[43m)\u001B[49m\n",
      "File \u001B[0;32m/Library/Frameworks/Python.framework/Versions/3.9/lib/python3.9/urllib/request.py:494\u001B[0m, in \u001B[0;36mOpenerDirector._call_chain\u001B[0;34m(self, chain, kind, meth_name, *args)\u001B[0m\n\u001B[1;32m    492\u001B[0m \u001B[38;5;28;01mfor\u001B[39;00m handler \u001B[38;5;129;01min\u001B[39;00m handlers:\n\u001B[1;32m    493\u001B[0m     func \u001B[38;5;241m=\u001B[39m \u001B[38;5;28mgetattr\u001B[39m(handler, meth_name)\n\u001B[0;32m--> 494\u001B[0m     result \u001B[38;5;241m=\u001B[39m \u001B[43mfunc\u001B[49m\u001B[43m(\u001B[49m\u001B[38;5;241;43m*\u001B[39;49m\u001B[43margs\u001B[49m\u001B[43m)\u001B[49m\n\u001B[1;32m    495\u001B[0m     \u001B[38;5;28;01mif\u001B[39;00m result \u001B[38;5;129;01mis\u001B[39;00m \u001B[38;5;129;01mnot\u001B[39;00m \u001B[38;5;28;01mNone\u001B[39;00m:\n\u001B[1;32m    496\u001B[0m         \u001B[38;5;28;01mreturn\u001B[39;00m result\n",
      "File \u001B[0;32m/Library/Frameworks/Python.framework/Versions/3.9/lib/python3.9/urllib/request.py:641\u001B[0m, in \u001B[0;36mHTTPDefaultErrorHandler.http_error_default\u001B[0;34m(self, req, fp, code, msg, hdrs)\u001B[0m\n\u001B[1;32m    640\u001B[0m \u001B[38;5;28;01mdef\u001B[39;00m \u001B[38;5;21mhttp_error_default\u001B[39m(\u001B[38;5;28mself\u001B[39m, req, fp, code, msg, hdrs):\n\u001B[0;32m--> 641\u001B[0m     \u001B[38;5;28;01mraise\u001B[39;00m HTTPError(req\u001B[38;5;241m.\u001B[39mfull_url, code, msg, hdrs, fp)\n",
      "\u001B[0;31mHTTPError\u001B[0m: HTTP Error 403: Forbidden"
     ]
    }
   ],
   "source": [
    "from bs4 import BeautifulSoup\n",
    "from urllib.request import urlopen\n",
    "import re\n",
    "import pandas as pd\n",
    "import pickle\n",
    "import threading\n",
    "import sys\n",
    "\n",
    "\n",
    "class FOMC(object):\n",
    "    \"\"\"\n",
    "    A convenient class for extracting meeting minutes from the FOMC website\n",
    "    Example Usage:\n",
    "        fomc = FOMC()\n",
    "        df = fomc.get_statements()\n",
    "        fomc.pickle(\"./df_minutes.pickle\")\n",
    "    \"\"\"\n",
    "\n",
    "    def __init__(self, base_url='https://www.federalreserve.gov',\n",
    "                 calendar_url='https://www.federalreserve.gov/monetarypolicy/fomccalendars.htm',\n",
    "                 historical_date=2011,\n",
    "                 verbose=True,\n",
    "                 max_threads=10):\n",
    "\n",
    "        self.base_url = base_url\n",
    "        self.calendar_url = calendar_url\n",
    "        self.df = None\n",
    "        self.links = None\n",
    "        self.dates = None\n",
    "        self.articles = None\n",
    "        self.verbose = verbose\n",
    "        self.HISTORICAL_DATE = historical_date\n",
    "        self.MAX_THREADS = max_threads\n",
    "\n",
    "    def _get_links(self, from_year):\n",
    "        \"\"\"\n",
    "        private function that sets all the links for the FOMC meetings from the giving from_year\n",
    "        to the current most recent year\n",
    "        \"\"\"\n",
    "        if self.verbose:\n",
    "            print(\"Getting links...\")\n",
    "        self.links = []\n",
    "        fomc_meetings_socket = urlopen(self.calendar_url)\n",
    "        soup = BeautifulSoup(fomc_meetings_socket, 'html.parser')\n",
    "\n",
    "        statements = soup.find_all('a', href=re.compile('^/newsevents/pressreleases/monetary\\d{8}a.htm'))\n",
    "        self.links = [statement.attrs['href'] for statement in statements]\n",
    "\n",
    "        if from_year <= self.HISTORICAL_DATE:\n",
    "            for year in range(from_year, self.HISTORICAL_DATE + 1):\n",
    "                fomc_yearly_url = self.base_url + '/monetarypolicy/fomchistorical' + str(year) + '.htm'\n",
    "                fomc_yearly_socket = urlopen(fomc_yearly_url)\n",
    "                soup_yearly = BeautifulSoup(fomc_yearly_socket, 'html.parser')\n",
    "                statements_historical = soup_yearly.findAll('a', text='Statement')\n",
    "                for statement_historical in statements_historical:\n",
    "                    self.links.append(statement_historical.attrs['href'])\n",
    "\n",
    "    def _date_from_link(self, link):\n",
    "        date = re.findall('[0-9]{8}', link)[0]\n",
    "        if date[4] == '0':\n",
    "            date = \"{}/{}/{}\".format(date[:4], date[5:6], date[6:])\n",
    "        else:\n",
    "            date = \"{}/{}/{}\".format(date[:4], date[4:6], date[6:])\n",
    "        return date\n",
    "\n",
    "    def _add_article(self, link, index=None):\n",
    "        \"\"\"\n",
    "        adds the related article for 1 link into the instance variable\n",
    "        index is the index in the article to add to. Due to concurrent\n",
    "        processing, we need to make sure the articles are stored in the\n",
    "        right order\n",
    "        \"\"\"\n",
    "        if self.verbose:\n",
    "            sys.stdout.write(\".\")\n",
    "            sys.stdout.flush()\n",
    "\n",
    "        # date of the article content\n",
    "        self.dates.append(self._date_from_link(link))\n",
    "        statement_socket = urlopen(self.base_url + link)\n",
    "        statement = BeautifulSoup(statement_socket, 'html.parser')\n",
    "        paragraphs = statement.findAll('p')\n",
    "        self.articles[index] = \"\\n\\n\".join([paragraph.get_text().strip() for paragraph in paragraphs])\n",
    "\n",
    "    def _get_articles_multi_threaded(self):\n",
    "        \"\"\"\n",
    "        gets all articles using multi-threading\n",
    "        \"\"\"\n",
    "        if self.verbose:\n",
    "            print(\"Getting articles - Multi-threaded...\")\n",
    "\n",
    "        self.dates, self.articles = [], [''] * len(self.links)\n",
    "        jobs = []\n",
    "        # initiate and start threads:\n",
    "        index = 0\n",
    "        while index < len(self.links):\n",
    "            if len(jobs) < self.MAX_THREADS:\n",
    "                t = threading.Thread(target=self._add_article, args=(self.links[index], index,))\n",
    "                jobs.append(t)\n",
    "                t.start()\n",
    "                index += 1\n",
    "            else:  # wait for threads to complete and join them back into the main thread\n",
    "                t = jobs.pop(0)\n",
    "                t.join()\n",
    "        for t in jobs:\n",
    "            t.join()\n",
    "\n",
    "        for row in range(len(self.articles)):\n",
    "            self.articles[row] = self.articles[row].strip()\n",
    "\n",
    "    def get_statements(self, from_year=1994):\n",
    "        \"\"\"\n",
    "        Returns a Pandas DataFrame of meeting minutes with the date as the index\n",
    "        uses a date range of from_year to the most current\n",
    "\n",
    "        Input from_year is ignored if it is within the last 5 years as this is meant for\n",
    "        parsing much older years\n",
    "        \"\"\"\n",
    "        self._get_links(from_year)\n",
    "        print(\"There are\", len(self.links), 'statements')\n",
    "        self._get_articles_multi_threaded()\n",
    "\n",
    "        self.df = pd.DataFrame(self.articles, index=pd.to_datetime(self.dates)).sort_index()\n",
    "        self.df.columns = ['statements']\n",
    "        return self.df\n",
    "\n",
    "    def pick_df(self, filename=\"../data/minutes.pickle\"):\n",
    "        if filename:\n",
    "            if self.verbose:\n",
    "                print(\"Writing to\", filename)\n",
    "            with open(filename, \"wb\") as output_file:\n",
    "                pickle.dump(self.df, output_file)\n",
    "\n",
    "# Example Usage\n",
    "fomc = FOMC()\n",
    "df = fomc.get_statements()\n",
    "df"
   ],
   "metadata": {
    "collapsed": false,
    "ExecuteTime": {
     "end_time": "2023-11-29T02:26:34.795138Z",
     "start_time": "2023-11-29T02:26:32.800026Z"
    }
   },
   "id": "e3f1384a898447c4"
  },
  {
   "cell_type": "code",
   "execution_count": null,
   "outputs": [],
   "source": [],
   "metadata": {
    "collapsed": false
   },
   "id": "2a624ff251fb2546"
  }
 ],
 "metadata": {
  "kernelspec": {
   "display_name": "Python 3",
   "language": "python",
   "name": "python3"
  },
  "language_info": {
   "codemirror_mode": {
    "name": "ipython",
    "version": 2
   },
   "file_extension": ".py",
   "mimetype": "text/x-python",
   "name": "python",
   "nbconvert_exporter": "python",
   "pygments_lexer": "ipython2",
   "version": "2.7.6"
  }
 },
 "nbformat": 4,
 "nbformat_minor": 5
}
